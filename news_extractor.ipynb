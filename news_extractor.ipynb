{
 "cells": [
  {
   "cell_type": "code",
   "execution_count": 63,
   "id": "089c10f2-69b8-4e77-95fc-6d1899c613be",
   "metadata": {
    "tags": []
   },
   "outputs": [],
   "source": [
    "import sys"
   ]
  },
  {
   "cell_type": "code",
   "execution_count": null,
   "id": "2b4ea787-033a-4104-8e19-bd1ccdd70498",
   "metadata": {},
   "outputs": [],
   "source": [
    "!{sys.executable} -m pip install GoogleNews"
   ]
  },
  {
   "cell_type": "code",
   "execution_count": 45,
   "id": "2caf094d-8789-4d49-b0fb-423a157b6f41",
   "metadata": {
    "tags": []
   },
   "outputs": [
    {
     "name": "stdout",
     "output_type": "stream",
     "text": [
      "\u001b[33mDEPRECATION: Configuring installation scheme with distutils config files is deprecated and will no longer work in the near future. If you are using a Homebrew or Linuxbrew Python, please see discussion at https://github.com/Homebrew/homebrew-core/issues/76621\u001b[0m\u001b[33m\n",
      "\u001b[0mRequirement already satisfied: beautifulsoup4 in /usr/local/lib/python3.9/site-packages (4.11.1)\n",
      "Requirement already satisfied: soupsieve>1.2 in /usr/local/lib/python3.9/site-packages (from beautifulsoup4) (2.3.2.post1)\n",
      "\u001b[33mDEPRECATION: Configuring installation scheme with distutils config files is deprecated and will no longer work in the near future. If you are using a Homebrew or Linuxbrew Python, please see discussion at https://github.com/Homebrew/homebrew-core/issues/76621\u001b[0m\u001b[33m\n",
      "\u001b[0m"
     ]
    }
   ],
   "source": [
    "!{sys.executable} -m pip install beautifulsoup4"
   ]
  },
  {
   "cell_type": "code",
   "execution_count": 43,
   "id": "d4fc9e55-21ee-4b01-bfd9-6458507f5abf",
   "metadata": {},
   "outputs": [
    {
     "name": "stdout",
     "output_type": "stream",
     "text": [
      "zsh:1: parse error near `-m'\n"
     ]
    }
   ],
   "source": [
    "!{sys.executable} -m pip install news-please"
   ]
  },
  {
   "cell_type": "code",
   "execution_count": 46,
   "id": "e20346fe-89a2-4bbe-a1a5-aa1b35cad91e",
   "metadata": {
    "collapsed": true,
    "jupyter": {
     "outputs_hidden": true
    },
    "tags": []
   },
   "outputs": [
    {
     "name": "stdout",
     "output_type": "stream",
     "text": [
      "\u001b[33mDEPRECATION: Configuring installation scheme with distutils config files is deprecated and will no longer work in the near future. If you are using a Homebrew or Linuxbrew Python, please see discussion at https://github.com/Homebrew/homebrew-core/issues/76621\u001b[0m\u001b[33m\n",
      "\u001b[0mCollecting gensim\n",
      "  Downloading gensim-4.3.0-cp39-cp39-macosx_10_9_x86_64.whl (24.0 MB)\n",
      "\u001b[2K     \u001b[38;2;114;156;31m━━━━━━━━━━━━━━━━━━━━━━━━━━━━━━━━━━━━━━━━\u001b[0m \u001b[32m24.0/24.0 MB\u001b[0m \u001b[31m9.3 MB/s\u001b[0m eta \u001b[36m0:00:00\u001b[0m0m eta \u001b[36m0:00:01\u001b[0m0:01\u001b[0m:01\u001b[0m\n",
      "\u001b[?25hCollecting smart-open>=1.8.1\n",
      "  Downloading smart_open-6.3.0-py3-none-any.whl (56 kB)\n",
      "\u001b[2K     \u001b[38;2;114;156;31m━━━━━━━━━━━━━━━━━━━━━━━━━━━━━━━━━━━━━━━━\u001b[0m \u001b[32m56.8/56.8 kB\u001b[0m \u001b[31m1.9 MB/s\u001b[0m eta \u001b[36m0:00:00\u001b[0m\n",
      "\u001b[?25hRequirement already satisfied: numpy>=1.18.5 in /usr/local/lib/python3.9/site-packages (from gensim) (1.23.3)\n",
      "Collecting FuzzyTM>=0.4.0\n",
      "  Downloading FuzzyTM-2.0.5-py3-none-any.whl (29 kB)\n",
      "Requirement already satisfied: scipy>=1.7.0 in /usr/local/lib/python3.9/site-packages (from gensim) (1.9.3)\n",
      "Collecting pyfume\n",
      "  Downloading pyFUME-0.2.25-py3-none-any.whl (67 kB)\n",
      "\u001b[2K     \u001b[38;2;114;156;31m━━━━━━━━━━━━━━━━━━━━━━━━━━━━━━━━━━━━━━━━\u001b[0m \u001b[32m67.1/67.1 kB\u001b[0m \u001b[31m2.0 MB/s\u001b[0m eta \u001b[36m0:00:00\u001b[0m\n",
      "\u001b[?25hRequirement already satisfied: pandas in /usr/local/lib/python3.9/site-packages (from FuzzyTM>=0.4.0->gensim) (1.5.1)\n",
      "Requirement already satisfied: python-dateutil>=2.8.1 in /usr/local/lib/python3.9/site-packages (from pandas->FuzzyTM>=0.4.0->gensim) (2.8.2)\n",
      "Requirement already satisfied: pytz>=2020.1 in /usr/local/lib/python3.9/site-packages (from pandas->FuzzyTM>=0.4.0->gensim) (2022.1)\n",
      "Collecting simpful\n",
      "  Downloading simpful-2.9.0-py3-none-any.whl (30 kB)\n",
      "Collecting fst-pso\n",
      "  Downloading fst-pso-1.8.1.tar.gz (18 kB)\n",
      "  Preparing metadata (setup.py) ... \u001b[?25ldone\n",
      "\u001b[?25hRequirement already satisfied: six>=1.5 in /usr/local/lib/python3.9/site-packages (from python-dateutil>=2.8.1->pandas->FuzzyTM>=0.4.0->gensim) (1.16.0)\n",
      "Collecting miniful\n",
      "  Downloading miniful-0.0.6.tar.gz (2.8 kB)\n",
      "  Preparing metadata (setup.py) ... \u001b[?25ldone\n",
      "\u001b[?25hRequirement already satisfied: requests in /usr/local/lib/python3.9/site-packages (from simpful->pyfume->FuzzyTM>=0.4.0->gensim) (2.27.1)\n",
      "Requirement already satisfied: charset-normalizer~=2.0.0 in /usr/local/lib/python3.9/site-packages (from requests->simpful->pyfume->FuzzyTM>=0.4.0->gensim) (2.0.12)\n",
      "Requirement already satisfied: idna<4,>=2.5 in /usr/local/lib/python3.9/site-packages (from requests->simpful->pyfume->FuzzyTM>=0.4.0->gensim) (3.3)\n",
      "Requirement already satisfied: urllib3<1.27,>=1.21.1 in /usr/local/lib/python3.9/site-packages (from requests->simpful->pyfume->FuzzyTM>=0.4.0->gensim) (1.26.9)\n",
      "Requirement already satisfied: certifi>=2017.4.17 in /usr/local/lib/python3.9/site-packages (from requests->simpful->pyfume->FuzzyTM>=0.4.0->gensim) (2021.10.8)\n",
      "Building wheels for collected packages: fst-pso, miniful\n",
      "  Building wheel for fst-pso (setup.py) ... \u001b[?25ldone\n",
      "\u001b[?25h  Created wheel for fst-pso: filename=fst_pso-1.8.1-py3-none-any.whl size=20444 sha256=6b1d44c73c3bbf2a235a242e964dc9b09f626e72daec1c5b144b73f120b9931c\n",
      "  Stored in directory: /Users/josephbak/Library/Caches/pip/wheels/d7/1e/9c/3c352867b1bb1ddba0e51149a0d06c1e50c1c9b1c5ebcac787\n",
      "  Building wheel for miniful (setup.py) ... \u001b[?25ldone\n",
      "\u001b[?25h  Created wheel for miniful: filename=miniful-0.0.6-py3-none-any.whl size=3529 sha256=71986b9194ed57e41a708449be9e57d91f0c83a8a0bedc404412f9a3f7d886b5\n",
      "  Stored in directory: /Users/josephbak/Library/Caches/pip/wheels/37/45/a2/db878712db97aaab6f574d750789bc6c99e3b706af8af6b936\n",
      "Successfully built fst-pso miniful\n",
      "Installing collected packages: smart-open, simpful, miniful, fst-pso, pyfume, FuzzyTM, gensim\n",
      "\u001b[33m  DEPRECATION: Configuring installation scheme with distutils config files is deprecated and will no longer work in the near future. If you are using a Homebrew or Linuxbrew Python, please see discussion at https://github.com/Homebrew/homebrew-core/issues/76621\u001b[0m\u001b[33m\n",
      "\u001b[0m\u001b[33m  DEPRECATION: Configuring installation scheme with distutils config files is deprecated and will no longer work in the near future. If you are using a Homebrew or Linuxbrew Python, please see discussion at https://github.com/Homebrew/homebrew-core/issues/76621\u001b[0m\u001b[33m\n",
      "\u001b[0m\u001b[33m  DEPRECATION: Configuring installation scheme with distutils config files is deprecated and will no longer work in the near future. If you are using a Homebrew or Linuxbrew Python, please see discussion at https://github.com/Homebrew/homebrew-core/issues/76621\u001b[0m\u001b[33m\n",
      "\u001b[0m\u001b[33m  DEPRECATION: Configuring installation scheme with distutils config files is deprecated and will no longer work in the near future. If you are using a Homebrew or Linuxbrew Python, please see discussion at https://github.com/Homebrew/homebrew-core/issues/76621\u001b[0m\u001b[33m\n",
      "\u001b[0m\u001b[33m  DEPRECATION: Configuring installation scheme with distutils config files is deprecated and will no longer work in the near future. If you are using a Homebrew or Linuxbrew Python, please see discussion at https://github.com/Homebrew/homebrew-core/issues/76621\u001b[0m\u001b[33m\n",
      "\u001b[0m\u001b[33m  DEPRECATION: Configuring installation scheme with distutils config files is deprecated and will no longer work in the near future. If you are using a Homebrew or Linuxbrew Python, please see discussion at https://github.com/Homebrew/homebrew-core/issues/76621\u001b[0m\u001b[33m\n",
      "\u001b[0m\u001b[33m  DEPRECATION: Configuring installation scheme with distutils config files is deprecated and will no longer work in the near future. If you are using a Homebrew or Linuxbrew Python, please see discussion at https://github.com/Homebrew/homebrew-core/issues/76621\u001b[0m\u001b[33m\n",
      "\u001b[0m\u001b[33mDEPRECATION: Configuring installation scheme with distutils config files is deprecated and will no longer work in the near future. If you are using a Homebrew or Linuxbrew Python, please see discussion at https://github.com/Homebrew/homebrew-core/issues/76621\u001b[0m\u001b[33m\n",
      "\u001b[0mSuccessfully installed FuzzyTM-2.0.5 fst-pso-1.8.1 gensim-4.3.0 miniful-0.0.6 pyfume-0.2.25 simpful-2.9.0 smart-open-6.3.0\n"
     ]
    }
   ],
   "source": [
    "!{sys.executable} -m pip install gensim"
   ]
  },
  {
   "cell_type": "code",
   "execution_count": 52,
   "id": "74f93e98-65d2-4c46-ae36-4c4fdf5bee1a",
   "metadata": {
    "collapsed": true,
    "jupyter": {
     "outputs_hidden": true
    },
    "tags": []
   },
   "outputs": [
    {
     "name": "stdout",
     "output_type": "stream",
     "text": [
      "\u001b[33mDEPRECATION: Configuring installation scheme with distutils config files is deprecated and will no longer work in the near future. If you are using a Homebrew or Linuxbrew Python, please see discussion at https://github.com/Homebrew/homebrew-core/issues/76621\u001b[0m\u001b[33m\n",
      "\u001b[0mCollecting summa\n",
      "  Downloading summa-1.2.0.tar.gz (54 kB)\n",
      "\u001b[2K     \u001b[38;2;114;156;31m━━━━━━━━━━━━━━━━━━━━━━━━━━━━━━━━━━━━━━━━\u001b[0m \u001b[32m54.9/54.9 kB\u001b[0m \u001b[31m1.1 MB/s\u001b[0m eta \u001b[36m0:00:00\u001b[0m MB/s\u001b[0m eta \u001b[36m0:00:01\u001b[0m\n",
      "\u001b[?25h  Preparing metadata (setup.py) ... \u001b[?25ldone\n",
      "\u001b[?25hRequirement already satisfied: scipy>=0.19 in /usr/local/lib/python3.9/site-packages (from summa) (1.9.3)\n",
      "Requirement already satisfied: numpy<1.26.0,>=1.18.5 in /usr/local/lib/python3.9/site-packages (from scipy>=0.19->summa) (1.23.3)\n",
      "Building wheels for collected packages: summa\n",
      "  Building wheel for summa (setup.py) ... \u001b[?25ldone\n",
      "\u001b[?25h  Created wheel for summa: filename=summa-1.2.0-py3-none-any.whl size=54411 sha256=9b341ee58a21de2fb40c0e97a7a9f1c16aa369f208efec0095d8643f9cacc989\n",
      "  Stored in directory: /Users/josephbak/Library/Caches/pip/wheels/55/a7/39/101e558b91aa3d5c02f3aca887a3abf9b3650005bbb99fbb95\n",
      "Successfully built summa\n",
      "Installing collected packages: summa\n",
      "\u001b[33m  DEPRECATION: Configuring installation scheme with distutils config files is deprecated and will no longer work in the near future. If you are using a Homebrew or Linuxbrew Python, please see discussion at https://github.com/Homebrew/homebrew-core/issues/76621\u001b[0m\u001b[33m\n",
      "\u001b[0m\u001b[33mDEPRECATION: Configuring installation scheme with distutils config files is deprecated and will no longer work in the near future. If you are using a Homebrew or Linuxbrew Python, please see discussion at https://github.com/Homebrew/homebrew-core/issues/76621\u001b[0m\u001b[33m\n",
      "\u001b[0mSuccessfully installed summa-1.2.0\n"
     ]
    }
   ],
   "source": [
    "!{sys.executable} -m pip install summa"
   ]
  },
  {
   "cell_type": "code",
   "execution_count": 48,
   "id": "ad49a4c4-c99b-4e05-9d16-adf46d6b4724",
   "metadata": {
    "collapsed": true,
    "jupyter": {
     "outputs_hidden": true
    },
    "tags": []
   },
   "outputs": [
    {
     "name": "stdout",
     "output_type": "stream",
     "text": [
      "\u001b[33mDEPRECATION: Configuring installation scheme with distutils config files is deprecated and will no longer work in the near future. If you are using a Homebrew or Linuxbrew Python, please see discussion at https://github.com/Homebrew/homebrew-core/issues/76621\u001b[0m\u001b[33m\n",
      "\u001b[0mCollecting sumy\n",
      "  Downloading sumy-0.11.0-py2.py3-none-any.whl (97 kB)\n",
      "\u001b[2K     \u001b[38;2;114;156;31m━━━━━━━━━━━━━━━━━━━━━━━━━━━━━━━━━━━━━━━━\u001b[0m \u001b[32m97.3/97.3 kB\u001b[0m \u001b[31m1.8 MB/s\u001b[0m eta \u001b[36m0:00:00\u001b[0m[31m3.7 MB/s\u001b[0m eta \u001b[36m0:00:01\u001b[0m\n",
      "\u001b[?25hRequirement already satisfied: nltk>=3.0.2 in /usr/local/lib/python3.9/site-packages (from sumy) (3.8.1)\n",
      "Collecting breadability>=0.1.20\n",
      "  Using cached breadability-0.1.20.tar.gz (32 kB)\n",
      "  Preparing metadata (setup.py) ... \u001b[?25ldone\n",
      "\u001b[?25hRequirement already satisfied: requests>=2.7.0 in /usr/local/lib/python3.9/site-packages (from sumy) (2.27.1)\n",
      "Collecting docopt<0.7,>=0.6.1\n",
      "  Using cached docopt-0.6.2.tar.gz (25 kB)\n",
      "  Preparing metadata (setup.py) ... \u001b[?25ldone\n",
      "\u001b[?25hCollecting pycountry>=18.2.23\n",
      "  Using cached pycountry-22.3.5.tar.gz (10.1 MB)\n",
      "  Installing build dependencies ... \u001b[?25ldone\n",
      "\u001b[?25h  Getting requirements to build wheel ... \u001b[?25ldone\n",
      "\u001b[?25h  Preparing metadata (pyproject.toml) ... \u001b[?25ldone\n",
      "\u001b[?25hRequirement already satisfied: chardet in /usr/local/lib/python3.9/site-packages (from breadability>=0.1.20->sumy) (5.1.0)\n",
      "Requirement already satisfied: lxml>=2.0 in /usr/local/lib/python3.9/site-packages (from breadability>=0.1.20->sumy) (4.9.1)\n",
      "Requirement already satisfied: tqdm in /usr/local/lib/python3.9/site-packages (from nltk>=3.0.2->sumy) (4.64.1)\n",
      "Requirement already satisfied: click in /usr/local/lib/python3.9/site-packages (from nltk>=3.0.2->sumy) (8.1.3)\n",
      "Requirement already satisfied: joblib in /usr/local/lib/python3.9/site-packages (from nltk>=3.0.2->sumy) (1.2.0)\n",
      "Requirement already satisfied: regex>=2021.8.3 in /usr/local/lib/python3.9/site-packages (from nltk>=3.0.2->sumy) (2022.10.31)\n",
      "Requirement already satisfied: setuptools in /usr/local/lib/python3.9/site-packages (from pycountry>=18.2.23->sumy) (60.10.0)\n",
      "Requirement already satisfied: charset-normalizer~=2.0.0 in /usr/local/lib/python3.9/site-packages (from requests>=2.7.0->sumy) (2.0.12)\n",
      "Requirement already satisfied: idna<4,>=2.5 in /usr/local/lib/python3.9/site-packages (from requests>=2.7.0->sumy) (3.3)\n",
      "Requirement already satisfied: urllib3<1.27,>=1.21.1 in /usr/local/lib/python3.9/site-packages (from requests>=2.7.0->sumy) (1.26.9)\n",
      "Requirement already satisfied: certifi>=2017.4.17 in /usr/local/lib/python3.9/site-packages (from requests>=2.7.0->sumy) (2021.10.8)\n",
      "Building wheels for collected packages: breadability, docopt, pycountry\n",
      "  Building wheel for breadability (setup.py) ... \u001b[?25ldone\n",
      "\u001b[?25h  Created wheel for breadability: filename=breadability-0.1.20-py2.py3-none-any.whl size=21712 sha256=f792f1a7030a1b9d6f8f06fe915077b58d2af9195bff99e4a61e995ef86ee624\n",
      "  Stored in directory: /Users/josephbak/Library/Caches/pip/wheels/a3/54/93/5ee986869eff19018d2b18012d2020e3f11e03998814a89400\n",
      "  Building wheel for docopt (setup.py) ... \u001b[?25ldone\n",
      "\u001b[?25h  Created wheel for docopt: filename=docopt-0.6.2-py2.py3-none-any.whl size=13723 sha256=380ccb78850954ba7ba94bf4a8281f9a3ac9df43d315f5fdf3d52437573e0008\n",
      "  Stored in directory: /Users/josephbak/Library/Caches/pip/wheels/4e/29/5e/e5f6f558e24e0d70f6808e3e8fdaf2c04ff597233098afc550\n",
      "  Building wheel for pycountry (pyproject.toml) ... \u001b[?25ldone\n",
      "\u001b[?25h  Created wheel for pycountry: filename=pycountry-22.3.5-py2.py3-none-any.whl size=10681832 sha256=cb998084eb06072cf5b8541fb6dea4f16c5abee774c666a1c35248fc6114ad98\n",
      "  Stored in directory: /Users/josephbak/Library/Caches/pip/wheels/2a/bf/ee/5d97ac1436ea1c4cae0151bf814a663125b63131d9b1b12ae7\n",
      "Successfully built breadability docopt pycountry\n",
      "Installing collected packages: docopt, pycountry, breadability, sumy\n",
      "\u001b[33m  DEPRECATION: Configuring installation scheme with distutils config files is deprecated and will no longer work in the near future. If you are using a Homebrew or Linuxbrew Python, please see discussion at https://github.com/Homebrew/homebrew-core/issues/76621\u001b[0m\u001b[33m\n",
      "\u001b[0m\u001b[33m  DEPRECATION: Configuring installation scheme with distutils config files is deprecated and will no longer work in the near future. If you are using a Homebrew or Linuxbrew Python, please see discussion at https://github.com/Homebrew/homebrew-core/issues/76621\u001b[0m\u001b[33m\n",
      "\u001b[0m\u001b[33m  DEPRECATION: Configuring installation scheme with distutils config files is deprecated and will no longer work in the near future. If you are using a Homebrew or Linuxbrew Python, please see discussion at https://github.com/Homebrew/homebrew-core/issues/76621\u001b[0m\u001b[33m\n",
      "\u001b[0m\u001b[33m  DEPRECATION: Configuring installation scheme with distutils config files is deprecated and will no longer work in the near future. If you are using a Homebrew or Linuxbrew Python, please see discussion at https://github.com/Homebrew/homebrew-core/issues/76621\u001b[0m\u001b[33m\n",
      "\u001b[0m\u001b[33mDEPRECATION: Configuring installation scheme with distutils config files is deprecated and will no longer work in the near future. If you are using a Homebrew or Linuxbrew Python, please see discussion at https://github.com/Homebrew/homebrew-core/issues/76621\u001b[0m\u001b[33m\n",
      "\u001b[0mSuccessfully installed breadability-0.1.20 docopt-0.6.2 pycountry-22.3.5 sumy-0.11.0\n"
     ]
    }
   ],
   "source": [
    "!{sys.executable} -m pip install sumy"
   ]
  },
  {
   "cell_type": "code",
   "execution_count": 64,
   "id": "a37ce90b-4637-473f-93a5-61129658a281",
   "metadata": {
    "collapsed": true,
    "jupyter": {
     "outputs_hidden": true
    },
    "tags": []
   },
   "outputs": [
    {
     "name": "stdout",
     "output_type": "stream",
     "text": [
      "\u001b[33mDEPRECATION: Configuring installation scheme with distutils config files is deprecated and will no longer work in the near future. If you are using a Homebrew or Linuxbrew Python, please see discussion at https://github.com/Homebrew/homebrew-core/issues/76621\u001b[0m\u001b[33m\n",
      "\u001b[0mCollecting transformers\n",
      "  Downloading transformers-4.25.1-py3-none-any.whl (5.8 MB)\n",
      "\u001b[2K     \u001b[38;2;114;156;31m━━━━━━━━━━━━━━━━━━━━━━━━━━━━━━━━━━━━━━━━\u001b[0m \u001b[32m5.8/5.8 MB\u001b[0m \u001b[31m9.3 MB/s\u001b[0m eta \u001b[36m0:00:00\u001b[0m0m eta \u001b[36m0:00:01\u001b[0m36m0:00:01\u001b[0m\n",
      "\u001b[?25hRequirement already satisfied: regex!=2019.12.17 in /usr/local/lib/python3.9/site-packages (from transformers) (2022.10.31)\n",
      "Requirement already satisfied: filelock in /usr/local/lib/python3.9/site-packages (from transformers) (3.9.0)\n",
      "Collecting huggingface-hub<1.0,>=0.10.0\n",
      "  Downloading huggingface_hub-0.11.1-py3-none-any.whl (182 kB)\n",
      "\u001b[2K     \u001b[38;2;114;156;31m━━━━━━━━━━━━━━━━━━━━━━━━━━━━━━━━━━━━━━━\u001b[0m \u001b[32m182.4/182.4 kB\u001b[0m \u001b[31m4.1 MB/s\u001b[0m eta \u001b[36m0:00:00\u001b[0m MB/s\u001b[0m eta \u001b[36m0:00:01\u001b[0m\n",
      "\u001b[?25hRequirement already satisfied: requests in /usr/local/lib/python3.9/site-packages (from transformers) (2.27.1)\n",
      "Requirement already satisfied: packaging>=20.0 in /usr/local/lib/python3.9/site-packages (from transformers) (21.3)\n",
      "Requirement already satisfied: tqdm>=4.27 in /usr/local/lib/python3.9/site-packages (from transformers) (4.64.1)\n",
      "Collecting tokenizers!=0.11.3,<0.14,>=0.11.1\n",
      "  Downloading tokenizers-0.13.2-cp39-cp39-macosx_10_11_x86_64.whl (3.8 MB)\n",
      "\u001b[2K     \u001b[38;2;114;156;31m━━━━━━━━━━━━━━━━━━━━━━━━━━━━━━━━━━━━━━━━\u001b[0m \u001b[32m3.8/3.8 MB\u001b[0m \u001b[31m5.8 MB/s\u001b[0m eta \u001b[36m0:00:00\u001b[0mm eta \u001b[36m0:00:01\u001b[0m[36m0:00:01\u001b[0mm\n",
      "\u001b[?25hRequirement already satisfied: numpy>=1.17 in /usr/local/lib/python3.9/site-packages (from transformers) (1.23.3)\n",
      "Requirement already satisfied: pyyaml>=5.1 in /usr/local/lib/python3.9/site-packages (from transformers) (5.4.1)\n",
      "Requirement already satisfied: typing-extensions>=3.7.4.3 in /usr/local/lib/python3.9/site-packages (from huggingface-hub<1.0,>=0.10.0->transformers) (4.4.0)\n",
      "Requirement already satisfied: pyparsing!=3.0.5,>=2.0.2 in /usr/local/lib/python3.9/site-packages (from packaging>=20.0->transformers) (3.0.8)\n",
      "Requirement already satisfied: certifi>=2017.4.17 in /usr/local/lib/python3.9/site-packages (from requests->transformers) (2021.10.8)\n",
      "Requirement already satisfied: urllib3<1.27,>=1.21.1 in /usr/local/lib/python3.9/site-packages (from requests->transformers) (1.26.9)\n",
      "Requirement already satisfied: idna<4,>=2.5 in /usr/local/lib/python3.9/site-packages (from requests->transformers) (3.3)\n",
      "Requirement already satisfied: charset-normalizer~=2.0.0 in /usr/local/lib/python3.9/site-packages (from requests->transformers) (2.0.12)\n",
      "Installing collected packages: tokenizers, huggingface-hub, transformers\n",
      "\u001b[33m  DEPRECATION: Configuring installation scheme with distutils config files is deprecated and will no longer work in the near future. If you are using a Homebrew or Linuxbrew Python, please see discussion at https://github.com/Homebrew/homebrew-core/issues/76621\u001b[0m\u001b[33m\n",
      "\u001b[0m\u001b[33m  DEPRECATION: Configuring installation scheme with distutils config files is deprecated and will no longer work in the near future. If you are using a Homebrew or Linuxbrew Python, please see discussion at https://github.com/Homebrew/homebrew-core/issues/76621\u001b[0m\u001b[33m\n",
      "\u001b[0m\u001b[33m  DEPRECATION: Configuring installation scheme with distutils config files is deprecated and will no longer work in the near future. If you are using a Homebrew or Linuxbrew Python, please see discussion at https://github.com/Homebrew/homebrew-core/issues/76621\u001b[0m\u001b[33m\n",
      "\u001b[0m\u001b[33mDEPRECATION: Configuring installation scheme with distutils config files is deprecated and will no longer work in the near future. If you are using a Homebrew or Linuxbrew Python, please see discussion at https://github.com/Homebrew/homebrew-core/issues/76621\u001b[0m\u001b[33m\n",
      "\u001b[0mSuccessfully installed huggingface-hub-0.11.1 tokenizers-0.13.2 transformers-4.25.1\n"
     ]
    }
   ],
   "source": [
    "!{sys.executable} -m pip install transformers"
   ]
  },
  {
   "cell_type": "code",
   "execution_count": 67,
   "id": "ba50e133-38db-4f99-852b-6b7fafa22700",
   "metadata": {
    "collapsed": true,
    "jupyter": {
     "outputs_hidden": true
    },
    "tags": []
   },
   "outputs": [
    {
     "name": "stdout",
     "output_type": "stream",
     "text": [
      "\u001b[33mDEPRECATION: Configuring installation scheme with distutils config files is deprecated and will no longer work in the near future. If you are using a Homebrew or Linuxbrew Python, please see discussion at https://github.com/Homebrew/homebrew-core/issues/76621\u001b[0m\u001b[33m\n",
      "\u001b[0mCollecting torch\n",
      "  Downloading torch-1.13.1-cp39-none-macosx_10_9_x86_64.whl (135.3 MB)\n",
      "\u001b[2K     \u001b[38;2;114;156;31m━━━━━━━━━━━━━━━━━━━━━━━━━━━━━━━━━━━━━━━\u001b[0m \u001b[32m135.3/135.3 MB\u001b[0m \u001b[31m7.2 MB/s\u001b[0m eta \u001b[36m0:00:00\u001b[0mm eta \u001b[36m0:00:01\u001b[0m[36m0:00:01\u001b[0m\n",
      "\u001b[?25hCollecting torchvision\n",
      "  Downloading torchvision-0.14.1-cp39-cp39-macosx_10_9_x86_64.whl (1.4 MB)\n",
      "\u001b[2K     \u001b[38;2;114;156;31m━━━━━━━━━━━━━━━━━━━━━━━━━━━━━━━━━━━━━━━━\u001b[0m \u001b[32m1.4/1.4 MB\u001b[0m \u001b[31m6.8 MB/s\u001b[0m eta \u001b[36m0:00:00\u001b[0mm eta \u001b[36m0:00:01\u001b[0m0:01\u001b[0m:01\u001b[0m\n",
      "\u001b[?25hCollecting torchaudio\n",
      "  Downloading torchaudio-0.13.1-cp39-cp39-macosx_10_9_x86_64.whl (3.3 MB)\n",
      "\u001b[2K     \u001b[38;2;114;156;31m━━━━━━━━━━━━━━━━━━━━━━━━━━━━━━━━━━━━━━━━\u001b[0m \u001b[32m3.3/3.3 MB\u001b[0m \u001b[31m9.5 MB/s\u001b[0m eta \u001b[36m0:00:00\u001b[0m0m eta \u001b[36m0:00:01\u001b[0m0:01\u001b[0m:01\u001b[0m\n",
      "\u001b[?25hRequirement already satisfied: typing-extensions in /usr/local/lib/python3.9/site-packages (from torch) (4.4.0)\n",
      "Requirement already satisfied: numpy in /usr/local/lib/python3.9/site-packages (from torchvision) (1.23.3)\n",
      "Requirement already satisfied: requests in /usr/local/lib/python3.9/site-packages (from torchvision) (2.27.1)\n",
      "Requirement already satisfied: pillow!=8.3.*,>=5.3.0 in /usr/local/lib/python3.9/site-packages (from torchvision) (9.2.0)\n",
      "Requirement already satisfied: certifi>=2017.4.17 in /usr/local/lib/python3.9/site-packages (from requests->torchvision) (2021.10.8)\n",
      "Requirement already satisfied: idna<4,>=2.5 in /usr/local/lib/python3.9/site-packages (from requests->torchvision) (3.3)\n",
      "Requirement already satisfied: urllib3<1.27,>=1.21.1 in /usr/local/lib/python3.9/site-packages (from requests->torchvision) (1.26.9)\n",
      "Requirement already satisfied: charset-normalizer~=2.0.0 in /usr/local/lib/python3.9/site-packages (from requests->torchvision) (2.0.12)\n",
      "Installing collected packages: torch, torchvision, torchaudio\n",
      "\u001b[33m  DEPRECATION: Configuring installation scheme with distutils config files is deprecated and will no longer work in the near future. If you are using a Homebrew or Linuxbrew Python, please see discussion at https://github.com/Homebrew/homebrew-core/issues/76621\u001b[0m\u001b[33m\n",
      "\u001b[0m\u001b[33m  DEPRECATION: Configuring installation scheme with distutils config files is deprecated and will no longer work in the near future. If you are using a Homebrew or Linuxbrew Python, please see discussion at https://github.com/Homebrew/homebrew-core/issues/76621\u001b[0m\u001b[33m\n",
      "\u001b[0m\u001b[33m  DEPRECATION: Configuring installation scheme with distutils config files is deprecated and will no longer work in the near future. If you are using a Homebrew or Linuxbrew Python, please see discussion at https://github.com/Homebrew/homebrew-core/issues/76621\u001b[0m\u001b[33m\n",
      "\u001b[0m\u001b[33mDEPRECATION: Configuring installation scheme with distutils config files is deprecated and will no longer work in the near future. If you are using a Homebrew or Linuxbrew Python, please see discussion at https://github.com/Homebrew/homebrew-core/issues/76621\u001b[0m\u001b[33m\n",
      "\u001b[0mSuccessfully installed torch-1.13.1 torchaudio-0.13.1 torchvision-0.14.1\n"
     ]
    }
   ],
   "source": [
    "# install pythorch\n",
    "!{sys.executable} -m pip install torch torchvision torchaudio"
   ]
  },
  {
   "cell_type": "code",
   "execution_count": 1,
   "id": "63705983-472a-470c-84a7-0a0e4daf9f8a",
   "metadata": {},
   "outputs": [
    {
     "name": "stderr",
     "output_type": "stream",
     "text": [
      "/usr/local/lib/python3.9/site-packages/requests/__init__.py:102: RequestsDependencyWarning: urllib3 (1.26.9) or chardet (5.1.0)/charset_normalizer (2.0.12) doesn't match a supported version!\n",
      "  warnings.warn(\"urllib3 ({}) or chardet ({})/charset_normalizer ({}) doesn't match a supported \"\n"
     ]
    }
   ],
   "source": [
    "# import libraries\n",
    "from bs4 import BeautifulSoup\n",
    "import requests\n",
    "import pandas as pd\n",
    "from newsplease import NewsPlease\n",
    "\n",
    "# packages for summarization\n",
    "import gensim\n",
    "#from gensim.summarization import summarize\n",
    "import summa\n",
    "from summa.summarizer import summarize\n",
    "\n",
    "import sumy"
   ]
  },
  {
   "cell_type": "code",
   "execution_count": 2,
   "id": "77728ae9-ce20-4cd0-8275-062ce2f11b67",
   "metadata": {
    "jupyter": {
     "source_hidden": true
    },
    "tags": []
   },
   "outputs": [],
   "source": [
    "from GoogleNews import GoogleNews\n",
    "\n",
    "googlenews = GoogleNews(lang='en', period='1d')\n",
    "googlenews.get_news('something')"
   ]
  },
  {
   "cell_type": "code",
   "execution_count": 3,
   "id": "53d09bd7-fa82-443e-b646-516950c98a3e",
   "metadata": {
    "jupyter": {
     "source_hidden": true
    },
    "tags": []
   },
   "outputs": [
    {
     "data": {
      "text/plain": [
       "<GoogleNews.GoogleNews at 0x112043c10>"
      ]
     },
     "execution_count": 3,
     "metadata": {},
     "output_type": "execute_result"
    }
   ],
   "source": [
    "googlenews"
   ]
  },
  {
   "cell_type": "code",
   "execution_count": 2,
   "id": "36041059-7a0b-41a1-8c6f-dc6b69427a1b",
   "metadata": {},
   "outputs": [
    {
     "name": "stdout",
     "output_type": "stream",
     "text": [
      "Top News: US & International Top News Stories Today\n"
     ]
    }
   ],
   "source": [
    "from newsplease import NewsPlease\n",
    "article = NewsPlease.from_url('https://apnews.com/hub/ap-top-news')\n",
    "print(article.title)"
   ]
  },
  {
   "cell_type": "code",
   "execution_count": 3,
   "id": "a8d21862-8f88-41a2-826b-6af9713e9920",
   "metadata": {
    "tags": []
   },
   "outputs": [
    {
     "name": "stdout",
     "output_type": "stream",
     "text": [
      "ANCHORAGE, Alaska (AP) — For isolated communities at the top of the world, keeping the planet’s largest land predators -- polar bears -- out of town is key to coexistence.\n",
      "That can mean patrolling for the animals by snowmobile or four-wheeler, shooing them away with spotlights or a revved engine, or hazing them with beanbag shotguns.\n"
     ]
    }
   ],
   "source": [
    "print(article.maintext)"
   ]
  },
  {
   "cell_type": "code",
   "execution_count": 4,
   "id": "caf19d9a-6f66-4b8e-b4b4-74891cb8a212",
   "metadata": {
    "tags": []
   },
   "outputs": [
    {
     "ename": "NameError",
     "evalue": "name 'GoogleNews' is not defined",
     "output_type": "error",
     "traceback": [
      "\u001b[0;31m---------------------------------------------------------------------------\u001b[0m",
      "\u001b[0;31mNameError\u001b[0m                                 Traceback (most recent call last)",
      "Input \u001b[0;32mIn [4]\u001b[0m, in \u001b[0;36m<cell line: 2>\u001b[0;34m()\u001b[0m\n\u001b[1;32m      1\u001b[0m \u001b[38;5;66;03m#googlenews=GoogleNews(start='05/01/2022',end='05/31/2022')\u001b[39;00m\n\u001b[0;32m----> 2\u001b[0m googlenews\u001b[38;5;241m=\u001b[39m\u001b[43mGoogleNews\u001b[49m()\n\u001b[1;32m      3\u001b[0m googlenews\u001b[38;5;241m.\u001b[39msearch(\u001b[38;5;124m'\u001b[39m\u001b[38;5;124mtech\u001b[39m\u001b[38;5;124m'\u001b[39m)\n\u001b[1;32m      4\u001b[0m result\u001b[38;5;241m=\u001b[39mgooglenews\u001b[38;5;241m.\u001b[39mresult()\n",
      "\u001b[0;31mNameError\u001b[0m: name 'GoogleNews' is not defined"
     ]
    }
   ],
   "source": [
    "#googlenews=GoogleNews(start='05/01/2022',end='05/31/2022')\n",
    "googlenews=GoogleNews()\n",
    "googlenews.search('tech')\n",
    "result=googlenews.result()\n",
    "df=pd.DataFrame(result)\n",
    "print(df.head())"
   ]
  },
  {
   "cell_type": "code",
   "execution_count": 5,
   "id": "5069116b-b409-4cea-b359-ad79164b4a5b",
   "metadata": {},
   "outputs": [
    {
     "ename": "NameError",
     "evalue": "name 'df' is not defined",
     "output_type": "error",
     "traceback": [
      "\u001b[0;31m---------------------------------------------------------------------------\u001b[0m",
      "\u001b[0;31mNameError\u001b[0m                                 Traceback (most recent call last)",
      "Input \u001b[0;32mIn [5]\u001b[0m, in \u001b[0;36m<cell line: 1>\u001b[0;34m()\u001b[0m\n\u001b[0;32m----> 1\u001b[0m \u001b[38;5;28mprint\u001b[39m(\u001b[43mdf\u001b[49m[\u001b[38;5;124m'\u001b[39m\u001b[38;5;124mlink\u001b[39m\u001b[38;5;124m'\u001b[39m]\u001b[38;5;241m.\u001b[39mhead())\n",
      "\u001b[0;31mNameError\u001b[0m: name 'df' is not defined"
     ]
    }
   ],
   "source": [
    "print(df['link'].head())"
   ]
  },
  {
   "cell_type": "code",
   "execution_count": null,
   "id": "3546b681-3ec6-4d29-897e-671d9a51c34f",
   "metadata": {},
   "outputs": [],
   "source": []
  },
  {
   "cell_type": "code",
   "execution_count": 6,
   "id": "db945a2a-75c8-4ad1-a7cd-cdf888021520",
   "metadata": {},
   "outputs": [
    {
     "name": "stderr",
     "output_type": "stream",
     "text": [
      "/usr/local/lib/python3.9/site-packages/bs4/__init__.py:404: MarkupResemblesLocatorWarning: The input looks more like a URL than markup. You may want to use an HTTP client like requests to get the document behind the URL, and feed that document to Beautiful Soup.\n",
      "  warnings.warn(\n"
     ]
    }
   ],
   "source": [
    "soup_ap = BeautifulSoup('https://apnews.com/hub/ap-top-news', 'html.parser')\n",
    "#print(soup.prettify())"
   ]
  },
  {
   "cell_type": "code",
   "execution_count": 7,
   "id": "42abcefc-4102-4a64-9100-3cad3fdb477a",
   "metadata": {},
   "outputs": [],
   "source": [
    "# request\n",
    "ap_news_url = 'https://apnews.com'\n",
    "ap_topnews_url = 'https://apnews.com/hub/ap-top-news'\n",
    "r_ap = requests.get(ap_topnews_url)"
   ]
  },
  {
   "cell_type": "code",
   "execution_count": 8,
   "id": "14a35805-6558-4c5e-84e7-f531908ae21a",
   "metadata": {},
   "outputs": [
    {
     "data": {
      "text/plain": [
       "<Response [200]>"
      ]
     },
     "execution_count": 8,
     "metadata": {},
     "output_type": "execute_result"
    }
   ],
   "source": [
    "r_ap"
   ]
  },
  {
   "cell_type": "code",
   "execution_count": 9,
   "id": "779fec22-6d3b-4efc-9d06-bf2d259b0c1c",
   "metadata": {
    "tags": []
   },
   "outputs": [
    {
     "data": {
      "text/plain": [
       "['https://apnews.com/article/abortion-florida-state-government-kentucky-6ed9dbcdaae33312f1425ea38b681a7e',\n",
       " 'https://apnews.com/article/russia-ukraine-politics-military-technology-joint-chiefs-of-staff-lloyd-austin-1b505c88a5a6f331cd482762c62fa29c',\n",
       " 'https://apnews.com/article/chris-hipkins-new-zealand-prime-minister-4b73db6d84e5e2e9b0875889cc462065',\n",
       " 'https://apnews.com/article/technology-business-sundar-pichai-covid-pandemics-c85c45231712709582b1d3fe46be5ffe',\n",
       " 'https://apnews.com/article/politics-crime-donald-trump-riots-capitol-siege-8fc62a5cb27f91b0f9c9447052ffa25d',\n",
       " 'https://apnews.com/article/animal-attacks-wales-alaska-climate-and-environment-polar-bears-1b9b5745eb5f9b2b273588f019336e24',\n",
       " 'https://apnews.com/article/politics-samuel-alito-84303225919dfb4a784552e36ecaeb23',\n",
       " 'https://apnews.com/article/floods-weather-natural-disasters-california-climate-and-environment-b71eadd83be6176d45f7a1baf7bb2576',\n",
       " 'https://apnews.com/article/historic-black-churches-financial-grants-886d6003ec5d939c6fd5f6ce758810c2',\n",
       " 'https://apnews.com/article/alec-baldwin-indictments-santa-fe-prisons-f4f2e9d7c407e2b7d21e9c2f70cb7293',\n",
       " 'https://apnews.com/article/politics-peru-government-protests-and-demonstrations-caribbean-dina-boluarte-5058729c16cef9beedcc4b8ab97c9e42',\n",
       " 'https://apnews.com/article/shotspotter-artificial-intelligence-investigation-9cb47bbfb565dc3ef110f92ac7f83862',\n",
       " 'https://apnews.com/article/politics-kassym-jomart-tokayev-kazakhstan-almaty-27777324a342490b737866449ca00f93',\n",
       " 'https://apnews.com/article/alec-baldwin-entertainment-new-mexico-movies-30268d9cec10858ccf6bfdf395d0e586',\n",
       " 'https://apnews.com/article/politics-hillary-clinton-donald-trump-florida-new-york-872898a17b2f55a4d1235f978633d2df',\n",
       " 'https://apnews.com/article/technology-snap-inc-amazoncom-business-5012d95678b50f699498cb11b5f3913d',\n",
       " 'https://apnews.com/article/2023-oscar-nominations-what-to-expect-academy-awards-c8177c672de869f0a316d32c65b4f8dc',\n",
       " 'https://apnews.com/article/andrew-tate-detention-romania-extended-b09236fcae9f60b0fae663488356f6e1',\n",
       " 'https://apnews.com/article/russia-ukraine-politics-bosnia-and-herzegovina-europe-world-news-3084574a969131ce1ee4819e0722beaf',\n",
       " 'https://apnews.com/article/london-england-religion-lgbtq-people-f645680c8cecd031bbcfdde9cc0c3628',\n",
       " 'https://apnews.com/article/sports-andy-murray-thanasi-kokkinakis-melbourne-australian-open-afccc752b04dae47bd332c48494fa8b5',\n",
       " 'https://apnews.com/article/buffalo-bills-nfl-sports-football-damar-hamlin-7b7d987e7073632f48e3f9ae78f67621',\n",
       " 'https://apnews.com/article/biden-tours-california-storm-damage-ad4193df692da681ab10dab1aa11fa27',\n",
       " 'https://apnews.com/article/technology-politics-business-law-enforcement-87d107f039a2aeb8ad5e4b215c66eead',\n",
       " 'https://apnews.com/article/boston-celtics-golden-state-warriors-nba-sports-basketball-3bbe164236530a65f537e8934d62b0cc',\n",
       " 'https://apnews.com/article/biden-politics-united-states-government-wilmington-merrick-garland-f2384a87dcddbd38796f63e1269c6baf',\n",
       " 'https://apnews.com/article/politics-jacinda-ardern-new-zealand-covid-d4f8f8a6d7a81b2247909e17dc38a9f9',\n",
       " 'https://apnews.com/article/politics-protests-and-demonstrations-peru-government-caribbean-dina-boluarte-abc5c843f4ef886efff634fce2576abe',\n",
       " 'https://apnews.com/article/travel-and-tourism-china-asia-business-6303cb348fca243abe0aa8eb37de87c6',\n",
       " 'https://apnews.com/article/entertainment-movies-sundance-film-festival-doug-liman-brett-kavanaugh-a8b5a5ef8ea89cb27d11bb2ab850686f',\n",
       " 'https://apnews.com/article/politics-new-zealand-government-covid-jacinda-ardern-0e6d8eedd96f94aab07eeb0c37164591',\n",
       " 'https://apnews.com/article/david-crosby-dies-obit-3a1142b65616fa95c34c837a94f2c69f',\n",
       " 'https://apnews.com/article/alec-baldwin-rust-movie-shooting-charges-decision-8c76eddb8a6418419078903d24ec3813',\n",
       " 'https://apnews.com/article/biden-politics-united-states-government-hillary-clinton-karine-jean-pierre-58228d94cdcfe4ebe00521b049037868',\n",
       " 'https://apnews.com/article/health-new-york-city-marijuana-business-4245bb958368e1863d7ac9b639886790',\n",
       " 'https://apnews.com/article/politics-donald-trump-ohio-fraud-ad6eaaca489d39aa4b6e63c2ce413bf8',\n",
       " 'https://apnews.com/article/health-oregon-8629d6e62bff151afbbdb3a37c2206ae',\n",
       " 'https://apnews.com/article/supreme-court-abortion-ruling-leak-investigation-59a40974e39a67c2ab859ba0c21c785e',\n",
       " 'https://apnews.com/article/france-retirement-age-limit-protests-866eb86aea5cf0d39894b96d2888c26f',\n",
       " 'https://apnews.com/article/russia-ukraine-zelenskyy-politics-united-states-government-boris-johnson-1cf2593806068a08ab63e78ddd681999',\n",
       " 'https://apnews.com/article/politics-political-refugees-us-department-of-state-cd66266833686ec2cd3c173161e85ad8',\n",
       " 'https://apnews.com/article/abortion-politics-health-missouri-state-government-legal-proceedings-05d21a1234877ffcd358ad74bebe4472',\n",
       " 'https://apnews.com/article/biden-politics-france-government-delaware-state-fc93b564f7d721e4680861c261420afa',\n",
       " 'https://apnews.com/article/elon-musk-twitter-inc-technology-science-social-media-a7e2e3214abb4470dcb6e2837aa39c2e',\n",
       " 'https://apnews.com/article/artificial-intelligence-images-rights-1c6d9e0e260e2d135a3e3bf98d5493df',\n",
       " 'https://apnews.com/article/science-e8ff324175e57a7de092859941f57499',\n",
       " 'https://apnews.com/article/us-debt-limit-political-friction-3652d50a1567c1e7ab544614b7f2b357',\n",
       " 'https://apnews.com/article/science-chile-stars-60fecb7e18e0ad9b247b8d7aa75a4b3c',\n",
       " 'https://apnews.com/article/pope-francis-benedict-xvi-christoph-schoenborn-georg-gaenswein-religion-ac8dbaf0a4ed457d06ae964d08cac3c2']"
      ]
     },
     "execution_count": 9,
     "metadata": {},
     "output_type": "execute_result"
    }
   ],
   "source": [
    "soup_ap = BeautifulSoup(r_ap.content, 'html.parser')\n",
    "#print(soup.prettify())\n",
    "atag_ap = soup_ap.find_all('a', attrs={\"data-key\": \"card-headline\"})\n",
    "\n",
    "ap_topnews_list = [ap_news_url + i['href'] for i in atag_ap]\n",
    "ap_topnews_list"
   ]
  },
  {
   "cell_type": "code",
   "execution_count": 10,
   "id": "97317ce7-e12c-41de-9555-78a770e95c69",
   "metadata": {},
   "outputs": [],
   "source": [
    "b = soup_ap.find('a', attrs={\"data-key\": \"card-headline\"})"
   ]
  },
  {
   "cell_type": "code",
   "execution_count": 11,
   "id": "67f79e4e-7699-4590-8ce3-9cefe4c9b359",
   "metadata": {},
   "outputs": [
    {
     "data": {
      "text/plain": [
       "<a class=\"Component-headline-0-2-138\" data-key=\"card-headline\" href=\"/article/abortion-florida-state-government-kentucky-6ed9dbcdaae33312f1425ea38b681a7e\"><h2 class=\"Component-heading-0-2-139 Component-headingMobile-0-2-140 -cardHeading undefined\">March for Life eyes Congress for post-Roe abortion limits</h2></a>"
      ]
     },
     "execution_count": 11,
     "metadata": {},
     "output_type": "execute_result"
    }
   ],
   "source": [
    "b"
   ]
  },
  {
   "cell_type": "code",
   "execution_count": 12,
   "id": "1c0c209e-e097-4e3f-9c56-046eae535706",
   "metadata": {
    "tags": []
   },
   "outputs": [
    {
     "name": "stdout",
     "output_type": "stream",
     "text": [
      "/article/abortion-florida-state-government-kentucky-6ed9dbcdaae33312f1425ea38b681a7e\n",
      "/article/russia-ukraine-politics-military-technology-joint-chiefs-of-staff-lloyd-austin-1b505c88a5a6f331cd482762c62fa29c\n",
      "/article/chris-hipkins-new-zealand-prime-minister-4b73db6d84e5e2e9b0875889cc462065\n",
      "/article/technology-business-sundar-pichai-covid-pandemics-c85c45231712709582b1d3fe46be5ffe\n",
      "/article/politics-crime-donald-trump-riots-capitol-siege-8fc62a5cb27f91b0f9c9447052ffa25d\n",
      "/article/animal-attacks-wales-alaska-climate-and-environment-polar-bears-1b9b5745eb5f9b2b273588f019336e24\n",
      "/article/politics-samuel-alito-84303225919dfb4a784552e36ecaeb23\n",
      "/article/floods-weather-natural-disasters-california-climate-and-environment-b71eadd83be6176d45f7a1baf7bb2576\n",
      "/article/historic-black-churches-financial-grants-886d6003ec5d939c6fd5f6ce758810c2\n",
      "/article/alec-baldwin-indictments-santa-fe-prisons-f4f2e9d7c407e2b7d21e9c2f70cb7293\n",
      "/article/politics-peru-government-protests-and-demonstrations-caribbean-dina-boluarte-5058729c16cef9beedcc4b8ab97c9e42\n",
      "/article/shotspotter-artificial-intelligence-investigation-9cb47bbfb565dc3ef110f92ac7f83862\n",
      "/article/politics-kassym-jomart-tokayev-kazakhstan-almaty-27777324a342490b737866449ca00f93\n",
      "/article/alec-baldwin-entertainment-new-mexico-movies-30268d9cec10858ccf6bfdf395d0e586\n",
      "/article/politics-hillary-clinton-donald-trump-florida-new-york-872898a17b2f55a4d1235f978633d2df\n",
      "/article/technology-snap-inc-amazoncom-business-5012d95678b50f699498cb11b5f3913d\n",
      "/article/2023-oscar-nominations-what-to-expect-academy-awards-c8177c672de869f0a316d32c65b4f8dc\n",
      "/article/andrew-tate-detention-romania-extended-b09236fcae9f60b0fae663488356f6e1\n",
      "/article/russia-ukraine-politics-bosnia-and-herzegovina-europe-world-news-3084574a969131ce1ee4819e0722beaf\n",
      "/article/london-england-religion-lgbtq-people-f645680c8cecd031bbcfdde9cc0c3628\n",
      "/article/sports-andy-murray-thanasi-kokkinakis-melbourne-australian-open-afccc752b04dae47bd332c48494fa8b5\n",
      "/article/buffalo-bills-nfl-sports-football-damar-hamlin-7b7d987e7073632f48e3f9ae78f67621\n",
      "/article/biden-tours-california-storm-damage-ad4193df692da681ab10dab1aa11fa27\n",
      "/article/technology-politics-business-law-enforcement-87d107f039a2aeb8ad5e4b215c66eead\n",
      "/article/boston-celtics-golden-state-warriors-nba-sports-basketball-3bbe164236530a65f537e8934d62b0cc\n",
      "/article/biden-politics-united-states-government-wilmington-merrick-garland-f2384a87dcddbd38796f63e1269c6baf\n",
      "/article/politics-jacinda-ardern-new-zealand-covid-d4f8f8a6d7a81b2247909e17dc38a9f9\n",
      "/article/politics-protests-and-demonstrations-peru-government-caribbean-dina-boluarte-abc5c843f4ef886efff634fce2576abe\n",
      "/article/travel-and-tourism-china-asia-business-6303cb348fca243abe0aa8eb37de87c6\n",
      "/article/entertainment-movies-sundance-film-festival-doug-liman-brett-kavanaugh-a8b5a5ef8ea89cb27d11bb2ab850686f\n",
      "/article/politics-new-zealand-government-covid-jacinda-ardern-0e6d8eedd96f94aab07eeb0c37164591\n",
      "/article/david-crosby-dies-obit-3a1142b65616fa95c34c837a94f2c69f\n",
      "/article/alec-baldwin-rust-movie-shooting-charges-decision-8c76eddb8a6418419078903d24ec3813\n",
      "/article/biden-politics-united-states-government-hillary-clinton-karine-jean-pierre-58228d94cdcfe4ebe00521b049037868\n",
      "/article/health-new-york-city-marijuana-business-4245bb958368e1863d7ac9b639886790\n",
      "/article/politics-donald-trump-ohio-fraud-ad6eaaca489d39aa4b6e63c2ce413bf8\n",
      "/article/health-oregon-8629d6e62bff151afbbdb3a37c2206ae\n",
      "/article/supreme-court-abortion-ruling-leak-investigation-59a40974e39a67c2ab859ba0c21c785e\n",
      "/article/france-retirement-age-limit-protests-866eb86aea5cf0d39894b96d2888c26f\n",
      "/article/russia-ukraine-zelenskyy-politics-united-states-government-boris-johnson-1cf2593806068a08ab63e78ddd681999\n",
      "/article/politics-political-refugees-us-department-of-state-cd66266833686ec2cd3c173161e85ad8\n",
      "/article/abortion-politics-health-missouri-state-government-legal-proceedings-05d21a1234877ffcd358ad74bebe4472\n",
      "/article/biden-politics-france-government-delaware-state-fc93b564f7d721e4680861c261420afa\n",
      "/article/elon-musk-twitter-inc-technology-science-social-media-a7e2e3214abb4470dcb6e2837aa39c2e\n",
      "/article/artificial-intelligence-images-rights-1c6d9e0e260e2d135a3e3bf98d5493df\n",
      "/article/science-e8ff324175e57a7de092859941f57499\n",
      "/article/us-debt-limit-political-friction-3652d50a1567c1e7ab544614b7f2b357\n",
      "/article/science-chile-stars-60fecb7e18e0ad9b247b8d7aa75a4b3c\n",
      "/article/pope-francis-benedict-xvi-christoph-schoenborn-georg-gaenswein-religion-ac8dbaf0a4ed457d06ae964d08cac3c2\n"
     ]
    }
   ],
   "source": [
    "for a in soup_ap.find_all('a', attrs={\"data-key\": \"card-headline\"}):\n",
    "    print(a['href'])"
   ]
  },
  {
   "cell_type": "code",
   "execution_count": 13,
   "id": "e451e67e-b1d6-443f-a419-7536d16c8454",
   "metadata": {},
   "outputs": [],
   "source": [
    "techcrunch_url = 'https://techcrunch.com'\n",
    "r_tech = requests.get(techcrunch_url)"
   ]
  },
  {
   "cell_type": "code",
   "execution_count": 14,
   "id": "5f519ed0-1430-484b-a95a-188d5f7a186a",
   "metadata": {},
   "outputs": [
    {
     "data": {
      "text/plain": [
       "<Response [200]>"
      ]
     },
     "execution_count": 14,
     "metadata": {},
     "output_type": "execute_result"
    }
   ],
   "source": [
    "r_tech"
   ]
  },
  {
   "cell_type": "code",
   "execution_count": 15,
   "id": "b8fef99b-8833-4fc9-a301-fdcb05e797b9",
   "metadata": {
    "tags": []
   },
   "outputs": [
    {
     "data": {
      "text/plain": [
       "['https://techcrunch.com/2023/01/20/microsoft-joined-the-layoff-parade-did-it-really-have-to/',\n",
       " 'https://techcrunch.com/2023/01/20/microsoft-joined-the-layoff-parade-did-it-really-have-to/',\n",
       " 'https://techcrunch.com/2023/01/20/debunking-the-myths-of-why-venture-investors-dont-fund-diverse-startups/',\n",
       " 'https://techcrunch.com/2023/01/20/thoma-bravo-agrees-to-acquire-digital-forensics-firm-magnet-forensics-for-over-1b/',\n",
       " 'https://techcrunch.com/2023/01/20/with-a-focus-on-patients-with-chronic-illness-nourish-hopes-to-help-americans-eat-better/',\n",
       " 'https://techcrunch.com/2023/01/20/gm-please-build-the-baby-ev-pickup-of-my-dreams/',\n",
       " 'https://techcrunch.com/2023/01/20/while-layoffs-keep-coming-so-far-apple-has-steered-clear/',\n",
       " 'https://techcrunch.com/2023/01/20/4-investors-alternative-seafood-startups/',\n",
       " 'https://techcrunch.com/2023/01/20/goodones/',\n",
       " 'https://techcrunch.com/2023/01/20/microsoft-joined-the-layoff-parade-did-it-really-have-to/',\n",
       " 'https://techcrunch.com/2023/01/20/netflix-free-streaming-fast-channels/',\n",
       " 'https://techcrunch.com/2023/01/20/why-international-dfis-are-looking-to-african-startups-to-scale-impact-investing-efforts/',\n",
       " 'https://techcrunch.com/2023/01/20/techcrunch-roundup-2023-unicorn-slump-global-vc-slowdown-email-marketing-101/',\n",
       " 'https://techcrunch.com/2023/01/20/canada-wants-to-support-commercial-space-launches/',\n",
       " 'https://techcrunch.com/2023/01/20/amazons-music-unlimited-gets-a-price-hike-in-the-us-and-uk/',\n",
       " 'https://techcrunch.com/2023/01/20/a-new-kind-of-pe-fund-plans-to-roll-up-german-startups-into-potential-unicorns-and-bigger-exits/',\n",
       " 'https://techcrunch.com/2023/01/20/gas-slay-whats-next-fire/',\n",
       " 'https://techcrunch.com/2023/01/20/coinbase-and-others-back-ex-ftx-us-presidents-crypto-trading-infra-startup-architect/',\n",
       " 'https://techcrunch.com/2023/01/20/wordle-clone-quordle-acquired-by-merriam-webster/',\n",
       " 'https://techcrunch.com/2023/01/20/4-questions-to-ask-when-evaluating-ai-prototypes-for-bias/',\n",
       " 'https://techcrunch.com/2023/01/20/grazzy-digital-tipping/',\n",
       " 'https://techcrunch.com/2023/01/20/cookie-taskforce-report-consent-dark-patterns/']"
      ]
     },
     "execution_count": 15,
     "metadata": {},
     "output_type": "execute_result"
    }
   ],
   "source": [
    "soup_tech = BeautifulSoup(r_tech.content, 'html.parser')\n",
    "atag_tech = soup_tech.find_all('a', attrs={\"class\": \"post-block__title__link\"})\n",
    "\n",
    "tech_news_list = [i['href'] for i in atag_tech]\n",
    "tech_news_list"
   ]
  },
  {
   "cell_type": "code",
   "execution_count": 16,
   "id": "3cb45e70-fe78-4459-8861-fe434f1f4af3",
   "metadata": {
    "tags": []
   },
   "outputs": [
    {
     "ename": "TypeError",
     "evalue": "byte indices must be integers or slices, not str",
     "output_type": "error",
     "traceback": [
      "\u001b[0;31m---------------------------------------------------------------------------\u001b[0m",
      "\u001b[0;31mTypeError\u001b[0m                                 Traceback (most recent call last)",
      "Input \u001b[0;32mIn [16]\u001b[0m, in \u001b[0;36m<cell line: 1>\u001b[0;34m()\u001b[0m\n\u001b[1;32m      1\u001b[0m \u001b[38;5;28;01mfor\u001b[39;00m i \u001b[38;5;129;01min\u001b[39;00m r_tech:\n\u001b[0;32m----> 2\u001b[0m     \u001b[38;5;28mprint\u001b[39m(\u001b[43mi\u001b[49m\u001b[43m[\u001b[49m\u001b[38;5;124;43m'\u001b[39;49m\u001b[38;5;124;43mhref\u001b[39;49m\u001b[38;5;124;43m'\u001b[39;49m\u001b[43m]\u001b[49m)\n",
      "\u001b[0;31mTypeError\u001b[0m: byte indices must be integers or slices, not str"
     ]
    }
   ],
   "source": [
    "for i in r_tech:\n",
    "    print(i['href'])"
   ]
  },
  {
   "cell_type": "code",
   "execution_count": 17,
   "id": "f1b5c71e-7cd6-4505-a023-6d296dd571b9",
   "metadata": {
    "collapsed": true,
    "jupyter": {
     "outputs_hidden": true
    },
    "tags": []
   },
   "outputs": [
    {
     "name": "stdout",
     "output_type": "stream",
     "text": [
      "March for Life eyes Congress for post-Roe abortion limits\n",
      "Defense chiefs fail to resolve dispute on tanks for Ukraine\n",
      "Chris Hipkins to be New Zealand's next prime minister\n",
      "Google axes 12,000 jobs as layoffs spread across tech sector\n",
      "3 active-duty Marines charged in Jan. 6 Capitol riot\n",
      "Rare attack in Alaska renews interest in polar bear patrols\n",
      "Supreme Court leak report findings: Lax security, loose lips\n",
      "In soaked California, few homeowners have flood insurance\n",
      "Historic Black churches receive $4M in preservation grants\n",
      "Prosecutors seek justice in Baldwin case, regardless of fame\n",
      "Protests move into Peru’s capital, met by tear gas and smoke\n",
      "Confidential document reveals key human role in gunshot tech\n",
      "A year after Kazakhstan's deadly riots, questions persist\n",
      "As Baldwin faces charges, gun safety on sets 'gets louder'\n",
      "Judge fines Trump, lawyer for 'frivolous' Clinton lawsuit\n",
      "Tech industry job cuts come rapidly and in big numbers\n",
      "Here's what to expect from Tuesday's Oscar nominations\n",
      "Romanian judge grants 30-day extension of Tate detention\n",
      "Bosnian war survivors share survival tips with Ukraine\n",
      "Church of England apologizes for treatment of LGBTQ people\n",
      "Murray match highlights how tennis can be an all-night sport\n",
      "Bills' Hamlin faces long recovery, family spokesman tells AP\n",
      "Biden tours beach town damaged by massive California storms\n",
      "T-Mobile says data on 37 million customers stolen\n",
      "Celtics beat Warriors in OT, win NBA Finals rematch 121-118\n",
      "Biden on classified docs discovery: 'There's no there there'\n",
      "New Zealand's Ardern has many possibilities for a second act\n",
      "Peru police use tear gas to block protesters from marching\n",
      "Lunar New Year tourism hopes fizzle as Chinese stay home\n",
      "Sundance celebrates the ‘magic’ of being back in-person\n",
      "New Zealand's Jacinda Ardern, an icon to many, to step down\n",
      "Reports: David Crosby, rock star and CSNY co-founder, dies\n",
      "Alec Baldwin to be charged with manslaughter in set shooting\n",
      "Investigation? Review? Biden faces a messaging dilemma\n",
      "Flavored cannabis marketing is criticized for targeting kids\n",
      "GOP action on mail ballot timelines angers military families\n",
      "Oregon's drug decriminalization gets poor marks on audit\n",
      "Supreme Court has failed to find leaker of abortion opinion\n",
      "France: Over 1 million march against raising retirement age\n",
      "Germany pressed on tanks for Ukraine; Kyiv airs frustration\n",
      "US citizens get chance to play role in resettling refugees\n",
      "Religious leaders sue to block Missouri's abortion ban\n",
      "By the numbers: President Biden at the two-year mark\n",
      "Climate misinformation 'rocket boosters' on Musk's Twitter\n",
      "AI tools can create new images, but who is the real artist?\n",
      "Twinkle, twinkle fading stars: Hiding in our brighter skies\n",
      "US Treasury buys time for Biden and GOP on debt limit deal\n",
      "Say cheese! Galactic photo shoot captures 3 billion stars\n",
      "Cardinal says book by Benedict XVI's secretary 'unseemly'\n"
     ]
    }
   ],
   "source": [
    "article = NewsPlease.from_url('https://apnews.com/hub/ap-top-news')\n",
    "for url in ap_topnews_list:\n",
    "    print(NewsPlease.from_url(url).title)"
   ]
  },
  {
   "cell_type": "code",
   "execution_count": 18,
   "id": "a81110c0-013d-40a6-bd39-998bd8ed7133",
   "metadata": {},
   "outputs": [
    {
     "name": "stdout",
     "output_type": "stream",
     "text": [
      "ANCHORAGE, Alaska (AP) — For isolated communities at the top of the world, keeping the planet’s largest land predators -- polar bears -- out of town is key to coexistence.\n",
      "That can mean patrolling for the animals by snowmobile or four-wheeler, shooing them away with spotlights or a revved engine, or hazing them with beanbag shotguns.\n"
     ]
    }
   ],
   "source": [
    "print(article.maintext)"
   ]
  },
  {
   "cell_type": "code",
   "execution_count": null,
   "id": "582fc6b6-b64b-4e9f-a3b5-7f614aef020f",
   "metadata": {},
   "outputs": [],
   "source": []
  },
  {
   "cell_type": "code",
   "execution_count": 19,
   "id": "4cd0ee31-3b04-4bcd-85c4-61120bfa82e9",
   "metadata": {},
   "outputs": [],
   "source": [
    "reuters_news_url = 'https://www.reuters.com'\n",
    "reuters_business_url = 'https://www.reuters.com/business/'\n",
    "r_reuters = requests.get(reuters_business_url)"
   ]
  },
  {
   "cell_type": "code",
   "execution_count": 20,
   "id": "dabc5961-e806-4d6a-b7f0-cc75e6cda451",
   "metadata": {},
   "outputs": [
    {
     "data": {
      "text/plain": [
       "<Response [200]>"
      ]
     },
     "execution_count": 20,
     "metadata": {},
     "output_type": "execute_result"
    }
   ],
   "source": [
    "r_reuters"
   ]
  },
  {
   "cell_type": "code",
   "execution_count": 21,
   "id": "84dc5527-1fa7-4d65-9602-fb66d5662bfe",
   "metadata": {
    "tags": []
   },
   "outputs": [
    {
     "data": {
      "text/plain": [
       "['https://www.reuters.com/business/google-parent-lay-off-12000-workers-memo-2023-01-20/',\n",
       " 'https://www.reuters.com/markets/rates-bonds/fed-deliver-two-25-basis-point-hikes-q1-followed-by-long-pause-2023-01-20/',\n",
       " 'https://www.reuters.com/markets/us/us-existing-home-sales-lowest-since-2010-price-growth-slows-2023-01-20/',\n",
       " 'https://www.reuters.com/technology/google-delay-portion-staff-bonus-2023-01-20/',\n",
       " 'https://www.reuters.com/technology/t-mobile-says-investigating-data-breach-affecting-37-mln-accounts-2023-01-19/',\n",
       " 'https://www.reuters.com/technology/capital-one-scraps-1100-tech-positions-source-2023-01-19/',\n",
       " 'https://www.reuters.com/world/us/us-asks-judge-hold-shkreli-contempt-flouting-pharma-industry-ban-filing-2023-01-20/',\n",
       " 'https://www.reuters.com/markets/deals/amazons-aws-invest-35-bln-virginia-2023-01-20/',\n",
       " 'https://www.reuters.com/business/davos-2023-key-takeaways-world-economic-forum-2023-01-20/',\n",
       " 'https://www.reuters.com/business/aerospace-defense/airbus-implements-a350-design-change-amid-qatar-airways-feud-2023-01-19/',\n",
       " 'https://www.reuters.com/business/autos-transportation/tesla-uses-its-profits-weapon-an-ev-price-war-2023-01-19/',\n",
       " 'https://www.reuters.com/technology/heres-what-twitter-lost-advertising-revenue-final-months-2022-2023-01-19/',\n",
       " 'https://www.reuters.com/business/autos-transportation/teslas-price-cuts-promise-more-pain-money-losing-us-ev-startups-2023-01-20/',\n",
       " 'https://www.reuters.com/technology/crypto-lending-unit-genesis-files-us-bankruptcy-2023-01-20/',\n",
       " 'https://www.reuters.com/world/india/indias-aviation-regulator-fines-air-india-about-37000-unruly-passenger-incident-2023-01-20/',\n",
       " 'https://www.reuters.com/markets/us/nasdaq-eyes-higher-open-netflix-boost-2023-01-20/',\n",
       " 'https://www.reuters.com/markets/asia/first-raise-japan-day-labourer-20-years-mcdonalds-out-reach-2023-01-20/',\n",
       " 'https://www.reuters.com/markets/us/smaller-fed-rate-hike-may-augur-end-ongoing-increases-2023-01-20/',\n",
       " 'https://www.reuters.com/markets/us/wall-st-week-ahead-tech-stock-rebound-faces-doubters-with-earnings-season-ahead-2023-01-20/',\n",
       " 'https://www.reuters.com/business/autos-transportation/french-court-orders-uber-pay-some-18-mln-drivers-company-appeal-2023-01-20/']"
      ]
     },
     "execution_count": 21,
     "metadata": {},
     "output_type": "execute_result"
    }
   ],
   "source": [
    "soup_reuters = BeautifulSoup(r_reuters.content, 'html.parser')\n",
    "atag_reuters = soup_reuters.find_all('a', attrs={\"data-testid\": \"Heading\"})\n",
    "\n",
    "reuters_business_list = [reuters_news_url + i['href'] for i in atag_reuters]\n",
    "reuters_business_list"
   ]
  },
  {
   "cell_type": "code",
   "execution_count": 22,
   "id": "564fc1c4-3d3a-4614-87dd-7f56e9a9b5f5",
   "metadata": {},
   "outputs": [
    {
     "name": "stdout",
     "output_type": "stream",
     "text": [
      "https://apnews.com/article/abortion-florida-state-government-kentucky-6ed9dbcdaae33312f1425ea38b681a7e\n",
      "https://techcrunch.com/2023/01/20/microsoft-joined-the-layoff-parade-did-it-really-have-to/\n",
      "https://www.reuters.com/business/google-parent-lay-off-12000-workers-memo-2023-01-20/\n"
     ]
    }
   ],
   "source": [
    "first_ap_news_url = ap_topnews_list[0]\n",
    "first_tech_news_url = tech_news_list[0]\n",
    "first_reuters_news_url = reuters_business_list[0]\n",
    "list_of_main_news = [first_ap_news_url, first_tech_news_url, first_reuters_news_url]\n",
    "\n",
    "print(first_ap_news_url)\n",
    "print(first_tech_news_url)\n",
    "print(first_reuters_news_url)"
   ]
  },
  {
   "cell_type": "code",
   "execution_count": 23,
   "id": "0ee59cf2-8ea6-4b1e-8629-fad7c806a254",
   "metadata": {},
   "outputs": [
    {
     "name": "stdout",
     "output_type": "stream",
     "text": [
      "March for Life eyes Congress for post-Roe abortion limits\n",
      "Microsoft joined the layoff parade. Did it really have to?\n",
      "Google parent cuts 12,000 jobs after pandemic hiring spree\n"
     ]
    }
   ],
   "source": [
    "for url in list_of_main_news:\n",
    "    print(NewsPlease.from_url(url).title)"
   ]
  },
  {
   "cell_type": "code",
   "execution_count": 24,
   "id": "8e21e4fc-70ab-480a-b161-9705415d7c39",
   "metadata": {},
   "outputs": [],
   "source": [
    "ap_article = NewsPlease.from_url(list_of_main_news[0])\n",
    "tech_article = NewsPlease.from_url(list_of_main_news[1])\n",
    "reuters_article = NewsPlease.from_url(list_of_main_news[2])"
   ]
  },
  {
   "cell_type": "code",
   "execution_count": 25,
   "id": "2a81f7a6-327e-4c08-86d9-34f57db82b4e",
   "metadata": {},
   "outputs": [
    {
     "name": "stdout",
     "output_type": "stream",
     "text": [
      "March for Life eyes Congress for post-Roe abortion limits\n",
      "Microsoft joined the layoff parade. Did it really have to?\n",
      "Google parent cuts 12,000 jobs after pandemic hiring spree\n"
     ]
    }
   ],
   "source": [
    "print(ap_article.title)\n",
    "print(tech_article.title)\n",
    "print(reuters_article.title)"
   ]
  },
  {
   "cell_type": "code",
   "execution_count": 26,
   "id": "f96a0aa9-74b0-49b2-8fc7-46a64055b412",
   "metadata": {},
   "outputs": [
    {
     "data": {
      "text/plain": [
       "\"View US and international top news from The Associated Press. Stay up to date on all of today's top news stories with AP Top News.\""
      ]
     },
     "execution_count": 26,
     "metadata": {},
     "output_type": "execute_result"
    }
   ],
   "source": [
    "article.description"
   ]
  },
  {
   "cell_type": "code",
   "execution_count": 27,
   "id": "efcb59ff-eed5-4d21-97f3-11a76f906141",
   "metadata": {},
   "outputs": [
    {
     "data": {
      "text/plain": [
       "'https://apnews.com/hub/ap-top-news'"
      ]
     },
     "execution_count": 27,
     "metadata": {},
     "output_type": "execute_result"
    }
   ],
   "source": [
    "article.url"
   ]
  },
  {
   "cell_type": "code",
   "execution_count": 28,
   "id": "c1e8e0b5-8456-43c5-800d-d3f5956d08de",
   "metadata": {},
   "outputs": [],
   "source": [
    "article_list = [ap_article, tech_article, reuters_article]"
   ]
  },
  {
   "cell_type": "markdown",
   "id": "44c5423a-daf7-458b-a853-74002bb577df",
   "metadata": {},
   "source": [
    "# Types of text summarization\n",
    "* Extreactive text summarization\n",
    "* Abstractive text summarization"
   ]
  },
  {
   "cell_type": "markdown",
   "id": "8bf95bce-c6da-4588-9bd7-1b9fa116b572",
   "metadata": {},
   "source": [
    "# Extractive methods\n",
    "1. TextRank\n",
    "2. LexRank\n",
    "3. LSA (Latent semantic analysis)\n",
    "4. Luhn\n",
    "5. KL-Sum"
   ]
  },
  {
   "cell_type": "markdown",
   "id": "e4fd178a-2c8b-4e6d-861e-77cc3ba5c4ab",
   "metadata": {},
   "source": [
    "## TextRank (summa library)"
   ]
  },
  {
   "cell_type": "code",
   "execution_count": 29,
   "id": "208f0ab9-2599-4c94-9198-119965343ff4",
   "metadata": {},
   "outputs": [],
   "source": [
    "import summa\n",
    "from summa.summarizer import summarize"
   ]
  },
  {
   "cell_type": "code",
   "execution_count": 30,
   "id": "22219008-40b5-4d6a-8051-c8010842b261",
   "metadata": {},
   "outputs": [
    {
     "name": "stdout",
     "output_type": "stream",
     "text": [
      "March for Life eyes Congress for post-Roe abortion limits\n",
      "Jeanne Mancini, president of the March for Life Education and Defense Fund, said the march is “a somber reminder of the millions of lives lost to abortion in the past 50 years, but also a celebration of how far we have come and where we as a movement need to focus our effort as we enter this new era in our quest to protect life.”\n",
      "\n",
      "\n",
      "Microsoft joined the layoff parade. Did it really have to?\n",
      "That’s up from 163,000 in 2020 and 181,000 in 2021, meaning the company added more than 57,000 employees in a two-year period before cutting 10,000 this week.\n",
      "Companies usually cut costs because the business no longer supports the workforce, but Microsoft has had a pretty decent year, as the chart below shows:\n",
      "\n",
      "\n",
      "Google parent cuts 12,000 jobs after pandemic hiring spree\n",
      "Jan 20 (Reuters) - Google's parent Alphabet Inc (GOOGL.O) is cutting about 12,000 jobs as it faces \"a different economic reality\", it said in a staff memo, the latest among tech giants to downsize after a pandemic-led hiring spree left them flabby in a weak economy.\n",
      "\n",
      "\n"
     ]
    }
   ],
   "source": [
    "for article in article_list:\n",
    "    print(article.title)\n",
    "    print(summarize(article.maintext, language='english', words=50)) # 50 words\n",
    "    print(\"\\n\")"
   ]
  },
  {
   "cell_type": "code",
   "execution_count": 31,
   "id": "9996d119-0925-4b88-8a17-db65d8e1aa70",
   "metadata": {},
   "outputs": [
    {
     "data": {
      "text/plain": [
       "'Jeanne Mancini, president of the March for Life Education and Defense Fund, said the march is “a somber reminder of the millions of lives lost to abortion in the past 50 years, but also a celebration of how far we have come and where we as a movement need to focus our effort as we enter this new era in our quest to protect life.”'"
      ]
     },
     "execution_count": 31,
     "metadata": {},
     "output_type": "execute_result"
    }
   ],
   "source": [
    "summarize(ap_article.maintext, language='english', words=50)"
   ]
  },
  {
   "cell_type": "markdown",
   "id": "3a181a47-89b2-4c70-a152-75bbd137030f",
   "metadata": {},
   "source": [
    "## LexRank (sumy library)"
   ]
  },
  {
   "cell_type": "code",
   "execution_count": 32,
   "id": "bcbadd7a-13df-44c7-8d90-1d360bd251f0",
   "metadata": {},
   "outputs": [],
   "source": [
    "# Importing the parser and tokenizer\n",
    "from sumy.parsers.plaintext import PlaintextParser\n",
    "from sumy.nlp.tokenizers import Tokenizer"
   ]
  },
  {
   "cell_type": "code",
   "execution_count": 33,
   "id": "8e122c30-06e8-41cb-94ed-dfc5175ec050",
   "metadata": {},
   "outputs": [],
   "source": [
    "# Import the LexRank summarizer\n",
    "from sumy.summarizers.lex_rank import LexRankSummarizer"
   ]
  },
  {
   "cell_type": "code",
   "execution_count": 34,
   "id": "d5ba6400-1e1f-4a77-992b-94432b48f889",
   "metadata": {},
   "outputs": [],
   "source": [
    "# Initializing the parser\n",
    "my_parser = PlaintextParser.from_string(ap_article.maintext,Tokenizer('english'))"
   ]
  },
  {
   "cell_type": "code",
   "execution_count": 35,
   "id": "13234062-18a2-4906-a32a-14de1db527e9",
   "metadata": {},
   "outputs": [
    {
     "data": {
      "text/plain": [
       "<sumy.parsers.plaintext.PlaintextParser at 0x142138520>"
      ]
     },
     "execution_count": 35,
     "metadata": {},
     "output_type": "execute_result"
    }
   ],
   "source": [
    "my_parser"
   ]
  },
  {
   "cell_type": "code",
   "execution_count": 36,
   "id": "c11fbe32-6d25-408f-963f-b272f6a8205a",
   "metadata": {},
   "outputs": [
    {
     "name": "stdout",
     "output_type": "stream",
     "text": [
      "“We want it to be unthinkable for a woman to have an abortion,” she said.\n",
      "Jeanne Mancini, president of the March for Life Education and Defense Fund, said the march is “a somber reminder of the millions of lives lost to abortion in the past 50 years, but also a celebration of how far we have come and where we as a movement need to focus our effort as we enter this new era in our quest to protect life.”\n",
      "Marjorie Dannenfelser, president of SBA Pro-Life America, said she envisions an eventual “federal minimum standard” cut-off line such as 13 weeks of pregnancy after which abortion would not be permitted in any state.\n"
     ]
    }
   ],
   "source": [
    "# Creating a summary of 3 sentences.\n",
    "lex_rank_summarizer = LexRankSummarizer()\n",
    "lexrank_summary = lex_rank_summarizer(my_parser.document,sentences_count=3)\n",
    "\n",
    "# Printing the summary\n",
    "for sentence in lexrank_summary:\n",
    "  print(sentence)"
   ]
  },
  {
   "cell_type": "markdown",
   "id": "93f4c406-947e-482f-b569-246fe08ecde8",
   "metadata": {},
   "source": [
    "## LSA (Latent semantic analysis)"
   ]
  },
  {
   "cell_type": "code",
   "execution_count": 37,
   "id": "bda1a450-33cd-4dbd-a008-b1a85f9e8cc7",
   "metadata": {},
   "outputs": [],
   "source": [
    "# Import the summarizer\n",
    "from sumy.summarizers.lsa import LsaSummarizer\n"
   ]
  },
  {
   "cell_type": "code",
   "execution_count": 38,
   "id": "d5485f86-6e51-4095-bdd0-38353fe1cd21",
   "metadata": {},
   "outputs": [
    {
     "name": "stdout",
     "output_type": "stream",
     "text": [
      "Since June, near-total bans on abortion have been implemented in Alabama, Arkansas, Idaho, Kentucky, Louisiana, Mississippi, Missouri, Oklahoma, South Dakota, Tennessee, Texas and West Virginia.\n",
      "Ron DeSantis, a potential leading Republican candidate, and came away “incredibly impressed,” but said it was still too early for her organization to endorse anyone.\n",
      "She predicted that there will be some “fault lines” among Republican presidential contenders over abortion rights and protections, but warned that any candidate perceived as being soft on the issue will have “disqualified him or herself as a presidential candidate in our eyes, and having done so has very little chance of winning the nomination.” ___ AP video journalist Mike Pesoli contributed to this report.\n"
     ]
    }
   ],
   "source": [
    "# creating the summarizer\n",
    "lsa_summarizer=LsaSummarizer()\n",
    "lsa_summary= lsa_summarizer(my_parser.document,3)\n",
    "\n",
    "# Printing the summary\n",
    "for sentence in lsa_summary:\n",
    "    print(sentence)"
   ]
  },
  {
   "cell_type": "markdown",
   "id": "192c3810-dedc-4070-b463-e0297f47a614",
   "metadata": {},
   "source": [
    "## Luhn"
   ]
  },
  {
   "cell_type": "code",
   "execution_count": 39,
   "id": "a42abf63-10d3-4e19-a4f0-2e7b4eb1feea",
   "metadata": {},
   "outputs": [],
   "source": [
    "# Import the summarizer\n",
    "from sumy.summarizers.luhn import LuhnSummarizer"
   ]
  },
  {
   "cell_type": "code",
   "execution_count": 40,
   "id": "3d335763-241f-4002-a8f2-ba0c825623ff",
   "metadata": {},
   "outputs": [
    {
     "name": "stdout",
     "output_type": "stream",
     "text": [
      "(AP Photo/Alex Brandon) WASHINGTON (AP) — A half century after Roe v. Wade, March for Life supporters on Friday celebrated the Supreme Court’s dismantling of that constitutional right to abortion and heralded the political struggle set loose by the court’s decision.\n",
      "Jeanne Mancini, president of the March for Life Education and Defense Fund, said the march is “a somber reminder of the millions of lives lost to abortion in the past 50 years, but also a celebration of how far we have come and where we as a movement need to focus our effort as we enter this new era in our quest to protect life.”\n",
      "She predicted that there will be some “fault lines” among Republican presidential contenders over abortion rights and protections, but warned that any candidate perceived as being soft on the issue will have “disqualified him or herself as a presidential candidate in our eyes, and having done so has very little chance of winning the nomination.” ___ AP video journalist Mike Pesoli contributed to this report.\n"
     ]
    }
   ],
   "source": [
    "#  Creating the summarizer\n",
    "luhn_summarizer=LuhnSummarizer()\n",
    "luhn_summary=luhn_summarizer(my_parser.document,sentences_count=3)\n",
    "\n",
    "# Printing the summary\n",
    "for sentence in luhn_summary:\n",
    "  print(sentence)"
   ]
  },
  {
   "cell_type": "markdown",
   "id": "586ff4b9-995b-4242-b146-63d1f1ac6975",
   "metadata": {},
   "source": [
    "## LK-Sum"
   ]
  },
  {
   "cell_type": "code",
   "execution_count": 41,
   "id": "ff71bd77-f15f-49a8-acd0-42e6765bc74b",
   "metadata": {},
   "outputs": [],
   "source": [
    "# Import the summarizer\n",
    "from sumy.summarizers.kl import KLSummarizer"
   ]
  },
  {
   "cell_type": "code",
   "execution_count": 42,
   "id": "d011943c-f12b-43fe-88dd-615a14659085",
   "metadata": {},
   "outputs": [
    {
     "name": "stdout",
     "output_type": "stream",
     "text": [
      "With the U.S. Capitol in the background, anti-abortion demonstrators march toward the U.S. Supreme Court during the March for Life, Friday, Jan. 20, 2023, in Washington.\n",
      "(AP Photo/Alex Brandon) With the U.S. Capitol in the background, anti-abortion demonstrators march toward the U.S. Supreme Court during the March for Life, Friday, Jan. 20, 2023, in Washington.\n",
      "The first March for Life since the Supreme Court overturned Roe v. Wade in June came with a new focus.\n"
     ]
    }
   ],
   "source": [
    "# Instantiating the  KLSummarizer\n",
    "kl_summarizer=KLSummarizer()\n",
    "kl_summary=kl_summarizer(my_parser.document,sentences_count=3)\n",
    "\n",
    "# Printing the summary\n",
    "for sentence in kl_summary:\n",
    "    print(sentence)"
   ]
  },
  {
   "cell_type": "markdown",
   "id": "eaa6f5f6-7370-4ef5-b565-3a8211d16f09",
   "metadata": {},
   "source": [
    "# Abstractive method"
   ]
  },
  {
   "cell_type": "markdown",
   "id": "e6aff92e-3d77-4f31-b4d2-106ff0eafa6d",
   "metadata": {},
   "source": [
    "## Summarization with T5 Transformers"
   ]
  },
  {
   "cell_type": "code",
   "execution_count": 43,
   "id": "610a8bc9-dab3-4abc-ae75-120e59149e8e",
   "metadata": {},
   "outputs": [],
   "source": [
    "# Importing requirements\n",
    "from transformers import T5Tokenizer, T5Config, T5ForConditionalGeneration"
   ]
  },
  {
   "cell_type": "code",
   "execution_count": null,
   "id": "18355020-d778-4ae5-bf9a-f40876773a4e",
   "metadata": {},
   "outputs": [
    {
     "data": {
      "application/vnd.jupyter.widget-view+json": {
       "model_id": "1bf94f333d0b4d1fa1f16b4a3e0d96cb",
       "version_major": 2,
       "version_minor": 0
      },
      "text/plain": [
       "Downloading:   0%|          | 0.00/1.21k [00:00<?, ?B/s]"
      ]
     },
     "metadata": {},
     "output_type": "display_data"
    },
    {
     "data": {
      "application/vnd.jupyter.widget-view+json": {
       "model_id": "7b33b2c491d940da9666948e927db374",
       "version_major": 2,
       "version_minor": 0
      },
      "text/plain": [
       "Downloading:   0%|          | 0.00/242M [00:00<?, ?B/s]"
      ]
     },
     "metadata": {},
     "output_type": "display_data"
    }
   ],
   "source": [
    "# Instantiating the model and tokenizer \n",
    "my_model = T5ForConditionalGeneration.from_pretrained('t5-small')\n",
    "tokenizer = T5Tokenizer.from_pretrained('t5-small')"
   ]
  },
  {
   "cell_type": "code",
   "execution_count": null,
   "id": "c2b891e2-5427-4836-a739-895baf3b9c51",
   "metadata": {},
   "outputs": [],
   "source": []
  }
 ],
 "metadata": {
  "kernelspec": {
   "display_name": "Python 3 (ipykernel)",
   "language": "python",
   "name": "python3"
  },
  "language_info": {
   "codemirror_mode": {
    "name": "ipython",
    "version": 3
   },
   "file_extension": ".py",
   "mimetype": "text/x-python",
   "name": "python",
   "nbconvert_exporter": "python",
   "pygments_lexer": "ipython3",
   "version": "3.9.12"
  }
 },
 "nbformat": 4,
 "nbformat_minor": 5
}
