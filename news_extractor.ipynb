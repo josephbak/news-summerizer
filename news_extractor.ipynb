{
 "cells": [
  {
   "cell_type": "code",
   "execution_count": 1,
   "id": "089c10f2-69b8-4e77-95fc-6d1899c613be",
   "metadata": {
    "tags": []
   },
   "outputs": [],
   "source": [
    "import sys"
   ]
  },
  {
   "cell_type": "code",
   "execution_count": null,
   "id": "2b4ea787-033a-4104-8e19-bd1ccdd70498",
   "metadata": {},
   "outputs": [],
   "source": [
    "!{sys.executable} -m pip install GoogleNews"
   ]
  },
  {
   "cell_type": "code",
   "execution_count": 45,
   "id": "2caf094d-8789-4d49-b0fb-423a157b6f41",
   "metadata": {
    "tags": []
   },
   "outputs": [
    {
     "name": "stdout",
     "output_type": "stream",
     "text": [
      "\u001b[33mDEPRECATION: Configuring installation scheme with distutils config files is deprecated and will no longer work in the near future. If you are using a Homebrew or Linuxbrew Python, please see discussion at https://github.com/Homebrew/homebrew-core/issues/76621\u001b[0m\u001b[33m\n",
      "\u001b[0mRequirement already satisfied: beautifulsoup4 in /usr/local/lib/python3.9/site-packages (4.11.1)\n",
      "Requirement already satisfied: soupsieve>1.2 in /usr/local/lib/python3.9/site-packages (from beautifulsoup4) (2.3.2.post1)\n",
      "\u001b[33mDEPRECATION: Configuring installation scheme with distutils config files is deprecated and will no longer work in the near future. If you are using a Homebrew or Linuxbrew Python, please see discussion at https://github.com/Homebrew/homebrew-core/issues/76621\u001b[0m\u001b[33m\n",
      "\u001b[0m"
     ]
    }
   ],
   "source": [
    "!{sys.executable} -m pip install beautifulsoup4"
   ]
  },
  {
   "cell_type": "code",
   "execution_count": 43,
   "id": "d4fc9e55-21ee-4b01-bfd9-6458507f5abf",
   "metadata": {},
   "outputs": [
    {
     "name": "stdout",
     "output_type": "stream",
     "text": [
      "zsh:1: parse error near `-m'\n"
     ]
    }
   ],
   "source": [
    "!{sys.executable} -m pip install news-please"
   ]
  },
  {
   "cell_type": "code",
   "execution_count": 46,
   "id": "e20346fe-89a2-4bbe-a1a5-aa1b35cad91e",
   "metadata": {
    "collapsed": true,
    "jupyter": {
     "outputs_hidden": true
    },
    "tags": []
   },
   "outputs": [
    {
     "name": "stdout",
     "output_type": "stream",
     "text": [
      "\u001b[33mDEPRECATION: Configuring installation scheme with distutils config files is deprecated and will no longer work in the near future. If you are using a Homebrew or Linuxbrew Python, please see discussion at https://github.com/Homebrew/homebrew-core/issues/76621\u001b[0m\u001b[33m\n",
      "\u001b[0mCollecting gensim\n",
      "  Downloading gensim-4.3.0-cp39-cp39-macosx_10_9_x86_64.whl (24.0 MB)\n",
      "\u001b[2K     \u001b[38;2;114;156;31m━━━━━━━━━━━━━━━━━━━━━━━━━━━━━━━━━━━━━━━━\u001b[0m \u001b[32m24.0/24.0 MB\u001b[0m \u001b[31m9.3 MB/s\u001b[0m eta \u001b[36m0:00:00\u001b[0m0m eta \u001b[36m0:00:01\u001b[0m0:01\u001b[0m:01\u001b[0m\n",
      "\u001b[?25hCollecting smart-open>=1.8.1\n",
      "  Downloading smart_open-6.3.0-py3-none-any.whl (56 kB)\n",
      "\u001b[2K     \u001b[38;2;114;156;31m━━━━━━━━━━━━━━━━━━━━━━━━━━━━━━━━━━━━━━━━\u001b[0m \u001b[32m56.8/56.8 kB\u001b[0m \u001b[31m1.9 MB/s\u001b[0m eta \u001b[36m0:00:00\u001b[0m\n",
      "\u001b[?25hRequirement already satisfied: numpy>=1.18.5 in /usr/local/lib/python3.9/site-packages (from gensim) (1.23.3)\n",
      "Collecting FuzzyTM>=0.4.0\n",
      "  Downloading FuzzyTM-2.0.5-py3-none-any.whl (29 kB)\n",
      "Requirement already satisfied: scipy>=1.7.0 in /usr/local/lib/python3.9/site-packages (from gensim) (1.9.3)\n",
      "Collecting pyfume\n",
      "  Downloading pyFUME-0.2.25-py3-none-any.whl (67 kB)\n",
      "\u001b[2K     \u001b[38;2;114;156;31m━━━━━━━━━━━━━━━━━━━━━━━━━━━━━━━━━━━━━━━━\u001b[0m \u001b[32m67.1/67.1 kB\u001b[0m \u001b[31m2.0 MB/s\u001b[0m eta \u001b[36m0:00:00\u001b[0m\n",
      "\u001b[?25hRequirement already satisfied: pandas in /usr/local/lib/python3.9/site-packages (from FuzzyTM>=0.4.0->gensim) (1.5.1)\n",
      "Requirement already satisfied: python-dateutil>=2.8.1 in /usr/local/lib/python3.9/site-packages (from pandas->FuzzyTM>=0.4.0->gensim) (2.8.2)\n",
      "Requirement already satisfied: pytz>=2020.1 in /usr/local/lib/python3.9/site-packages (from pandas->FuzzyTM>=0.4.0->gensim) (2022.1)\n",
      "Collecting simpful\n",
      "  Downloading simpful-2.9.0-py3-none-any.whl (30 kB)\n",
      "Collecting fst-pso\n",
      "  Downloading fst-pso-1.8.1.tar.gz (18 kB)\n",
      "  Preparing metadata (setup.py) ... \u001b[?25ldone\n",
      "\u001b[?25hRequirement already satisfied: six>=1.5 in /usr/local/lib/python3.9/site-packages (from python-dateutil>=2.8.1->pandas->FuzzyTM>=0.4.0->gensim) (1.16.0)\n",
      "Collecting miniful\n",
      "  Downloading miniful-0.0.6.tar.gz (2.8 kB)\n",
      "  Preparing metadata (setup.py) ... \u001b[?25ldone\n",
      "\u001b[?25hRequirement already satisfied: requests in /usr/local/lib/python3.9/site-packages (from simpful->pyfume->FuzzyTM>=0.4.0->gensim) (2.27.1)\n",
      "Requirement already satisfied: charset-normalizer~=2.0.0 in /usr/local/lib/python3.9/site-packages (from requests->simpful->pyfume->FuzzyTM>=0.4.0->gensim) (2.0.12)\n",
      "Requirement already satisfied: idna<4,>=2.5 in /usr/local/lib/python3.9/site-packages (from requests->simpful->pyfume->FuzzyTM>=0.4.0->gensim) (3.3)\n",
      "Requirement already satisfied: urllib3<1.27,>=1.21.1 in /usr/local/lib/python3.9/site-packages (from requests->simpful->pyfume->FuzzyTM>=0.4.0->gensim) (1.26.9)\n",
      "Requirement already satisfied: certifi>=2017.4.17 in /usr/local/lib/python3.9/site-packages (from requests->simpful->pyfume->FuzzyTM>=0.4.0->gensim) (2021.10.8)\n",
      "Building wheels for collected packages: fst-pso, miniful\n",
      "  Building wheel for fst-pso (setup.py) ... \u001b[?25ldone\n",
      "\u001b[?25h  Created wheel for fst-pso: filename=fst_pso-1.8.1-py3-none-any.whl size=20444 sha256=6b1d44c73c3bbf2a235a242e964dc9b09f626e72daec1c5b144b73f120b9931c\n",
      "  Stored in directory: /Users/josephbak/Library/Caches/pip/wheels/d7/1e/9c/3c352867b1bb1ddba0e51149a0d06c1e50c1c9b1c5ebcac787\n",
      "  Building wheel for miniful (setup.py) ... \u001b[?25ldone\n",
      "\u001b[?25h  Created wheel for miniful: filename=miniful-0.0.6-py3-none-any.whl size=3529 sha256=71986b9194ed57e41a708449be9e57d91f0c83a8a0bedc404412f9a3f7d886b5\n",
      "  Stored in directory: /Users/josephbak/Library/Caches/pip/wheels/37/45/a2/db878712db97aaab6f574d750789bc6c99e3b706af8af6b936\n",
      "Successfully built fst-pso miniful\n",
      "Installing collected packages: smart-open, simpful, miniful, fst-pso, pyfume, FuzzyTM, gensim\n",
      "\u001b[33m  DEPRECATION: Configuring installation scheme with distutils config files is deprecated and will no longer work in the near future. If you are using a Homebrew or Linuxbrew Python, please see discussion at https://github.com/Homebrew/homebrew-core/issues/76621\u001b[0m\u001b[33m\n",
      "\u001b[0m\u001b[33m  DEPRECATION: Configuring installation scheme with distutils config files is deprecated and will no longer work in the near future. If you are using a Homebrew or Linuxbrew Python, please see discussion at https://github.com/Homebrew/homebrew-core/issues/76621\u001b[0m\u001b[33m\n",
      "\u001b[0m\u001b[33m  DEPRECATION: Configuring installation scheme with distutils config files is deprecated and will no longer work in the near future. If you are using a Homebrew or Linuxbrew Python, please see discussion at https://github.com/Homebrew/homebrew-core/issues/76621\u001b[0m\u001b[33m\n",
      "\u001b[0m\u001b[33m  DEPRECATION: Configuring installation scheme with distutils config files is deprecated and will no longer work in the near future. If you are using a Homebrew or Linuxbrew Python, please see discussion at https://github.com/Homebrew/homebrew-core/issues/76621\u001b[0m\u001b[33m\n",
      "\u001b[0m\u001b[33m  DEPRECATION: Configuring installation scheme with distutils config files is deprecated and will no longer work in the near future. If you are using a Homebrew or Linuxbrew Python, please see discussion at https://github.com/Homebrew/homebrew-core/issues/76621\u001b[0m\u001b[33m\n",
      "\u001b[0m\u001b[33m  DEPRECATION: Configuring installation scheme with distutils config files is deprecated and will no longer work in the near future. If you are using a Homebrew or Linuxbrew Python, please see discussion at https://github.com/Homebrew/homebrew-core/issues/76621\u001b[0m\u001b[33m\n",
      "\u001b[0m\u001b[33m  DEPRECATION: Configuring installation scheme with distutils config files is deprecated and will no longer work in the near future. If you are using a Homebrew or Linuxbrew Python, please see discussion at https://github.com/Homebrew/homebrew-core/issues/76621\u001b[0m\u001b[33m\n",
      "\u001b[0m\u001b[33mDEPRECATION: Configuring installation scheme with distutils config files is deprecated and will no longer work in the near future. If you are using a Homebrew or Linuxbrew Python, please see discussion at https://github.com/Homebrew/homebrew-core/issues/76621\u001b[0m\u001b[33m\n",
      "\u001b[0mSuccessfully installed FuzzyTM-2.0.5 fst-pso-1.8.1 gensim-4.3.0 miniful-0.0.6 pyfume-0.2.25 simpful-2.9.0 smart-open-6.3.0\n"
     ]
    }
   ],
   "source": [
    "!{sys.executable} -m pip install gensim"
   ]
  },
  {
   "cell_type": "code",
   "execution_count": 52,
   "id": "74f93e98-65d2-4c46-ae36-4c4fdf5bee1a",
   "metadata": {
    "collapsed": true,
    "jupyter": {
     "outputs_hidden": true
    },
    "tags": []
   },
   "outputs": [
    {
     "name": "stdout",
     "output_type": "stream",
     "text": [
      "\u001b[33mDEPRECATION: Configuring installation scheme with distutils config files is deprecated and will no longer work in the near future. If you are using a Homebrew or Linuxbrew Python, please see discussion at https://github.com/Homebrew/homebrew-core/issues/76621\u001b[0m\u001b[33m\n",
      "\u001b[0mCollecting summa\n",
      "  Downloading summa-1.2.0.tar.gz (54 kB)\n",
      "\u001b[2K     \u001b[38;2;114;156;31m━━━━━━━━━━━━━━━━━━━━━━━━━━━━━━━━━━━━━━━━\u001b[0m \u001b[32m54.9/54.9 kB\u001b[0m \u001b[31m1.1 MB/s\u001b[0m eta \u001b[36m0:00:00\u001b[0m MB/s\u001b[0m eta \u001b[36m0:00:01\u001b[0m\n",
      "\u001b[?25h  Preparing metadata (setup.py) ... \u001b[?25ldone\n",
      "\u001b[?25hRequirement already satisfied: scipy>=0.19 in /usr/local/lib/python3.9/site-packages (from summa) (1.9.3)\n",
      "Requirement already satisfied: numpy<1.26.0,>=1.18.5 in /usr/local/lib/python3.9/site-packages (from scipy>=0.19->summa) (1.23.3)\n",
      "Building wheels for collected packages: summa\n",
      "  Building wheel for summa (setup.py) ... \u001b[?25ldone\n",
      "\u001b[?25h  Created wheel for summa: filename=summa-1.2.0-py3-none-any.whl size=54411 sha256=9b341ee58a21de2fb40c0e97a7a9f1c16aa369f208efec0095d8643f9cacc989\n",
      "  Stored in directory: /Users/josephbak/Library/Caches/pip/wheels/55/a7/39/101e558b91aa3d5c02f3aca887a3abf9b3650005bbb99fbb95\n",
      "Successfully built summa\n",
      "Installing collected packages: summa\n",
      "\u001b[33m  DEPRECATION: Configuring installation scheme with distutils config files is deprecated and will no longer work in the near future. If you are using a Homebrew or Linuxbrew Python, please see discussion at https://github.com/Homebrew/homebrew-core/issues/76621\u001b[0m\u001b[33m\n",
      "\u001b[0m\u001b[33mDEPRECATION: Configuring installation scheme with distutils config files is deprecated and will no longer work in the near future. If you are using a Homebrew or Linuxbrew Python, please see discussion at https://github.com/Homebrew/homebrew-core/issues/76621\u001b[0m\u001b[33m\n",
      "\u001b[0mSuccessfully installed summa-1.2.0\n"
     ]
    }
   ],
   "source": [
    "!{sys.executable} -m pip install summa"
   ]
  },
  {
   "cell_type": "code",
   "execution_count": 48,
   "id": "ad49a4c4-c99b-4e05-9d16-adf46d6b4724",
   "metadata": {
    "collapsed": true,
    "jupyter": {
     "outputs_hidden": true
    },
    "tags": []
   },
   "outputs": [
    {
     "name": "stdout",
     "output_type": "stream",
     "text": [
      "\u001b[33mDEPRECATION: Configuring installation scheme with distutils config files is deprecated and will no longer work in the near future. If you are using a Homebrew or Linuxbrew Python, please see discussion at https://github.com/Homebrew/homebrew-core/issues/76621\u001b[0m\u001b[33m\n",
      "\u001b[0mCollecting sumy\n",
      "  Downloading sumy-0.11.0-py2.py3-none-any.whl (97 kB)\n",
      "\u001b[2K     \u001b[38;2;114;156;31m━━━━━━━━━━━━━━━━━━━━━━━━━━━━━━━━━━━━━━━━\u001b[0m \u001b[32m97.3/97.3 kB\u001b[0m \u001b[31m1.8 MB/s\u001b[0m eta \u001b[36m0:00:00\u001b[0m[31m3.7 MB/s\u001b[0m eta \u001b[36m0:00:01\u001b[0m\n",
      "\u001b[?25hRequirement already satisfied: nltk>=3.0.2 in /usr/local/lib/python3.9/site-packages (from sumy) (3.8.1)\n",
      "Collecting breadability>=0.1.20\n",
      "  Using cached breadability-0.1.20.tar.gz (32 kB)\n",
      "  Preparing metadata (setup.py) ... \u001b[?25ldone\n",
      "\u001b[?25hRequirement already satisfied: requests>=2.7.0 in /usr/local/lib/python3.9/site-packages (from sumy) (2.27.1)\n",
      "Collecting docopt<0.7,>=0.6.1\n",
      "  Using cached docopt-0.6.2.tar.gz (25 kB)\n",
      "  Preparing metadata (setup.py) ... \u001b[?25ldone\n",
      "\u001b[?25hCollecting pycountry>=18.2.23\n",
      "  Using cached pycountry-22.3.5.tar.gz (10.1 MB)\n",
      "  Installing build dependencies ... \u001b[?25ldone\n",
      "\u001b[?25h  Getting requirements to build wheel ... \u001b[?25ldone\n",
      "\u001b[?25h  Preparing metadata (pyproject.toml) ... \u001b[?25ldone\n",
      "\u001b[?25hRequirement already satisfied: chardet in /usr/local/lib/python3.9/site-packages (from breadability>=0.1.20->sumy) (5.1.0)\n",
      "Requirement already satisfied: lxml>=2.0 in /usr/local/lib/python3.9/site-packages (from breadability>=0.1.20->sumy) (4.9.1)\n",
      "Requirement already satisfied: tqdm in /usr/local/lib/python3.9/site-packages (from nltk>=3.0.2->sumy) (4.64.1)\n",
      "Requirement already satisfied: click in /usr/local/lib/python3.9/site-packages (from nltk>=3.0.2->sumy) (8.1.3)\n",
      "Requirement already satisfied: joblib in /usr/local/lib/python3.9/site-packages (from nltk>=3.0.2->sumy) (1.2.0)\n",
      "Requirement already satisfied: regex>=2021.8.3 in /usr/local/lib/python3.9/site-packages (from nltk>=3.0.2->sumy) (2022.10.31)\n",
      "Requirement already satisfied: setuptools in /usr/local/lib/python3.9/site-packages (from pycountry>=18.2.23->sumy) (60.10.0)\n",
      "Requirement already satisfied: charset-normalizer~=2.0.0 in /usr/local/lib/python3.9/site-packages (from requests>=2.7.0->sumy) (2.0.12)\n",
      "Requirement already satisfied: idna<4,>=2.5 in /usr/local/lib/python3.9/site-packages (from requests>=2.7.0->sumy) (3.3)\n",
      "Requirement already satisfied: urllib3<1.27,>=1.21.1 in /usr/local/lib/python3.9/site-packages (from requests>=2.7.0->sumy) (1.26.9)\n",
      "Requirement already satisfied: certifi>=2017.4.17 in /usr/local/lib/python3.9/site-packages (from requests>=2.7.0->sumy) (2021.10.8)\n",
      "Building wheels for collected packages: breadability, docopt, pycountry\n",
      "  Building wheel for breadability (setup.py) ... \u001b[?25ldone\n",
      "\u001b[?25h  Created wheel for breadability: filename=breadability-0.1.20-py2.py3-none-any.whl size=21712 sha256=f792f1a7030a1b9d6f8f06fe915077b58d2af9195bff99e4a61e995ef86ee624\n",
      "  Stored in directory: /Users/josephbak/Library/Caches/pip/wheels/a3/54/93/5ee986869eff19018d2b18012d2020e3f11e03998814a89400\n",
      "  Building wheel for docopt (setup.py) ... \u001b[?25ldone\n",
      "\u001b[?25h  Created wheel for docopt: filename=docopt-0.6.2-py2.py3-none-any.whl size=13723 sha256=380ccb78850954ba7ba94bf4a8281f9a3ac9df43d315f5fdf3d52437573e0008\n",
      "  Stored in directory: /Users/josephbak/Library/Caches/pip/wheels/4e/29/5e/e5f6f558e24e0d70f6808e3e8fdaf2c04ff597233098afc550\n",
      "  Building wheel for pycountry (pyproject.toml) ... \u001b[?25ldone\n",
      "\u001b[?25h  Created wheel for pycountry: filename=pycountry-22.3.5-py2.py3-none-any.whl size=10681832 sha256=cb998084eb06072cf5b8541fb6dea4f16c5abee774c666a1c35248fc6114ad98\n",
      "  Stored in directory: /Users/josephbak/Library/Caches/pip/wheels/2a/bf/ee/5d97ac1436ea1c4cae0151bf814a663125b63131d9b1b12ae7\n",
      "Successfully built breadability docopt pycountry\n",
      "Installing collected packages: docopt, pycountry, breadability, sumy\n",
      "\u001b[33m  DEPRECATION: Configuring installation scheme with distutils config files is deprecated and will no longer work in the near future. If you are using a Homebrew or Linuxbrew Python, please see discussion at https://github.com/Homebrew/homebrew-core/issues/76621\u001b[0m\u001b[33m\n",
      "\u001b[0m\u001b[33m  DEPRECATION: Configuring installation scheme with distutils config files is deprecated and will no longer work in the near future. If you are using a Homebrew or Linuxbrew Python, please see discussion at https://github.com/Homebrew/homebrew-core/issues/76621\u001b[0m\u001b[33m\n",
      "\u001b[0m\u001b[33m  DEPRECATION: Configuring installation scheme with distutils config files is deprecated and will no longer work in the near future. If you are using a Homebrew or Linuxbrew Python, please see discussion at https://github.com/Homebrew/homebrew-core/issues/76621\u001b[0m\u001b[33m\n",
      "\u001b[0m\u001b[33m  DEPRECATION: Configuring installation scheme with distutils config files is deprecated and will no longer work in the near future. If you are using a Homebrew or Linuxbrew Python, please see discussion at https://github.com/Homebrew/homebrew-core/issues/76621\u001b[0m\u001b[33m\n",
      "\u001b[0m\u001b[33mDEPRECATION: Configuring installation scheme with distutils config files is deprecated and will no longer work in the near future. If you are using a Homebrew or Linuxbrew Python, please see discussion at https://github.com/Homebrew/homebrew-core/issues/76621\u001b[0m\u001b[33m\n",
      "\u001b[0mSuccessfully installed breadability-0.1.20 docopt-0.6.2 pycountry-22.3.5 sumy-0.11.0\n"
     ]
    }
   ],
   "source": [
    "!{sys.executable} -m pip install sumy"
   ]
  },
  {
   "cell_type": "code",
   "execution_count": 64,
   "id": "a37ce90b-4637-473f-93a5-61129658a281",
   "metadata": {
    "collapsed": true,
    "jupyter": {
     "outputs_hidden": true
    },
    "tags": []
   },
   "outputs": [
    {
     "name": "stdout",
     "output_type": "stream",
     "text": [
      "\u001b[33mDEPRECATION: Configuring installation scheme with distutils config files is deprecated and will no longer work in the near future. If you are using a Homebrew or Linuxbrew Python, please see discussion at https://github.com/Homebrew/homebrew-core/issues/76621\u001b[0m\u001b[33m\n",
      "\u001b[0mCollecting transformers\n",
      "  Downloading transformers-4.25.1-py3-none-any.whl (5.8 MB)\n",
      "\u001b[2K     \u001b[38;2;114;156;31m━━━━━━━━━━━━━━━━━━━━━━━━━━━━━━━━━━━━━━━━\u001b[0m \u001b[32m5.8/5.8 MB\u001b[0m \u001b[31m9.3 MB/s\u001b[0m eta \u001b[36m0:00:00\u001b[0m0m eta \u001b[36m0:00:01\u001b[0m36m0:00:01\u001b[0m\n",
      "\u001b[?25hRequirement already satisfied: regex!=2019.12.17 in /usr/local/lib/python3.9/site-packages (from transformers) (2022.10.31)\n",
      "Requirement already satisfied: filelock in /usr/local/lib/python3.9/site-packages (from transformers) (3.9.0)\n",
      "Collecting huggingface-hub<1.0,>=0.10.0\n",
      "  Downloading huggingface_hub-0.11.1-py3-none-any.whl (182 kB)\n",
      "\u001b[2K     \u001b[38;2;114;156;31m━━━━━━━━━━━━━━━━━━━━━━━━━━━━━━━━━━━━━━━\u001b[0m \u001b[32m182.4/182.4 kB\u001b[0m \u001b[31m4.1 MB/s\u001b[0m eta \u001b[36m0:00:00\u001b[0m MB/s\u001b[0m eta \u001b[36m0:00:01\u001b[0m\n",
      "\u001b[?25hRequirement already satisfied: requests in /usr/local/lib/python3.9/site-packages (from transformers) (2.27.1)\n",
      "Requirement already satisfied: packaging>=20.0 in /usr/local/lib/python3.9/site-packages (from transformers) (21.3)\n",
      "Requirement already satisfied: tqdm>=4.27 in /usr/local/lib/python3.9/site-packages (from transformers) (4.64.1)\n",
      "Collecting tokenizers!=0.11.3,<0.14,>=0.11.1\n",
      "  Downloading tokenizers-0.13.2-cp39-cp39-macosx_10_11_x86_64.whl (3.8 MB)\n",
      "\u001b[2K     \u001b[38;2;114;156;31m━━━━━━━━━━━━━━━━━━━━━━━━━━━━━━━━━━━━━━━━\u001b[0m \u001b[32m3.8/3.8 MB\u001b[0m \u001b[31m5.8 MB/s\u001b[0m eta \u001b[36m0:00:00\u001b[0mm eta \u001b[36m0:00:01\u001b[0m[36m0:00:01\u001b[0mm\n",
      "\u001b[?25hRequirement already satisfied: numpy>=1.17 in /usr/local/lib/python3.9/site-packages (from transformers) (1.23.3)\n",
      "Requirement already satisfied: pyyaml>=5.1 in /usr/local/lib/python3.9/site-packages (from transformers) (5.4.1)\n",
      "Requirement already satisfied: typing-extensions>=3.7.4.3 in /usr/local/lib/python3.9/site-packages (from huggingface-hub<1.0,>=0.10.0->transformers) (4.4.0)\n",
      "Requirement already satisfied: pyparsing!=3.0.5,>=2.0.2 in /usr/local/lib/python3.9/site-packages (from packaging>=20.0->transformers) (3.0.8)\n",
      "Requirement already satisfied: certifi>=2017.4.17 in /usr/local/lib/python3.9/site-packages (from requests->transformers) (2021.10.8)\n",
      "Requirement already satisfied: urllib3<1.27,>=1.21.1 in /usr/local/lib/python3.9/site-packages (from requests->transformers) (1.26.9)\n",
      "Requirement already satisfied: idna<4,>=2.5 in /usr/local/lib/python3.9/site-packages (from requests->transformers) (3.3)\n",
      "Requirement already satisfied: charset-normalizer~=2.0.0 in /usr/local/lib/python3.9/site-packages (from requests->transformers) (2.0.12)\n",
      "Installing collected packages: tokenizers, huggingface-hub, transformers\n",
      "\u001b[33m  DEPRECATION: Configuring installation scheme with distutils config files is deprecated and will no longer work in the near future. If you are using a Homebrew or Linuxbrew Python, please see discussion at https://github.com/Homebrew/homebrew-core/issues/76621\u001b[0m\u001b[33m\n",
      "\u001b[0m\u001b[33m  DEPRECATION: Configuring installation scheme with distutils config files is deprecated and will no longer work in the near future. If you are using a Homebrew or Linuxbrew Python, please see discussion at https://github.com/Homebrew/homebrew-core/issues/76621\u001b[0m\u001b[33m\n",
      "\u001b[0m\u001b[33m  DEPRECATION: Configuring installation scheme with distutils config files is deprecated and will no longer work in the near future. If you are using a Homebrew or Linuxbrew Python, please see discussion at https://github.com/Homebrew/homebrew-core/issues/76621\u001b[0m\u001b[33m\n",
      "\u001b[0m\u001b[33mDEPRECATION: Configuring installation scheme with distutils config files is deprecated and will no longer work in the near future. If you are using a Homebrew or Linuxbrew Python, please see discussion at https://github.com/Homebrew/homebrew-core/issues/76621\u001b[0m\u001b[33m\n",
      "\u001b[0mSuccessfully installed huggingface-hub-0.11.1 tokenizers-0.13.2 transformers-4.25.1\n"
     ]
    }
   ],
   "source": [
    "!{sys.executable} -m pip install transformers"
   ]
  },
  {
   "cell_type": "code",
   "execution_count": 67,
   "id": "ba50e133-38db-4f99-852b-6b7fafa22700",
   "metadata": {
    "collapsed": true,
    "jupyter": {
     "outputs_hidden": true
    },
    "tags": []
   },
   "outputs": [
    {
     "name": "stdout",
     "output_type": "stream",
     "text": [
      "\u001b[33mDEPRECATION: Configuring installation scheme with distutils config files is deprecated and will no longer work in the near future. If you are using a Homebrew or Linuxbrew Python, please see discussion at https://github.com/Homebrew/homebrew-core/issues/76621\u001b[0m\u001b[33m\n",
      "\u001b[0mCollecting torch\n",
      "  Downloading torch-1.13.1-cp39-none-macosx_10_9_x86_64.whl (135.3 MB)\n",
      "\u001b[2K     \u001b[38;2;114;156;31m━━━━━━━━━━━━━━━━━━━━━━━━━━━━━━━━━━━━━━━\u001b[0m \u001b[32m135.3/135.3 MB\u001b[0m \u001b[31m7.2 MB/s\u001b[0m eta \u001b[36m0:00:00\u001b[0mm eta \u001b[36m0:00:01\u001b[0m[36m0:00:01\u001b[0m\n",
      "\u001b[?25hCollecting torchvision\n",
      "  Downloading torchvision-0.14.1-cp39-cp39-macosx_10_9_x86_64.whl (1.4 MB)\n",
      "\u001b[2K     \u001b[38;2;114;156;31m━━━━━━━━━━━━━━━━━━━━━━━━━━━━━━━━━━━━━━━━\u001b[0m \u001b[32m1.4/1.4 MB\u001b[0m \u001b[31m6.8 MB/s\u001b[0m eta \u001b[36m0:00:00\u001b[0mm eta \u001b[36m0:00:01\u001b[0m0:01\u001b[0m:01\u001b[0m\n",
      "\u001b[?25hCollecting torchaudio\n",
      "  Downloading torchaudio-0.13.1-cp39-cp39-macosx_10_9_x86_64.whl (3.3 MB)\n",
      "\u001b[2K     \u001b[38;2;114;156;31m━━━━━━━━━━━━━━━━━━━━━━━━━━━━━━━━━━━━━━━━\u001b[0m \u001b[32m3.3/3.3 MB\u001b[0m \u001b[31m9.5 MB/s\u001b[0m eta \u001b[36m0:00:00\u001b[0m0m eta \u001b[36m0:00:01\u001b[0m0:01\u001b[0m:01\u001b[0m\n",
      "\u001b[?25hRequirement already satisfied: typing-extensions in /usr/local/lib/python3.9/site-packages (from torch) (4.4.0)\n",
      "Requirement already satisfied: numpy in /usr/local/lib/python3.9/site-packages (from torchvision) (1.23.3)\n",
      "Requirement already satisfied: requests in /usr/local/lib/python3.9/site-packages (from torchvision) (2.27.1)\n",
      "Requirement already satisfied: pillow!=8.3.*,>=5.3.0 in /usr/local/lib/python3.9/site-packages (from torchvision) (9.2.0)\n",
      "Requirement already satisfied: certifi>=2017.4.17 in /usr/local/lib/python3.9/site-packages (from requests->torchvision) (2021.10.8)\n",
      "Requirement already satisfied: idna<4,>=2.5 in /usr/local/lib/python3.9/site-packages (from requests->torchvision) (3.3)\n",
      "Requirement already satisfied: urllib3<1.27,>=1.21.1 in /usr/local/lib/python3.9/site-packages (from requests->torchvision) (1.26.9)\n",
      "Requirement already satisfied: charset-normalizer~=2.0.0 in /usr/local/lib/python3.9/site-packages (from requests->torchvision) (2.0.12)\n",
      "Installing collected packages: torch, torchvision, torchaudio\n",
      "\u001b[33m  DEPRECATION: Configuring installation scheme with distutils config files is deprecated and will no longer work in the near future. If you are using a Homebrew or Linuxbrew Python, please see discussion at https://github.com/Homebrew/homebrew-core/issues/76621\u001b[0m\u001b[33m\n",
      "\u001b[0m\u001b[33m  DEPRECATION: Configuring installation scheme with distutils config files is deprecated and will no longer work in the near future. If you are using a Homebrew or Linuxbrew Python, please see discussion at https://github.com/Homebrew/homebrew-core/issues/76621\u001b[0m\u001b[33m\n",
      "\u001b[0m\u001b[33m  DEPRECATION: Configuring installation scheme with distutils config files is deprecated and will no longer work in the near future. If you are using a Homebrew or Linuxbrew Python, please see discussion at https://github.com/Homebrew/homebrew-core/issues/76621\u001b[0m\u001b[33m\n",
      "\u001b[0m\u001b[33mDEPRECATION: Configuring installation scheme with distutils config files is deprecated and will no longer work in the near future. If you are using a Homebrew or Linuxbrew Python, please see discussion at https://github.com/Homebrew/homebrew-core/issues/76621\u001b[0m\u001b[33m\n",
      "\u001b[0mSuccessfully installed torch-1.13.1 torchaudio-0.13.1 torchvision-0.14.1\n"
     ]
    }
   ],
   "source": [
    "# install pythorch\n",
    "!{sys.executable} -m pip install torch torchvision torchaudio"
   ]
  },
  {
   "cell_type": "code",
   "execution_count": 48,
   "id": "fc764631-d2c9-4da1-90cc-4d1aa3035141",
   "metadata": {},
   "outputs": [
    {
     "name": "stdout",
     "output_type": "stream",
     "text": [
      "\u001b[33mDEPRECATION: Configuring installation scheme with distutils config files is deprecated and will no longer work in the near future. If you are using a Homebrew or Linuxbrew Python, please see discussion at https://github.com/Homebrew/homebrew-core/issues/76621\u001b[0m\u001b[33m\n",
      "\u001b[0mCollecting sentencepiece\n",
      "  Downloading sentencepiece-0.1.97-cp39-cp39-macosx_10_9_x86_64.whl (1.2 MB)\n",
      "\u001b[2K     \u001b[38;2;114;156;31m━━━━━━━━━━━━━━━━━━━━━━━━━━━━━━━━━━━━━━━━\u001b[0m \u001b[32m1.2/1.2 MB\u001b[0m \u001b[31m7.3 MB/s\u001b[0m eta \u001b[36m0:00:00\u001b[0mm eta \u001b[36m0:00:01\u001b[0m[36m0:00:01\u001b[0m\n",
      "\u001b[?25hInstalling collected packages: sentencepiece\n",
      "\u001b[33m  DEPRECATION: Configuring installation scheme with distutils config files is deprecated and will no longer work in the near future. If you are using a Homebrew or Linuxbrew Python, please see discussion at https://github.com/Homebrew/homebrew-core/issues/76621\u001b[0m\u001b[33m\n",
      "\u001b[0m\u001b[33mDEPRECATION: Configuring installation scheme with distutils config files is deprecated and will no longer work in the near future. If you are using a Homebrew or Linuxbrew Python, please see discussion at https://github.com/Homebrew/homebrew-core/issues/76621\u001b[0m\u001b[33m\n",
      "\u001b[0mSuccessfully installed sentencepiece-0.1.97\n"
     ]
    }
   ],
   "source": [
    "!{sys.executable} -m pip install sentencepiece"
   ]
  },
  {
   "cell_type": "code",
   "execution_count": 2,
   "id": "63705983-472a-470c-84a7-0a0e4daf9f8a",
   "metadata": {},
   "outputs": [
    {
     "name": "stderr",
     "output_type": "stream",
     "text": [
      "/usr/local/lib/python3.9/site-packages/requests/__init__.py:102: RequestsDependencyWarning: urllib3 (1.26.9) or chardet (5.1.0)/charset_normalizer (2.0.12) doesn't match a supported version!\n",
      "  warnings.warn(\"urllib3 ({}) or chardet ({})/charset_normalizer ({}) doesn't match a supported \"\n"
     ]
    }
   ],
   "source": [
    "# import libraries\n",
    "from bs4 import BeautifulSoup\n",
    "import requests\n",
    "import pandas as pd\n",
    "from newsplease import NewsPlease\n",
    "\n",
    "# packages for summarization\n",
    "import gensim\n",
    "#from gensim.summarization import summarize\n",
    "import summa\n",
    "from summa.summarizer import summarize\n",
    "\n",
    "import sumy"
   ]
  },
  {
   "cell_type": "code",
   "execution_count": 2,
   "id": "77728ae9-ce20-4cd0-8275-062ce2f11b67",
   "metadata": {
    "tags": []
   },
   "outputs": [],
   "source": [
    "from GoogleNews import GoogleNews\n",
    "\n",
    "googlenews = GoogleNews(lang='en', period='1d')\n",
    "googlenews.get_news('something')"
   ]
  },
  {
   "cell_type": "code",
   "execution_count": 3,
   "id": "53d09bd7-fa82-443e-b646-516950c98a3e",
   "metadata": {
    "tags": []
   },
   "outputs": [
    {
     "data": {
      "text/plain": [
       "<GoogleNews.GoogleNews at 0x112043c10>"
      ]
     },
     "execution_count": 3,
     "metadata": {},
     "output_type": "execute_result"
    }
   ],
   "source": [
    "googlenews"
   ]
  },
  {
   "cell_type": "code",
   "execution_count": 3,
   "id": "36041059-7a0b-41a1-8c6f-dc6b69427a1b",
   "metadata": {},
   "outputs": [
    {
     "name": "stdout",
     "output_type": "stream",
     "text": [
      "Top News: US & International Top News Stories Today\n"
     ]
    }
   ],
   "source": [
    "from newsplease import NewsPlease\n",
    "article = NewsPlease.from_url('https://apnews.com/hub/ap-top-news')\n",
    "print(article.title)"
   ]
  },
  {
   "cell_type": "code",
   "execution_count": 4,
   "id": "a8d21862-8f88-41a2-826b-6af9713e9920",
   "metadata": {
    "tags": []
   },
   "outputs": [
    {
     "name": "stdout",
     "output_type": "stream",
     "text": [
      "ANCHORAGE, Alaska (AP) — For isolated communities at the top of the world, keeping the planet’s largest land predators -- polar bears -- out of town is key to coexistence.\n",
      "That can mean patrolling for the animals by snowmobile or four-wheeler, shooing them away with spotlights or a revved engine, or hazing them with beanbag shotguns.\n"
     ]
    }
   ],
   "source": [
    "print(article.maintext)"
   ]
  },
  {
   "cell_type": "code",
   "execution_count": 4,
   "id": "caf19d9a-6f66-4b8e-b4b4-74891cb8a212",
   "metadata": {
    "collapsed": true,
    "jupyter": {
     "outputs_hidden": true
    },
    "tags": []
   },
   "outputs": [
    {
     "ename": "NameError",
     "evalue": "name 'GoogleNews' is not defined",
     "output_type": "error",
     "traceback": [
      "\u001b[0;31m---------------------------------------------------------------------------\u001b[0m",
      "\u001b[0;31mNameError\u001b[0m                                 Traceback (most recent call last)",
      "Input \u001b[0;32mIn [4]\u001b[0m, in \u001b[0;36m<cell line: 2>\u001b[0;34m()\u001b[0m\n\u001b[1;32m      1\u001b[0m \u001b[38;5;66;03m#googlenews=GoogleNews(start='05/01/2022',end='05/31/2022')\u001b[39;00m\n\u001b[0;32m----> 2\u001b[0m googlenews\u001b[38;5;241m=\u001b[39m\u001b[43mGoogleNews\u001b[49m()\n\u001b[1;32m      3\u001b[0m googlenews\u001b[38;5;241m.\u001b[39msearch(\u001b[38;5;124m'\u001b[39m\u001b[38;5;124mtech\u001b[39m\u001b[38;5;124m'\u001b[39m)\n\u001b[1;32m      4\u001b[0m result\u001b[38;5;241m=\u001b[39mgooglenews\u001b[38;5;241m.\u001b[39mresult()\n",
      "\u001b[0;31mNameError\u001b[0m: name 'GoogleNews' is not defined"
     ]
    }
   ],
   "source": [
    "#googlenews=GoogleNews(start='05/01/2022',end='05/31/2022')\n",
    "googlenews=GoogleNews()\n",
    "googlenews.search('tech')\n",
    "result=googlenews.result()\n",
    "df=pd.DataFrame(result)\n",
    "print(df.head())"
   ]
  },
  {
   "cell_type": "code",
   "execution_count": 5,
   "id": "5069116b-b409-4cea-b359-ad79164b4a5b",
   "metadata": {
    "collapsed": true,
    "jupyter": {
     "outputs_hidden": true
    },
    "tags": []
   },
   "outputs": [
    {
     "ename": "NameError",
     "evalue": "name 'df' is not defined",
     "output_type": "error",
     "traceback": [
      "\u001b[0;31m---------------------------------------------------------------------------\u001b[0m",
      "\u001b[0;31mNameError\u001b[0m                                 Traceback (most recent call last)",
      "Input \u001b[0;32mIn [5]\u001b[0m, in \u001b[0;36m<cell line: 1>\u001b[0;34m()\u001b[0m\n\u001b[0;32m----> 1\u001b[0m \u001b[38;5;28mprint\u001b[39m(\u001b[43mdf\u001b[49m[\u001b[38;5;124m'\u001b[39m\u001b[38;5;124mlink\u001b[39m\u001b[38;5;124m'\u001b[39m]\u001b[38;5;241m.\u001b[39mhead())\n",
      "\u001b[0;31mNameError\u001b[0m: name 'df' is not defined"
     ]
    }
   ],
   "source": [
    "print(df['link'].head())"
   ]
  },
  {
   "cell_type": "code",
   "execution_count": null,
   "id": "3546b681-3ec6-4d29-897e-671d9a51c34f",
   "metadata": {},
   "outputs": [],
   "source": []
  },
  {
   "cell_type": "code",
   "execution_count": 5,
   "id": "db945a2a-75c8-4ad1-a7cd-cdf888021520",
   "metadata": {},
   "outputs": [
    {
     "name": "stderr",
     "output_type": "stream",
     "text": [
      "/usr/local/lib/python3.9/site-packages/bs4/__init__.py:404: MarkupResemblesLocatorWarning: The input looks more like a URL than markup. You may want to use an HTTP client like requests to get the document behind the URL, and feed that document to Beautiful Soup.\n",
      "  warnings.warn(\n"
     ]
    }
   ],
   "source": [
    "soup_ap = BeautifulSoup('https://apnews.com/hub/ap-top-news', 'html.parser')\n",
    "#print(soup.prettify())"
   ]
  },
  {
   "cell_type": "code",
   "execution_count": 6,
   "id": "42abcefc-4102-4a64-9100-3cad3fdb477a",
   "metadata": {},
   "outputs": [],
   "source": [
    "# request\n",
    "ap_news_url = 'https://apnews.com'\n",
    "ap_topnews_url = 'https://apnews.com/hub/ap-top-news'\n",
    "r_ap = requests.get(ap_topnews_url)"
   ]
  },
  {
   "cell_type": "code",
   "execution_count": 7,
   "id": "14a35805-6558-4c5e-84e7-f531908ae21a",
   "metadata": {},
   "outputs": [
    {
     "data": {
      "text/plain": [
       "<Response [200]>"
      ]
     },
     "execution_count": 7,
     "metadata": {},
     "output_type": "execute_result"
    }
   ],
   "source": [
    "r_ap"
   ]
  },
  {
   "cell_type": "code",
   "execution_count": 8,
   "id": "779fec22-6d3b-4efc-9d06-bf2d259b0c1c",
   "metadata": {
    "collapsed": true,
    "jupyter": {
     "outputs_hidden": true
    },
    "tags": []
   },
   "outputs": [
    {
     "data": {
      "text/plain": [
       "['https://apnews.com/article/abortion-florida-state-government-kentucky-6ed9dbcdaae33312f1425ea38b681a7e',\n",
       " 'https://apnews.com/article/russia-ukraine-politics-military-technology-joint-chiefs-of-staff-lloyd-austin-1b505c88a5a6f331cd482762c62fa29c',\n",
       " 'https://apnews.com/article/chris-hipkins-new-zealand-prime-minister-4b73db6d84e5e2e9b0875889cc462065',\n",
       " 'https://apnews.com/article/technology-business-sundar-pichai-covid-pandemics-c85c45231712709582b1d3fe46be5ffe',\n",
       " 'https://apnews.com/article/politics-crime-donald-trump-riots-capitol-siege-8fc62a5cb27f91b0f9c9447052ffa25d',\n",
       " 'https://apnews.com/article/animal-attacks-wales-alaska-climate-and-environment-polar-bears-1b9b5745eb5f9b2b273588f019336e24',\n",
       " 'https://apnews.com/article/politics-samuel-alito-84303225919dfb4a784552e36ecaeb23',\n",
       " 'https://apnews.com/article/floods-weather-natural-disasters-california-climate-and-environment-b71eadd83be6176d45f7a1baf7bb2576',\n",
       " 'https://apnews.com/article/historic-black-churches-financial-grants-886d6003ec5d939c6fd5f6ce758810c2',\n",
       " 'https://apnews.com/article/alec-baldwin-indictments-santa-fe-prisons-f4f2e9d7c407e2b7d21e9c2f70cb7293',\n",
       " 'https://apnews.com/article/politics-peru-government-protests-and-demonstrations-caribbean-dina-boluarte-5058729c16cef9beedcc4b8ab97c9e42',\n",
       " 'https://apnews.com/article/shotspotter-artificial-intelligence-investigation-9cb47bbfb565dc3ef110f92ac7f83862',\n",
       " 'https://apnews.com/article/politics-kassym-jomart-tokayev-kazakhstan-almaty-27777324a342490b737866449ca00f93',\n",
       " 'https://apnews.com/article/alec-baldwin-entertainment-new-mexico-movies-30268d9cec10858ccf6bfdf395d0e586',\n",
       " 'https://apnews.com/article/politics-hillary-clinton-donald-trump-florida-new-york-872898a17b2f55a4d1235f978633d2df',\n",
       " 'https://apnews.com/article/technology-snap-inc-amazoncom-business-5012d95678b50f699498cb11b5f3913d',\n",
       " 'https://apnews.com/article/2023-oscar-nominations-what-to-expect-academy-awards-c8177c672de869f0a316d32c65b4f8dc',\n",
       " 'https://apnews.com/article/andrew-tate-detention-romania-extended-b09236fcae9f60b0fae663488356f6e1',\n",
       " 'https://apnews.com/article/russia-ukraine-politics-bosnia-and-herzegovina-europe-world-news-3084574a969131ce1ee4819e0722beaf',\n",
       " 'https://apnews.com/article/london-england-religion-lgbtq-people-f645680c8cecd031bbcfdde9cc0c3628',\n",
       " 'https://apnews.com/article/sports-andy-murray-thanasi-kokkinakis-melbourne-australian-open-afccc752b04dae47bd332c48494fa8b5',\n",
       " 'https://apnews.com/article/buffalo-bills-nfl-sports-football-damar-hamlin-7b7d987e7073632f48e3f9ae78f67621',\n",
       " 'https://apnews.com/article/biden-tours-california-storm-damage-ad4193df692da681ab10dab1aa11fa27',\n",
       " 'https://apnews.com/article/technology-politics-business-law-enforcement-87d107f039a2aeb8ad5e4b215c66eead',\n",
       " 'https://apnews.com/article/boston-celtics-golden-state-warriors-nba-sports-basketball-3bbe164236530a65f537e8934d62b0cc',\n",
       " 'https://apnews.com/article/biden-politics-united-states-government-wilmington-merrick-garland-f2384a87dcddbd38796f63e1269c6baf',\n",
       " 'https://apnews.com/article/politics-jacinda-ardern-new-zealand-covid-d4f8f8a6d7a81b2247909e17dc38a9f9',\n",
       " 'https://apnews.com/article/politics-protests-and-demonstrations-peru-government-caribbean-dina-boluarte-abc5c843f4ef886efff634fce2576abe',\n",
       " 'https://apnews.com/article/travel-and-tourism-china-asia-business-6303cb348fca243abe0aa8eb37de87c6',\n",
       " 'https://apnews.com/article/entertainment-movies-sundance-film-festival-doug-liman-brett-kavanaugh-a8b5a5ef8ea89cb27d11bb2ab850686f',\n",
       " 'https://apnews.com/article/politics-new-zealand-government-covid-jacinda-ardern-0e6d8eedd96f94aab07eeb0c37164591',\n",
       " 'https://apnews.com/article/david-crosby-dies-obit-3a1142b65616fa95c34c837a94f2c69f',\n",
       " 'https://apnews.com/article/alec-baldwin-rust-movie-shooting-charges-decision-8c76eddb8a6418419078903d24ec3813',\n",
       " 'https://apnews.com/article/biden-politics-united-states-government-hillary-clinton-karine-jean-pierre-58228d94cdcfe4ebe00521b049037868',\n",
       " 'https://apnews.com/article/health-new-york-city-marijuana-business-4245bb958368e1863d7ac9b639886790',\n",
       " 'https://apnews.com/article/politics-donald-trump-ohio-fraud-ad6eaaca489d39aa4b6e63c2ce413bf8',\n",
       " 'https://apnews.com/article/health-oregon-8629d6e62bff151afbbdb3a37c2206ae',\n",
       " 'https://apnews.com/article/supreme-court-abortion-ruling-leak-investigation-59a40974e39a67c2ab859ba0c21c785e',\n",
       " 'https://apnews.com/article/france-retirement-age-limit-protests-866eb86aea5cf0d39894b96d2888c26f',\n",
       " 'https://apnews.com/article/russia-ukraine-zelenskyy-politics-united-states-government-boris-johnson-1cf2593806068a08ab63e78ddd681999',\n",
       " 'https://apnews.com/article/politics-political-refugees-us-department-of-state-cd66266833686ec2cd3c173161e85ad8',\n",
       " 'https://apnews.com/article/abortion-politics-health-missouri-state-government-legal-proceedings-05d21a1234877ffcd358ad74bebe4472',\n",
       " 'https://apnews.com/article/biden-politics-france-government-delaware-state-fc93b564f7d721e4680861c261420afa',\n",
       " 'https://apnews.com/article/elon-musk-twitter-inc-technology-science-social-media-a7e2e3214abb4470dcb6e2837aa39c2e',\n",
       " 'https://apnews.com/article/artificial-intelligence-images-rights-1c6d9e0e260e2d135a3e3bf98d5493df',\n",
       " 'https://apnews.com/article/science-e8ff324175e57a7de092859941f57499',\n",
       " 'https://apnews.com/article/us-debt-limit-political-friction-3652d50a1567c1e7ab544614b7f2b357',\n",
       " 'https://apnews.com/article/science-chile-stars-60fecb7e18e0ad9b247b8d7aa75a4b3c',\n",
       " 'https://apnews.com/article/pope-francis-benedict-xvi-christoph-schoenborn-georg-gaenswein-religion-ac8dbaf0a4ed457d06ae964d08cac3c2']"
      ]
     },
     "execution_count": 8,
     "metadata": {},
     "output_type": "execute_result"
    }
   ],
   "source": [
    "soup_ap = BeautifulSoup(r_ap.content, 'html.parser')\n",
    "#print(soup.prettify())\n",
    "atag_ap = soup_ap.find_all('a', attrs={\"data-key\": \"card-headline\"})\n",
    "\n",
    "ap_topnews_list = [ap_news_url + i['href'] for i in atag_ap]\n",
    "ap_topnews_list"
   ]
  },
  {
   "cell_type": "code",
   "execution_count": 9,
   "id": "97317ce7-e12c-41de-9555-78a770e95c69",
   "metadata": {},
   "outputs": [],
   "source": [
    "b = soup_ap.find('a', attrs={\"data-key\": \"card-headline\"})"
   ]
  },
  {
   "cell_type": "code",
   "execution_count": 10,
   "id": "67f79e4e-7699-4590-8ce3-9cefe4c9b359",
   "metadata": {},
   "outputs": [
    {
     "data": {
      "text/plain": [
       "<a class=\"Component-headline-0-2-138\" data-key=\"card-headline\" href=\"/article/abortion-florida-state-government-kentucky-6ed9dbcdaae33312f1425ea38b681a7e\"><h2 class=\"Component-heading-0-2-139 Component-headingMobile-0-2-140 -cardHeading undefined\">March for Life eyes Congress for post-Roe abortion limits</h2></a>"
      ]
     },
     "execution_count": 10,
     "metadata": {},
     "output_type": "execute_result"
    }
   ],
   "source": [
    "b"
   ]
  },
  {
   "cell_type": "code",
   "execution_count": 11,
   "id": "1c0c209e-e097-4e3f-9c56-046eae535706",
   "metadata": {
    "tags": []
   },
   "outputs": [],
   "source": [
    "#for a in soup_ap.find_all('a', attrs={\"data-key\": \"card-headline\"}):\n",
    "#    print(a['href'])"
   ]
  },
  {
   "cell_type": "code",
   "execution_count": 12,
   "id": "e451e67e-b1d6-443f-a419-7536d16c8454",
   "metadata": {},
   "outputs": [],
   "source": [
    "techcrunch_url = 'https://techcrunch.com'\n",
    "r_tech = requests.get(techcrunch_url)"
   ]
  },
  {
   "cell_type": "code",
   "execution_count": 13,
   "id": "5f519ed0-1430-484b-a95a-188d5f7a186a",
   "metadata": {},
   "outputs": [
    {
     "data": {
      "text/plain": [
       "<Response [200]>"
      ]
     },
     "execution_count": 13,
     "metadata": {},
     "output_type": "execute_result"
    }
   ],
   "source": [
    "r_tech"
   ]
  },
  {
   "cell_type": "code",
   "execution_count": 14,
   "id": "b8fef99b-8833-4fc9-a301-fdcb05e797b9",
   "metadata": {
    "collapsed": true,
    "jupyter": {
     "outputs_hidden": true
    },
    "tags": []
   },
   "outputs": [
    {
     "data": {
      "text/plain": [
       "['https://techcrunch.com/2023/01/20/microsoft-joined-the-layoff-parade-did-it-really-have-to/',\n",
       " 'https://techcrunch.com/2023/01/20/microsoft-joined-the-layoff-parade-did-it-really-have-to/',\n",
       " 'https://techcrunch.com/2023/01/20/debunking-the-myths-of-why-venture-investors-dont-fund-diverse-startups/',\n",
       " 'https://techcrunch.com/2023/01/20/thoma-bravo-agrees-to-acquire-digital-forensics-firm-magnet-forensics-for-over-1b/',\n",
       " 'https://techcrunch.com/2023/01/20/with-a-focus-on-patients-with-chronic-illness-nourish-hopes-to-help-americans-eat-better/',\n",
       " 'https://techcrunch.com/2023/01/20/gm-please-build-the-baby-ev-pickup-of-my-dreams/',\n",
       " 'https://techcrunch.com/2023/01/20/while-layoffs-keep-coming-so-far-apple-has-steered-clear/',\n",
       " 'https://techcrunch.com/2023/01/20/4-investors-alternative-seafood-startups/',\n",
       " 'https://techcrunch.com/2023/01/20/goodones/',\n",
       " 'https://techcrunch.com/2023/01/20/microsoft-joined-the-layoff-parade-did-it-really-have-to/',\n",
       " 'https://techcrunch.com/2023/01/20/netflix-free-streaming-fast-channels/',\n",
       " 'https://techcrunch.com/2023/01/20/why-international-dfis-are-looking-to-african-startups-to-scale-impact-investing-efforts/',\n",
       " 'https://techcrunch.com/2023/01/20/techcrunch-roundup-2023-unicorn-slump-global-vc-slowdown-email-marketing-101/',\n",
       " 'https://techcrunch.com/2023/01/20/canada-wants-to-support-commercial-space-launches/',\n",
       " 'https://techcrunch.com/2023/01/20/amazons-music-unlimited-gets-a-price-hike-in-the-us-and-uk/',\n",
       " 'https://techcrunch.com/2023/01/20/a-new-kind-of-pe-fund-plans-to-roll-up-german-startups-into-potential-unicorns-and-bigger-exits/',\n",
       " 'https://techcrunch.com/2023/01/20/gas-slay-whats-next-fire/',\n",
       " 'https://techcrunch.com/2023/01/20/coinbase-and-others-back-ex-ftx-us-presidents-crypto-trading-infra-startup-architect/',\n",
       " 'https://techcrunch.com/2023/01/20/wordle-clone-quordle-acquired-by-merriam-webster/',\n",
       " 'https://techcrunch.com/2023/01/20/4-questions-to-ask-when-evaluating-ai-prototypes-for-bias/',\n",
       " 'https://techcrunch.com/2023/01/20/grazzy-digital-tipping/',\n",
       " 'https://techcrunch.com/2023/01/20/cookie-taskforce-report-consent-dark-patterns/']"
      ]
     },
     "execution_count": 14,
     "metadata": {},
     "output_type": "execute_result"
    }
   ],
   "source": [
    "soup_tech = BeautifulSoup(r_tech.content, 'html.parser')\n",
    "atag_tech = soup_tech.find_all('a', attrs={\"class\": \"post-block__title__link\"})\n",
    "\n",
    "tech_news_list = [i['href'] for i in atag_tech]\n",
    "tech_news_list"
   ]
  },
  {
   "cell_type": "code",
   "execution_count": 16,
   "id": "3cb45e70-fe78-4459-8861-fe434f1f4af3",
   "metadata": {
    "collapsed": true,
    "jupyter": {
     "outputs_hidden": true
    },
    "tags": []
   },
   "outputs": [
    {
     "ename": "TypeError",
     "evalue": "byte indices must be integers or slices, not str",
     "output_type": "error",
     "traceback": [
      "\u001b[0;31m---------------------------------------------------------------------------\u001b[0m",
      "\u001b[0;31mTypeError\u001b[0m                                 Traceback (most recent call last)",
      "Input \u001b[0;32mIn [16]\u001b[0m, in \u001b[0;36m<cell line: 1>\u001b[0;34m()\u001b[0m\n\u001b[1;32m      1\u001b[0m \u001b[38;5;28;01mfor\u001b[39;00m i \u001b[38;5;129;01min\u001b[39;00m r_tech:\n\u001b[0;32m----> 2\u001b[0m     \u001b[38;5;28mprint\u001b[39m(\u001b[43mi\u001b[49m\u001b[43m[\u001b[49m\u001b[38;5;124;43m'\u001b[39;49m\u001b[38;5;124;43mhref\u001b[39;49m\u001b[38;5;124;43m'\u001b[39;49m\u001b[43m]\u001b[49m)\n",
      "\u001b[0;31mTypeError\u001b[0m: byte indices must be integers or slices, not str"
     ]
    }
   ],
   "source": [
    "for i in r_tech:\n",
    "    print(i['href'])"
   ]
  },
  {
   "cell_type": "code",
   "execution_count": 15,
   "id": "f1b5c71e-7cd6-4505-a023-6d296dd571b9",
   "metadata": {
    "tags": []
   },
   "outputs": [],
   "source": [
    "article = NewsPlease.from_url('https://apnews.com/hub/ap-top-news')\n",
    "#for url in ap_topnews_list:\n",
    "#    print(NewsPlease.from_url(url).title)"
   ]
  },
  {
   "cell_type": "code",
   "execution_count": 16,
   "id": "a81110c0-013d-40a6-bd39-998bd8ed7133",
   "metadata": {},
   "outputs": [
    {
     "name": "stdout",
     "output_type": "stream",
     "text": [
      "ANCHORAGE, Alaska (AP) — For isolated communities at the top of the world, keeping the planet’s largest land predators -- polar bears -- out of town is key to coexistence.\n",
      "That can mean patrolling for the animals by snowmobile or four-wheeler, shooing them away with spotlights or a revved engine, or hazing them with beanbag shotguns.\n"
     ]
    }
   ],
   "source": [
    "print(article.maintext)"
   ]
  },
  {
   "cell_type": "code",
   "execution_count": 17,
   "id": "4cd0ee31-3b04-4bcd-85c4-61120bfa82e9",
   "metadata": {},
   "outputs": [],
   "source": [
    "reuters_news_url = 'https://www.reuters.com'\n",
    "reuters_business_url = 'https://www.reuters.com/business/'\n",
    "r_reuters = requests.get(reuters_business_url)"
   ]
  },
  {
   "cell_type": "code",
   "execution_count": 18,
   "id": "dabc5961-e806-4d6a-b7f0-cc75e6cda451",
   "metadata": {},
   "outputs": [
    {
     "data": {
      "text/plain": [
       "<Response [200]>"
      ]
     },
     "execution_count": 18,
     "metadata": {},
     "output_type": "execute_result"
    }
   ],
   "source": [
    "r_reuters"
   ]
  },
  {
   "cell_type": "code",
   "execution_count": 19,
   "id": "84dc5527-1fa7-4d65-9602-fb66d5662bfe",
   "metadata": {
    "collapsed": true,
    "jupyter": {
     "outputs_hidden": true
    },
    "tags": []
   },
   "outputs": [
    {
     "data": {
      "text/plain": [
       "['https://www.reuters.com/business/google-parent-lay-off-12000-workers-memo-2023-01-20/',\n",
       " 'https://www.reuters.com/markets/us/us-existing-home-sales-lowest-since-2010-price-growth-slows-2023-01-20/',\n",
       " 'https://www.reuters.com/markets/rates-bonds/fed-deliver-two-25-basis-point-hikes-q1-followed-by-long-pause-2023-01-20/',\n",
       " 'https://www.reuters.com/technology/google-delay-portion-staff-bonus-2023-01-20/',\n",
       " 'https://www.reuters.com/markets/deals/amazons-aws-invest-35-bln-virginia-2023-01-20/',\n",
       " 'https://www.reuters.com/technology/t-mobile-says-investigating-data-breach-affecting-37-mln-accounts-2023-01-19/',\n",
       " 'https://www.reuters.com/world/us/us-asks-judge-hold-shkreli-contempt-flouting-pharma-industry-ban-filing-2023-01-20/',\n",
       " 'https://www.reuters.com/technology/capital-one-scraps-1100-tech-positions-source-2023-01-19/',\n",
       " 'https://www.reuters.com/business/davos-2023-key-takeaways-world-economic-forum-2023-01-20/',\n",
       " 'https://www.reuters.com/business/aerospace-defense/airbus-implements-a350-design-change-amid-qatar-airways-feud-2023-01-19/',\n",
       " 'https://www.reuters.com/business/autos-transportation/tesla-uses-its-profits-weapon-an-ev-price-war-2023-01-19/',\n",
       " 'https://www.reuters.com/technology/heres-what-twitter-lost-advertising-revenue-final-months-2022-2023-01-19/',\n",
       " 'https://www.reuters.com/business/autos-transportation/teslas-price-cuts-promise-more-pain-money-losing-us-ev-startups-2023-01-20/',\n",
       " 'https://www.reuters.com/markets/asia/first-raise-japan-day-labourer-20-years-mcdonalds-out-reach-2023-01-20/',\n",
       " 'https://www.reuters.com/world/india/indias-aviation-regulator-fines-air-india-about-37000-unruly-passenger-incident-2023-01-20/',\n",
       " 'https://www.reuters.com/markets/us/nasdaq-eyes-higher-open-netflix-boost-2023-01-20/',\n",
       " 'https://www.reuters.com/markets/us/smaller-fed-rate-hike-may-augur-end-ongoing-increases-2023-01-20/',\n",
       " 'https://www.reuters.com/markets/us/wall-st-week-ahead-tech-stock-rebound-faces-doubters-with-earnings-season-ahead-2023-01-20/',\n",
       " 'https://www.reuters.com/business/finance/us-fed-probes-goldman-sachs-consumer-business-wsj-2023-01-20/',\n",
       " 'https://www.reuters.com/business/autos-transportation/french-court-orders-uber-pay-some-18-mln-drivers-company-appeal-2023-01-20/']"
      ]
     },
     "execution_count": 19,
     "metadata": {},
     "output_type": "execute_result"
    }
   ],
   "source": [
    "soup_reuters = BeautifulSoup(r_reuters.content, 'html.parser')\n",
    "atag_reuters = soup_reuters.find_all('a', attrs={\"data-testid\": \"Heading\"})\n",
    "\n",
    "reuters_business_list = [reuters_news_url + i['href'] for i in atag_reuters]\n",
    "reuters_business_list"
   ]
  },
  {
   "cell_type": "code",
   "execution_count": 20,
   "id": "564fc1c4-3d3a-4614-87dd-7f56e9a9b5f5",
   "metadata": {},
   "outputs": [
    {
     "name": "stdout",
     "output_type": "stream",
     "text": [
      "https://apnews.com/article/abortion-florida-state-government-kentucky-6ed9dbcdaae33312f1425ea38b681a7e\n",
      "https://techcrunch.com/2023/01/20/microsoft-joined-the-layoff-parade-did-it-really-have-to/\n",
      "https://www.reuters.com/business/google-parent-lay-off-12000-workers-memo-2023-01-20/\n"
     ]
    }
   ],
   "source": [
    "first_ap_news_url = ap_topnews_list[0]\n",
    "first_tech_news_url = tech_news_list[0]\n",
    "first_reuters_news_url = reuters_business_list[0]\n",
    "list_of_main_news = [first_ap_news_url, first_tech_news_url, first_reuters_news_url]\n",
    "\n",
    "print(first_ap_news_url)\n",
    "print(first_tech_news_url)\n",
    "print(first_reuters_news_url)"
   ]
  },
  {
   "cell_type": "code",
   "execution_count": 21,
   "id": "0ee59cf2-8ea6-4b1e-8629-fad7c806a254",
   "metadata": {},
   "outputs": [
    {
     "name": "stdout",
     "output_type": "stream",
     "text": [
      "March for Life eyes Congress for post-Roe abortion limits\n",
      "Microsoft joined the layoff parade. Did it really have to?\n",
      "Google parent cuts 12,000 jobs after pandemic hiring spree\n"
     ]
    }
   ],
   "source": [
    "for url in list_of_main_news:\n",
    "    print(NewsPlease.from_url(url).title)"
   ]
  },
  {
   "cell_type": "code",
   "execution_count": 22,
   "id": "8e21e4fc-70ab-480a-b161-9705415d7c39",
   "metadata": {},
   "outputs": [],
   "source": [
    "ap_article = NewsPlease.from_url(list_of_main_news[0])\n",
    "tech_article = NewsPlease.from_url(list_of_main_news[1])\n",
    "reuters_article = NewsPlease.from_url(list_of_main_news[2])"
   ]
  },
  {
   "cell_type": "code",
   "execution_count": 23,
   "id": "2a81f7a6-327e-4c08-86d9-34f57db82b4e",
   "metadata": {},
   "outputs": [
    {
     "name": "stdout",
     "output_type": "stream",
     "text": [
      "March for Life eyes Congress for post-Roe abortion limits\n",
      "Microsoft joined the layoff parade. Did it really have to?\n",
      "Google parent cuts 12,000 jobs after pandemic hiring spree\n"
     ]
    }
   ],
   "source": [
    "print(ap_article.title)\n",
    "print(tech_article.title)\n",
    "print(reuters_article.title)"
   ]
  },
  {
   "cell_type": "code",
   "execution_count": 24,
   "id": "f96a0aa9-74b0-49b2-8fc7-46a64055b412",
   "metadata": {},
   "outputs": [
    {
     "data": {
      "text/plain": [
       "\"View US and international top news from The Associated Press. Stay up to date on all of today's top news stories with AP Top News.\""
      ]
     },
     "execution_count": 24,
     "metadata": {},
     "output_type": "execute_result"
    }
   ],
   "source": [
    "article.description"
   ]
  },
  {
   "cell_type": "code",
   "execution_count": 25,
   "id": "efcb59ff-eed5-4d21-97f3-11a76f906141",
   "metadata": {},
   "outputs": [
    {
     "data": {
      "text/plain": [
       "'https://apnews.com/hub/ap-top-news'"
      ]
     },
     "execution_count": 25,
     "metadata": {},
     "output_type": "execute_result"
    }
   ],
   "source": [
    "article.url"
   ]
  },
  {
   "cell_type": "code",
   "execution_count": 26,
   "id": "c1e8e0b5-8456-43c5-800d-d3f5956d08de",
   "metadata": {},
   "outputs": [],
   "source": [
    "article_list = [ap_article, tech_article, reuters_article]"
   ]
  },
  {
   "cell_type": "markdown",
   "id": "44c5423a-daf7-458b-a853-74002bb577df",
   "metadata": {},
   "source": [
    "# Types of text summarization\n",
    "* Extreactive text summarization\n",
    "* Abstractive text summarization"
   ]
  },
  {
   "cell_type": "markdown",
   "id": "8bf95bce-c6da-4588-9bd7-1b9fa116b572",
   "metadata": {},
   "source": [
    "# Extractive methods\n",
    "1. TextRank\n",
    "2. LexRank\n",
    "3. LSA (Latent semantic analysis)\n",
    "4. Luhn\n",
    "5. KL-Sum"
   ]
  },
  {
   "cell_type": "markdown",
   "id": "e4fd178a-2c8b-4e6d-861e-77cc3ba5c4ab",
   "metadata": {},
   "source": [
    "## TextRank (summa library)"
   ]
  },
  {
   "cell_type": "code",
   "execution_count": 27,
   "id": "208f0ab9-2599-4c94-9198-119965343ff4",
   "metadata": {},
   "outputs": [],
   "source": [
    "import summa\n",
    "from summa.summarizer import summarize"
   ]
  },
  {
   "cell_type": "code",
   "execution_count": 28,
   "id": "22219008-40b5-4d6a-8051-c8010842b261",
   "metadata": {},
   "outputs": [
    {
     "name": "stdout",
     "output_type": "stream",
     "text": [
      "March for Life eyes Congress for post-Roe abortion limits\n",
      "Jeanne Mancini, president of the March for Life Education and Defense Fund, said the march is “a somber reminder of the millions of lives lost to abortion in the past 50 years, but also a celebration of how far we have come and where we as a movement need to focus our effort as we enter this new era in our quest to protect life.”\n",
      "\n",
      "\n",
      "Microsoft joined the layoff parade. Did it really have to?\n",
      "That’s up from 163,000 in 2020 and 181,000 in 2021, meaning the company added more than 57,000 employees in a two-year period before cutting 10,000 this week.\n",
      "Companies usually cut costs because the business no longer supports the workforce, but Microsoft has had a pretty decent year, as the chart below shows:\n",
      "\n",
      "\n",
      "Google parent cuts 12,000 jobs after pandemic hiring spree\n",
      "Jan 20 (Reuters) - Google's parent Alphabet Inc (GOOGL.O) is cutting about 12,000 jobs as it faces \"a different economic reality\", it said in a staff memo, the latest among tech giants to downsize after a pandemic-led hiring spree left them flabby in a weak economy.\n",
      "\n",
      "\n"
     ]
    }
   ],
   "source": [
    "for article in article_list:\n",
    "    print(article.title)\n",
    "    print(summarize(article.maintext, language='english', words=50)) # 50 words\n",
    "    print(\"\\n\")"
   ]
  },
  {
   "cell_type": "code",
   "execution_count": 29,
   "id": "9996d119-0925-4b88-8a17-db65d8e1aa70",
   "metadata": {},
   "outputs": [
    {
     "data": {
      "text/plain": [
       "'Jeanne Mancini, president of the March for Life Education and Defense Fund, said the march is “a somber reminder of the millions of lives lost to abortion in the past 50 years, but also a celebration of how far we have come and where we as a movement need to focus our effort as we enter this new era in our quest to protect life.”'"
      ]
     },
     "execution_count": 29,
     "metadata": {},
     "output_type": "execute_result"
    }
   ],
   "source": [
    "summarize(ap_article.maintext, language='english', words=50)"
   ]
  },
  {
   "cell_type": "markdown",
   "id": "3a181a47-89b2-4c70-a152-75bbd137030f",
   "metadata": {},
   "source": [
    "## LexRank (sumy library)"
   ]
  },
  {
   "cell_type": "code",
   "execution_count": 30,
   "id": "bcbadd7a-13df-44c7-8d90-1d360bd251f0",
   "metadata": {},
   "outputs": [],
   "source": [
    "# Importing the parser and tokenizer\n",
    "from sumy.parsers.plaintext import PlaintextParser\n",
    "from sumy.nlp.tokenizers import Tokenizer"
   ]
  },
  {
   "cell_type": "code",
   "execution_count": 31,
   "id": "8e122c30-06e8-41cb-94ed-dfc5175ec050",
   "metadata": {},
   "outputs": [],
   "source": [
    "# Import the LexRank summarizer\n",
    "from sumy.summarizers.lex_rank import LexRankSummarizer"
   ]
  },
  {
   "cell_type": "code",
   "execution_count": 32,
   "id": "d5ba6400-1e1f-4a77-992b-94432b48f889",
   "metadata": {},
   "outputs": [],
   "source": [
    "# Initializing the parser\n",
    "my_parser = PlaintextParser.from_string(ap_article.maintext,Tokenizer('english'))"
   ]
  },
  {
   "cell_type": "code",
   "execution_count": 33,
   "id": "13234062-18a2-4906-a32a-14de1db527e9",
   "metadata": {},
   "outputs": [
    {
     "data": {
      "text/plain": [
       "<sumy.parsers.plaintext.PlaintextParser at 0x13f0c44c0>"
      ]
     },
     "execution_count": 33,
     "metadata": {},
     "output_type": "execute_result"
    }
   ],
   "source": [
    "my_parser"
   ]
  },
  {
   "cell_type": "code",
   "execution_count": 34,
   "id": "c11fbe32-6d25-408f-963f-b272f6a8205a",
   "metadata": {},
   "outputs": [
    {
     "name": "stdout",
     "output_type": "stream",
     "text": [
      "“We want it to be unthinkable for a woman to have an abortion,” she said.\n",
      "Jeanne Mancini, president of the March for Life Education and Defense Fund, said the march is “a somber reminder of the millions of lives lost to abortion in the past 50 years, but also a celebration of how far we have come and where we as a movement need to focus our effort as we enter this new era in our quest to protect life.”\n",
      "Marjorie Dannenfelser, president of SBA Pro-Life America, said she envisions an eventual “federal minimum standard” cut-off line such as 13 weeks of pregnancy after which abortion would not be permitted in any state.\n"
     ]
    }
   ],
   "source": [
    "# Creating a summary of 3 sentences.\n",
    "lex_rank_summarizer = LexRankSummarizer()\n",
    "lexrank_summary = lex_rank_summarizer(my_parser.document,sentences_count=3)\n",
    "\n",
    "# Printing the summary\n",
    "for sentence in lexrank_summary:\n",
    "  print(sentence)"
   ]
  },
  {
   "cell_type": "markdown",
   "id": "93f4c406-947e-482f-b569-246fe08ecde8",
   "metadata": {},
   "source": [
    "## LSA (Latent semantic analysis)"
   ]
  },
  {
   "cell_type": "code",
   "execution_count": 35,
   "id": "bda1a450-33cd-4dbd-a008-b1a85f9e8cc7",
   "metadata": {},
   "outputs": [],
   "source": [
    "# Import the summarizer\n",
    "from sumy.summarizers.lsa import LsaSummarizer\n"
   ]
  },
  {
   "cell_type": "code",
   "execution_count": 36,
   "id": "d5485f86-6e51-4095-bdd0-38353fe1cd21",
   "metadata": {},
   "outputs": [
    {
     "name": "stdout",
     "output_type": "stream",
     "text": [
      "Since June, near-total bans on abortion have been implemented in Alabama, Arkansas, Idaho, Kentucky, Louisiana, Mississippi, Missouri, Oklahoma, South Dakota, Tennessee, Texas and West Virginia.\n",
      "Ron DeSantis, a potential leading Republican candidate, and came away “incredibly impressed,” but said it was still too early for her organization to endorse anyone.\n",
      "She predicted that there will be some “fault lines” among Republican presidential contenders over abortion rights and protections, but warned that any candidate perceived as being soft on the issue will have “disqualified him or herself as a presidential candidate in our eyes, and having done so has very little chance of winning the nomination.” ___ AP video journalist Mike Pesoli contributed to this report.\n"
     ]
    }
   ],
   "source": [
    "# creating the summarizer\n",
    "lsa_summarizer=LsaSummarizer()\n",
    "lsa_summary= lsa_summarizer(my_parser.document,3)\n",
    "\n",
    "# Printing the summary\n",
    "for sentence in lsa_summary:\n",
    "    print(sentence)"
   ]
  },
  {
   "cell_type": "markdown",
   "id": "192c3810-dedc-4070-b463-e0297f47a614",
   "metadata": {},
   "source": [
    "## Luhn"
   ]
  },
  {
   "cell_type": "code",
   "execution_count": 37,
   "id": "a42abf63-10d3-4e19-a4f0-2e7b4eb1feea",
   "metadata": {},
   "outputs": [],
   "source": [
    "# Import the summarizer\n",
    "from sumy.summarizers.luhn import LuhnSummarizer"
   ]
  },
  {
   "cell_type": "code",
   "execution_count": 38,
   "id": "3d335763-241f-4002-a8f2-ba0c825623ff",
   "metadata": {},
   "outputs": [
    {
     "name": "stdout",
     "output_type": "stream",
     "text": [
      "(AP Photo/Alex Brandon) WASHINGTON (AP) — A half century after Roe v. Wade, March for Life supporters on Friday celebrated the Supreme Court’s dismantling of that constitutional right to abortion and heralded the political struggle set loose by the court’s decision.\n",
      "Jeanne Mancini, president of the March for Life Education and Defense Fund, said the march is “a somber reminder of the millions of lives lost to abortion in the past 50 years, but also a celebration of how far we have come and where we as a movement need to focus our effort as we enter this new era in our quest to protect life.”\n",
      "She predicted that there will be some “fault lines” among Republican presidential contenders over abortion rights and protections, but warned that any candidate perceived as being soft on the issue will have “disqualified him or herself as a presidential candidate in our eyes, and having done so has very little chance of winning the nomination.” ___ AP video journalist Mike Pesoli contributed to this report.\n"
     ]
    }
   ],
   "source": [
    "#  Creating the summarizer\n",
    "luhn_summarizer=LuhnSummarizer()\n",
    "luhn_summary=luhn_summarizer(my_parser.document,sentences_count=3)\n",
    "\n",
    "# Printing the summary\n",
    "for sentence in luhn_summary:\n",
    "  print(sentence)"
   ]
  },
  {
   "cell_type": "markdown",
   "id": "586ff4b9-995b-4242-b146-63d1f1ac6975",
   "metadata": {},
   "source": [
    "## LK-Sum"
   ]
  },
  {
   "cell_type": "code",
   "execution_count": 39,
   "id": "ff71bd77-f15f-49a8-acd0-42e6765bc74b",
   "metadata": {},
   "outputs": [],
   "source": [
    "# Import the summarizer\n",
    "from sumy.summarizers.kl import KLSummarizer"
   ]
  },
  {
   "cell_type": "code",
   "execution_count": 40,
   "id": "d011943c-f12b-43fe-88dd-615a14659085",
   "metadata": {},
   "outputs": [
    {
     "name": "stdout",
     "output_type": "stream",
     "text": [
      "With the U.S. Capitol in the background, anti-abortion demonstrators march toward the U.S. Supreme Court during the March for Life, Friday, Jan. 20, 2023, in Washington.\n",
      "(AP Photo/Alex Brandon) With the U.S. Capitol in the background, anti-abortion demonstrators march toward the U.S. Supreme Court during the March for Life, Friday, Jan. 20, 2023, in Washington.\n",
      "The first March for Life since the Supreme Court overturned Roe v. Wade in June came with a new focus.\n"
     ]
    }
   ],
   "source": [
    "# Instantiating the  KLSummarizer\n",
    "kl_summarizer=KLSummarizer()\n",
    "kl_summary=kl_summarizer(my_parser.document,sentences_count=3)\n",
    "\n",
    "# Printing the summary\n",
    "for sentence in kl_summary:\n",
    "    print(sentence)"
   ]
  },
  {
   "cell_type": "markdown",
   "id": "eaa6f5f6-7370-4ef5-b565-3a8211d16f09",
   "metadata": {},
   "source": [
    "# Abstractive method"
   ]
  },
  {
   "cell_type": "markdown",
   "id": "e6aff92e-3d77-4f31-b4d2-106ff0eafa6d",
   "metadata": {},
   "source": [
    "## Summarization with T5 Transformers"
   ]
  },
  {
   "cell_type": "code",
   "execution_count": 41,
   "id": "610a8bc9-dab3-4abc-ae75-120e59149e8e",
   "metadata": {},
   "outputs": [],
   "source": [
    "# Importing requirements\n",
    "from transformers import T5Tokenizer, T5Config, T5ForConditionalGeneration"
   ]
  },
  {
   "cell_type": "code",
   "execution_count": 42,
   "id": "18355020-d778-4ae5-bf9a-f40876773a4e",
   "metadata": {},
   "outputs": [
    {
     "data": {
      "application/vnd.jupyter.widget-view+json": {
       "model_id": "8534afdeb237442bbb07a6ad53f2a4ad",
       "version_major": 2,
       "version_minor": 0
      },
      "text/plain": [
       "Downloading:   0%|          | 0.00/792k [00:00<?, ?B/s]"
      ]
     },
     "metadata": {},
     "output_type": "display_data"
    },
    {
     "name": "stderr",
     "output_type": "stream",
     "text": [
      "/usr/local/lib/python3.9/site-packages/transformers/models/t5/tokenization_t5.py:163: FutureWarning: This tokenizer was incorrectly instantiated with a model max length of 512 which will be corrected in Transformers v5.\n",
      "For now, this behavior is kept to avoid breaking backwards compatibility when padding/encoding with `truncation is True`.\n",
      "- Be aware that you SHOULD NOT rely on t5-small automatically truncating your input to 512 when padding/encoding.\n",
      "- If you want to encode/pad to sequences longer than 512 you can either instantiate this tokenizer with `model_max_length` or pass `max_length` when encoding/padding.\n",
      "- To avoid this warning, please instantiate this tokenizer with `model_max_length` set to your preferred value.\n",
      "  warnings.warn(\n"
     ]
    }
   ],
   "source": [
    "# Instantiating the model and tokenizer \n",
    "my_model = T5ForConditionalGeneration.from_pretrained('t5-small')\n",
    "tokenizer = T5Tokenizer.from_pretrained('t5-small')"
   ]
  },
  {
   "cell_type": "code",
   "execution_count": 43,
   "id": "13e00b58-5c60-4818-95f5-88d3a459e5e2",
   "metadata": {
    "collapsed": true,
    "jupyter": {
     "outputs_hidden": true
    },
    "tags": []
   },
   "outputs": [
    {
     "data": {
      "text/plain": [
       "'summarize:With the U.S. Capitol in the background, anti-abortion demonstrators march toward the U.S. Supreme Court during the March for Life, Friday, Jan. 20, 2023, in Washington. (AP Photo/Alex Brandon)\\nWith the U.S. Capitol in the background, anti-abortion demonstrators march toward the U.S. Supreme Court during the March for Life, Friday, Jan. 20, 2023, in Washington. (AP Photo/Alex Brandon)\\nWASHINGTON (AP) — A half century after Roe v. Wade, March for Life supporters on Friday celebrated the Supreme Court’s dismantling of that constitutional right to abortion and heralded the political struggle set loose by the court’s decision. President Joe Biden pledged to do all in his limited power to restore core abortion rights.\\nThe first March for Life since the Supreme Court overturned Roe v. Wade in June came with a new focus. Instead of concentrating their attention on the court, the marchers vowed to push for action from the building directly across the street: the U.S. Capitol.\\nCongress, movement leaders say, must be warned against making any attempt to curtail the multiple anti-abortion laws imposed last year in a dozen states.\\nTens of thousands spread across a section of the National Mall for speeches, the Capitol Building in sight, then marched.\\n“For nearly 50 years, you have marched to proclaim the fundamental dignity of women, of their children and of life itself,” Mississippi Attorney General Lynn Fitch, whose office argued the case that overturned Roe v. Wade, told the crowd. “But this year is different.”\\nADVERTISEMENT\\nIndeed, with the constitutional victory behind them and lawmakers now the ones to be persuaded, marchers took a new route along the western face of the Capitol, to their usual destination between that complex and the court.\\n“I am the post-Roe generation,” read one sign. “Excommunicate Pro-Choice Catholics,” said another. Banners proclaimed “Love Them Both,” meaning mother and child.\\nTammy Milligan came dressed as “patriot Wonder Woman” and stood out in the crowd. She said she never thought Roe v. Wade would be overruled in her lifetime, but the fight doesn’t stop there. “We want it to be unthinkable for a woman to have an abortion,” she said.\\nIn a counter-protest outside the court building, 15 or so activists in favor of abortion rights held signs of their own: “Bans off our Bodies,” “Mind your own uterus.” They chanted, “Our bodies do not need advice from priests.”\\nThey were easily outnumbered and surrounded by March for Lifers, but interactions were civil and police did not separate the two camps.\\nBiden offered his counterpoint in a proclamation recognizing Sunday — Jan. 22 — as the 50th anniversary of Roe v. Wade. “Never before has the Court taken away a right so fundamental to Americans,” his statement said. “In doing so, it put the health and lives of women across this Nation at risk.”\\nADVERTISEMENT\\nHe said he would continue to use his executive authority in any way he can to preserve abortion protections while urging Congress to enshrine such rights in law.\\nThe crowd appeared smaller than in past years but bore multiple hallmarks of previous marches in the enthusiasm of the gathering, the large numbers of young people from Catholic schools around the country and plenty of banners representing different churches and religious orders.\\n“The struggle has changed,” said Marion Landry, 68, who came from North Carolina with her husband, Arthur, 91, for the sixth time. “In some ways you don’t have that central focus anymore. Now it’s back to the states.”\\nADVERTISEMENT\\nMike Miller, 59, who came from Boston, has attended at least 15 such marches over the years. “There’s still a lot of work to do,” he said. “This is only one step and in the next step, education becomes the biggest thing.”\\nFrom the stage, in a move to show that the anti-abortion movement crosses political parties and racial groups, Treneé McGee, a Black Democratic state representative from Connecticut, addressed the crowd.\\n“I stand in place of the pro-life Black women across the globe who are suffering in silence,” she said. The crowd roared.\\nHouse Speaker Kevin McCarthy offered support in a statement pledging that the new Republican majority will stand with abortion-rights opponents.\\n“While others raise their voices in rage and hatred, you march with prayers, goodwill, fellowship, compassion, and devotion in defense of the most defenseless in this country,” McCarthy said.\\nJeanne Mancini, president of the March for Life Education and Defense Fund, said the march is “a somber reminder of the millions of lives lost to abortion in the past 50 years, but also a celebration of how far we have come and where we as a movement need to focus our effort as we enter this new era in our quest to protect life.”\\nADVERTISEMENT\\nSome movement leaders also hope to plant seeds in Congress for a potential federal abortion restriction down the line. Marjorie Dannenfelser, president of SBA Pro-Life America, said she envisions an eventual “federal minimum standard” cut-off line such as 13 weeks of pregnancy after which abortion would not be permitted in any state. Dannenfelser’s scenario would still leave individual states free to impose their own, stricter measures, including a total ban.\\nThat last ambition is an admitted longshot since even if it passes the newly Republican-controlled House, it would most likely fail in the Democratic-held Senate.\\n“We know it’s not going to happen this session, but this is the beginning,” Dannenfelser said. “It’s (Congress’) responsibility to listen to the will of the people.”\\nADVERTISEMENT\\nIn the absence of Roe v. Wade’s federal protections, abortion rights have become a state-by-state patchwork .\\nSince June, near-total bans on abortion have been implemented in Alabama, Arkansas, Idaho, Kentucky, Louisiana, Mississippi, Missouri, Oklahoma, South Dakota, Tennessee, Texas and West Virginia. Legal challenges are pending against several of those bans.\\nElective abortions also are unavailable in Wisconsin, due to legal uncertainties faced by abortion clinics, and in North Dakota, where the lone clinic relocated to Minnesota.\\nBans passed by lawmakers in Ohio, Indiana and Wyoming have been blocked by state courts while legal challenges are pending. And in South Carolina, the state Supreme Court on Jan. 5 struck down a ban on abortion after six weeks, ruling the restriction violates a state constitutional right to privacy.\\nBut other states have witnessed unexpected pushback on the issue. Voters in Kansas and Kentucky rejected constitutional amendments that would have declared there is no right to abortion; Michigan voters approved an amendment enshrining the right to abortion in the state constitution.\\nBiden’s administration has limited options after the court decision. Vice President Kamala Harris is to give a speech in Florida on Sunday to emphasize on the 50th anniversary that abortion rights remain a focus for the administration.\\n“We’re going to see what else we can do,” said White House press secretary Karine Jean-Pierre. “But again, it’s going to take congressional action to truly deal with this issue.”\\nAccording to an Associated Press-NORC Center for Public Affairs Research poll conducted in July, 53% of U.S. adults said they disapproved of the Supreme Court’s repeal of Roe, while 30% approved. The same poll found that majorities think abortion should usually be illegal after the first trimester of pregnancy.\\nAnti-abortion activists also have their eye on the 2024 presidential elections and are essentially vetting prospective candidates over their views on the issue. Dannenfelser said she met recently with Florida Gov. Ron DeSantis, a potential leading Republican candidate, and came away “incredibly impressed,” but said it was still too early for her organization to endorse anyone.\\nShe predicted that there will be some “fault lines” among Republican presidential contenders over abortion rights and protections, but warned that any candidate perceived as being soft on the issue will have “disqualified him or herself as a presidential candidate in our eyes, and having done so has very little chance of winning the nomination.”\\n___\\nAP video journalist Mike Pesoli contributed to this report. Staff writer David Crary contributed from New York City.'"
      ]
     },
     "execution_count": 43,
     "metadata": {},
     "output_type": "execute_result"
    }
   ],
   "source": [
    "# Concatenating the word \"summarize:\" to raw text\n",
    "text = \"summarize:\" + ap_article.maintext\n",
    "text\n"
   ]
  },
  {
   "cell_type": "code",
   "execution_count": 44,
   "id": "7acd12e4-1157-474d-8eeb-0fe9d01127b4",
   "metadata": {},
   "outputs": [
    {
     "name": "stderr",
     "output_type": "stream",
     "text": [
      "Truncation was not explicitly activated but `max_length` is provided a specific value, please use `truncation=True` to explicitly truncate examples to max length. Defaulting to 'longest_first' truncation strategy. If you encode pairs of sequences (GLUE-style) with the tokenizer you can select this strategy more precisely by providing a specific strategy to `truncation`.\n"
     ]
    }
   ],
   "source": [
    "# encoding the input text\n",
    "input_ids=tokenizer.encode(text, return_tensors='pt', max_length=512)"
   ]
  },
  {
   "cell_type": "code",
   "execution_count": 45,
   "id": "ebc12d8b-f112-43e2-9e02-4c094b66024e",
   "metadata": {},
   "outputs": [
    {
     "name": "stderr",
     "output_type": "stream",
     "text": [
      "/usr/local/lib/python3.9/site-packages/transformers/generation/utils.py:1387: UserWarning: Neither `max_length` nor `max_new_tokens` has been set, `max_length` will default to 20 (`self.config.max_length`). Controlling `max_length` via the config is deprecated and `max_length` will be removed from the config in v5 of Transformers -- we recommend using `max_new_tokens` to control the maximum length of the generation.\n",
      "  warnings.warn(\n"
     ]
    },
    {
     "data": {
      "text/plain": [
       "tensor([[    0, 10556,   277, 10556,  2957,     8, 15859,    15,  1614,   383,\n",
       "             8, 10556,    21,   280,     3,     5,     8,   166, 10556,    21]])"
      ]
     },
     "execution_count": 45,
     "metadata": {},
     "output_type": "execute_result"
    }
   ],
   "source": [
    "# Generating summary ids\n",
    "summary_ids = my_model.generate(input_ids)\n",
    "summary_ids"
   ]
  },
  {
   "cell_type": "code",
   "execution_count": 46,
   "id": "b799c03a-a2b5-48e5-b5f0-63df8fa364c6",
   "metadata": {},
   "outputs": [
    {
     "name": "stdout",
     "output_type": "stream",
     "text": [
      "<pad>marchers march toward the supreme court during the march for life. the first march for\n"
     ]
    }
   ],
   "source": [
    "# Decoding the tensor and printing the summary.\n",
    "t5_summary = tokenizer.decode(summary_ids[0])\n",
    "print(t5_summary)"
   ]
  },
  {
   "cell_type": "markdown",
   "id": "7fd617e2-38b0-4b7c-ba86-6490c2811659",
   "metadata": {},
   "source": [
    "## Summarization with BART Transformers"
   ]
  },
  {
   "cell_type": "code",
   "execution_count": 47,
   "id": "001db208-d8f3-4539-a49c-ca0b8fdb4b62",
   "metadata": {},
   "outputs": [],
   "source": [
    "# Importing the model\n",
    "from transformers import BartForConditionalGeneration, BartTokenizer, BartConfig"
   ]
  },
  {
   "cell_type": "code",
   "execution_count": 48,
   "id": "13428fbc-b840-4358-94dc-73c7abd2765d",
   "metadata": {},
   "outputs": [
    {
     "data": {
      "application/vnd.jupyter.widget-view+json": {
       "model_id": "30a20a67023a4611968f369cc4e9a3e9",
       "version_major": 2,
       "version_minor": 0
      },
      "text/plain": [
       "Downloading:   0%|          | 0.00/899k [00:00<?, ?B/s]"
      ]
     },
     "metadata": {},
     "output_type": "display_data"
    },
    {
     "data": {
      "application/vnd.jupyter.widget-view+json": {
       "model_id": "d0e7e3a2bd214d1e9da4f063466c4cce",
       "version_major": 2,
       "version_minor": 0
      },
      "text/plain": [
       "Downloading:   0%|          | 0.00/456k [00:00<?, ?B/s]"
      ]
     },
     "metadata": {},
     "output_type": "display_data"
    },
    {
     "data": {
      "application/vnd.jupyter.widget-view+json": {
       "model_id": "3554d5f26f9b4fa7bc088a0b1a7f2ecd",
       "version_major": 2,
       "version_minor": 0
      },
      "text/plain": [
       "Downloading:   0%|          | 0.00/1.58k [00:00<?, ?B/s]"
      ]
     },
     "metadata": {},
     "output_type": "display_data"
    },
    {
     "data": {
      "application/vnd.jupyter.widget-view+json": {
       "model_id": "a49d2a7055c243c3ade45fc23295e6ae",
       "version_major": 2,
       "version_minor": 0
      },
      "text/plain": [
       "Downloading:   0%|          | 0.00/1.63G [00:00<?, ?B/s]"
      ]
     },
     "metadata": {},
     "output_type": "display_data"
    }
   ],
   "source": [
    "# Loading the model and tokenizer for bart-large-cnn\n",
    "\n",
    "tokenizer=BartTokenizer.from_pretrained('facebook/bart-large-cnn')\n",
    "model=BartForConditionalGeneration.from_pretrained('facebook/bart-large-cnn')"
   ]
  },
  {
   "cell_type": "code",
   "execution_count": 50,
   "id": "7c5937d5-9d1b-4803-84e1-fb8fd5581e8e",
   "metadata": {},
   "outputs": [
    {
     "name": "stderr",
     "output_type": "stream",
     "text": [
      "Token indices sequence length is longer than the specified maximum sequence length for this model (1836 > 1024). Running this sequence through the model will result in indexing errors\n"
     ]
    },
    {
     "ename": "IndexError",
     "evalue": "index out of range in self",
     "output_type": "error",
     "traceback": [
      "\u001b[0;31m---------------------------------------------------------------------------\u001b[0m",
      "\u001b[0;31mIndexError\u001b[0m                                Traceback (most recent call last)",
      "Input \u001b[0;32mIn [50]\u001b[0m, in \u001b[0;36m<cell line: 3>\u001b[0;34m()\u001b[0m\n\u001b[1;32m      1\u001b[0m \u001b[38;5;66;03m# Encoding the inputs and passing them to model.generate()\u001b[39;00m\n\u001b[1;32m      2\u001b[0m inputs \u001b[38;5;241m=\u001b[39m tokenizer\u001b[38;5;241m.\u001b[39mbatch_encode_plus([ap_article\u001b[38;5;241m.\u001b[39mmaintext],return_tensors\u001b[38;5;241m=\u001b[39m\u001b[38;5;124m'\u001b[39m\u001b[38;5;124mpt\u001b[39m\u001b[38;5;124m'\u001b[39m)\n\u001b[0;32m----> 3\u001b[0m summary_ids \u001b[38;5;241m=\u001b[39m \u001b[43mmodel\u001b[49m\u001b[38;5;241;43m.\u001b[39;49m\u001b[43mgenerate\u001b[49m\u001b[43m(\u001b[49m\u001b[43minputs\u001b[49m\u001b[43m[\u001b[49m\u001b[38;5;124;43m'\u001b[39;49m\u001b[38;5;124;43minput_ids\u001b[39;49m\u001b[38;5;124;43m'\u001b[39;49m\u001b[43m]\u001b[49m\u001b[43m,\u001b[49m\u001b[43m \u001b[49m\u001b[43mearly_stopping\u001b[49m\u001b[38;5;241;43m=\u001b[39;49m\u001b[38;5;28;43;01mTrue\u001b[39;49;00m\u001b[43m)\u001b[49m\n",
      "File \u001b[0;32m/usr/local/lib/python3.9/site-packages/torch/autograd/grad_mode.py:27\u001b[0m, in \u001b[0;36m_DecoratorContextManager.__call__.<locals>.decorate_context\u001b[0;34m(*args, **kwargs)\u001b[0m\n\u001b[1;32m     24\u001b[0m \u001b[38;5;129m@functools\u001b[39m\u001b[38;5;241m.\u001b[39mwraps(func)\n\u001b[1;32m     25\u001b[0m \u001b[38;5;28;01mdef\u001b[39;00m \u001b[38;5;21mdecorate_context\u001b[39m(\u001b[38;5;241m*\u001b[39margs, \u001b[38;5;241m*\u001b[39m\u001b[38;5;241m*\u001b[39mkwargs):\n\u001b[1;32m     26\u001b[0m     \u001b[38;5;28;01mwith\u001b[39;00m \u001b[38;5;28mself\u001b[39m\u001b[38;5;241m.\u001b[39mclone():\n\u001b[0;32m---> 27\u001b[0m         \u001b[38;5;28;01mreturn\u001b[39;00m \u001b[43mfunc\u001b[49m\u001b[43m(\u001b[49m\u001b[38;5;241;43m*\u001b[39;49m\u001b[43margs\u001b[49m\u001b[43m,\u001b[49m\u001b[43m \u001b[49m\u001b[38;5;241;43m*\u001b[39;49m\u001b[38;5;241;43m*\u001b[39;49m\u001b[43mkwargs\u001b[49m\u001b[43m)\u001b[49m\n",
      "File \u001b[0;32m/usr/local/lib/python3.9/site-packages/transformers/generation/utils.py:1367\u001b[0m, in \u001b[0;36mGenerationMixin.generate\u001b[0;34m(self, inputs, max_length, min_length, do_sample, early_stopping, num_beams, temperature, penalty_alpha, top_k, top_p, typical_p, repetition_penalty, bad_words_ids, force_words_ids, bos_token_id, pad_token_id, eos_token_id, length_penalty, no_repeat_ngram_size, encoder_no_repeat_ngram_size, num_return_sequences, max_time, max_new_tokens, decoder_start_token_id, use_cache, num_beam_groups, diversity_penalty, prefix_allowed_tokens_fn, logits_processor, renormalize_logits, stopping_criteria, constraints, output_attentions, output_hidden_states, output_scores, return_dict_in_generate, forced_bos_token_id, forced_eos_token_id, remove_invalid_values, synced_gpus, exponential_decay_length_penalty, suppress_tokens, begin_suppress_tokens, forced_decoder_ids, **model_kwargs)\u001b[0m\n\u001b[1;32m   1359\u001b[0m         logger\u001b[38;5;241m.\u001b[39mwarning(\n\u001b[1;32m   1360\u001b[0m             \u001b[38;5;124m\"\u001b[39m\u001b[38;5;124mA decoder-only architecture is being used, but right-padding was detected! For correct \u001b[39m\u001b[38;5;124m\"\u001b[39m\n\u001b[1;32m   1361\u001b[0m             \u001b[38;5;124m\"\u001b[39m\u001b[38;5;124mgeneration results, please set `padding_side=\u001b[39m\u001b[38;5;124m'\u001b[39m\u001b[38;5;124mleft\u001b[39m\u001b[38;5;124m'\u001b[39m\u001b[38;5;124m` when initializing the tokenizer.\u001b[39m\u001b[38;5;124m\"\u001b[39m\n\u001b[1;32m   1362\u001b[0m         )\n\u001b[1;32m   1364\u001b[0m \u001b[38;5;28;01mif\u001b[39;00m \u001b[38;5;28mself\u001b[39m\u001b[38;5;241m.\u001b[39mconfig\u001b[38;5;241m.\u001b[39mis_encoder_decoder \u001b[38;5;129;01mand\u001b[39;00m \u001b[38;5;124m\"\u001b[39m\u001b[38;5;124mencoder_outputs\u001b[39m\u001b[38;5;124m\"\u001b[39m \u001b[38;5;129;01mnot\u001b[39;00m \u001b[38;5;129;01min\u001b[39;00m model_kwargs:\n\u001b[1;32m   1365\u001b[0m     \u001b[38;5;66;03m# if model is encoder decoder encoder_outputs are created\u001b[39;00m\n\u001b[1;32m   1366\u001b[0m     \u001b[38;5;66;03m# and added to `model_kwargs`\u001b[39;00m\n\u001b[0;32m-> 1367\u001b[0m     model_kwargs \u001b[38;5;241m=\u001b[39m \u001b[38;5;28;43mself\u001b[39;49m\u001b[38;5;241;43m.\u001b[39;49m\u001b[43m_prepare_encoder_decoder_kwargs_for_generation\u001b[49m\u001b[43m(\u001b[49m\n\u001b[1;32m   1368\u001b[0m \u001b[43m        \u001b[49m\u001b[43minputs_tensor\u001b[49m\u001b[43m,\u001b[49m\u001b[43m \u001b[49m\u001b[43mmodel_kwargs\u001b[49m\u001b[43m,\u001b[49m\u001b[43m \u001b[49m\u001b[43mmodel_input_name\u001b[49m\n\u001b[1;32m   1369\u001b[0m \u001b[43m    \u001b[49m\u001b[43m)\u001b[49m\n\u001b[1;32m   1371\u001b[0m \u001b[38;5;66;03m# 4. Prepare `input_ids` which will be used for auto-regressive generation\u001b[39;00m\n\u001b[1;32m   1372\u001b[0m \u001b[38;5;28;01mif\u001b[39;00m \u001b[38;5;28mself\u001b[39m\u001b[38;5;241m.\u001b[39mconfig\u001b[38;5;241m.\u001b[39mis_encoder_decoder:\n",
      "File \u001b[0;32m/usr/local/lib/python3.9/site-packages/transformers/generation/utils.py:601\u001b[0m, in \u001b[0;36mGenerationMixin._prepare_encoder_decoder_kwargs_for_generation\u001b[0;34m(self, inputs_tensor, model_kwargs, model_input_name)\u001b[0m\n\u001b[1;32m    599\u001b[0m encoder_kwargs[\u001b[38;5;124m\"\u001b[39m\u001b[38;5;124mreturn_dict\u001b[39m\u001b[38;5;124m\"\u001b[39m] \u001b[38;5;241m=\u001b[39m \u001b[38;5;28;01mTrue\u001b[39;00m\n\u001b[1;32m    600\u001b[0m encoder_kwargs[model_input_name] \u001b[38;5;241m=\u001b[39m inputs_tensor\n\u001b[0;32m--> 601\u001b[0m model_kwargs[\u001b[38;5;124m\"\u001b[39m\u001b[38;5;124mencoder_outputs\u001b[39m\u001b[38;5;124m\"\u001b[39m]: ModelOutput \u001b[38;5;241m=\u001b[39m \u001b[43mencoder\u001b[49m\u001b[43m(\u001b[49m\u001b[38;5;241;43m*\u001b[39;49m\u001b[38;5;241;43m*\u001b[39;49m\u001b[43mencoder_kwargs\u001b[49m\u001b[43m)\u001b[49m\n\u001b[1;32m    603\u001b[0m \u001b[38;5;28;01mreturn\u001b[39;00m model_kwargs\n",
      "File \u001b[0;32m/usr/local/lib/python3.9/site-packages/torch/nn/modules/module.py:1194\u001b[0m, in \u001b[0;36mModule._call_impl\u001b[0;34m(self, *input, **kwargs)\u001b[0m\n\u001b[1;32m   1190\u001b[0m \u001b[38;5;66;03m# If we don't have any hooks, we want to skip the rest of the logic in\u001b[39;00m\n\u001b[1;32m   1191\u001b[0m \u001b[38;5;66;03m# this function, and just call forward.\u001b[39;00m\n\u001b[1;32m   1192\u001b[0m \u001b[38;5;28;01mif\u001b[39;00m \u001b[38;5;129;01mnot\u001b[39;00m (\u001b[38;5;28mself\u001b[39m\u001b[38;5;241m.\u001b[39m_backward_hooks \u001b[38;5;129;01mor\u001b[39;00m \u001b[38;5;28mself\u001b[39m\u001b[38;5;241m.\u001b[39m_forward_hooks \u001b[38;5;129;01mor\u001b[39;00m \u001b[38;5;28mself\u001b[39m\u001b[38;5;241m.\u001b[39m_forward_pre_hooks \u001b[38;5;129;01mor\u001b[39;00m _global_backward_hooks\n\u001b[1;32m   1193\u001b[0m         \u001b[38;5;129;01mor\u001b[39;00m _global_forward_hooks \u001b[38;5;129;01mor\u001b[39;00m _global_forward_pre_hooks):\n\u001b[0;32m-> 1194\u001b[0m     \u001b[38;5;28;01mreturn\u001b[39;00m \u001b[43mforward_call\u001b[49m\u001b[43m(\u001b[49m\u001b[38;5;241;43m*\u001b[39;49m\u001b[38;5;28;43minput\u001b[39;49m\u001b[43m,\u001b[49m\u001b[43m \u001b[49m\u001b[38;5;241;43m*\u001b[39;49m\u001b[38;5;241;43m*\u001b[39;49m\u001b[43mkwargs\u001b[49m\u001b[43m)\u001b[49m\n\u001b[1;32m   1195\u001b[0m \u001b[38;5;66;03m# Do not call functions when jit is used\u001b[39;00m\n\u001b[1;32m   1196\u001b[0m full_backward_hooks, non_full_backward_hooks \u001b[38;5;241m=\u001b[39m [], []\n",
      "File \u001b[0;32m/usr/local/lib/python3.9/site-packages/transformers/models/bart/modeling_bart.py:804\u001b[0m, in \u001b[0;36mBartEncoder.forward\u001b[0;34m(self, input_ids, attention_mask, head_mask, inputs_embeds, output_attentions, output_hidden_states, return_dict)\u001b[0m\n\u001b[1;32m    801\u001b[0m \u001b[38;5;28;01mif\u001b[39;00m inputs_embeds \u001b[38;5;129;01mis\u001b[39;00m \u001b[38;5;28;01mNone\u001b[39;00m:\n\u001b[1;32m    802\u001b[0m     inputs_embeds \u001b[38;5;241m=\u001b[39m \u001b[38;5;28mself\u001b[39m\u001b[38;5;241m.\u001b[39membed_tokens(input_ids) \u001b[38;5;241m*\u001b[39m \u001b[38;5;28mself\u001b[39m\u001b[38;5;241m.\u001b[39membed_scale\n\u001b[0;32m--> 804\u001b[0m embed_pos \u001b[38;5;241m=\u001b[39m \u001b[38;5;28;43mself\u001b[39;49m\u001b[38;5;241;43m.\u001b[39;49m\u001b[43membed_positions\u001b[49m\u001b[43m(\u001b[49m\u001b[38;5;28;43minput\u001b[39;49m\u001b[43m)\u001b[49m\n\u001b[1;32m    805\u001b[0m embed_pos \u001b[38;5;241m=\u001b[39m embed_pos\u001b[38;5;241m.\u001b[39mto(inputs_embeds\u001b[38;5;241m.\u001b[39mdevice)\n\u001b[1;32m    807\u001b[0m hidden_states \u001b[38;5;241m=\u001b[39m inputs_embeds \u001b[38;5;241m+\u001b[39m embed_pos\n",
      "File \u001b[0;32m/usr/local/lib/python3.9/site-packages/torch/nn/modules/module.py:1194\u001b[0m, in \u001b[0;36mModule._call_impl\u001b[0;34m(self, *input, **kwargs)\u001b[0m\n\u001b[1;32m   1190\u001b[0m \u001b[38;5;66;03m# If we don't have any hooks, we want to skip the rest of the logic in\u001b[39;00m\n\u001b[1;32m   1191\u001b[0m \u001b[38;5;66;03m# this function, and just call forward.\u001b[39;00m\n\u001b[1;32m   1192\u001b[0m \u001b[38;5;28;01mif\u001b[39;00m \u001b[38;5;129;01mnot\u001b[39;00m (\u001b[38;5;28mself\u001b[39m\u001b[38;5;241m.\u001b[39m_backward_hooks \u001b[38;5;129;01mor\u001b[39;00m \u001b[38;5;28mself\u001b[39m\u001b[38;5;241m.\u001b[39m_forward_hooks \u001b[38;5;129;01mor\u001b[39;00m \u001b[38;5;28mself\u001b[39m\u001b[38;5;241m.\u001b[39m_forward_pre_hooks \u001b[38;5;129;01mor\u001b[39;00m _global_backward_hooks\n\u001b[1;32m   1193\u001b[0m         \u001b[38;5;129;01mor\u001b[39;00m _global_forward_hooks \u001b[38;5;129;01mor\u001b[39;00m _global_forward_pre_hooks):\n\u001b[0;32m-> 1194\u001b[0m     \u001b[38;5;28;01mreturn\u001b[39;00m \u001b[43mforward_call\u001b[49m\u001b[43m(\u001b[49m\u001b[38;5;241;43m*\u001b[39;49m\u001b[38;5;28;43minput\u001b[39;49m\u001b[43m,\u001b[49m\u001b[43m \u001b[49m\u001b[38;5;241;43m*\u001b[39;49m\u001b[38;5;241;43m*\u001b[39;49m\u001b[43mkwargs\u001b[49m\u001b[43m)\u001b[49m\n\u001b[1;32m   1195\u001b[0m \u001b[38;5;66;03m# Do not call functions when jit is used\u001b[39;00m\n\u001b[1;32m   1196\u001b[0m full_backward_hooks, non_full_backward_hooks \u001b[38;5;241m=\u001b[39m [], []\n",
      "File \u001b[0;32m/usr/local/lib/python3.9/site-packages/transformers/models/bart/modeling_bart.py:139\u001b[0m, in \u001b[0;36mBartLearnedPositionalEmbedding.forward\u001b[0;34m(self, input_ids, past_key_values_length)\u001b[0m\n\u001b[1;32m    134\u001b[0m bsz, seq_len \u001b[38;5;241m=\u001b[39m input_ids\u001b[38;5;241m.\u001b[39mshape[:\u001b[38;5;241m2\u001b[39m]\n\u001b[1;32m    135\u001b[0m positions \u001b[38;5;241m=\u001b[39m torch\u001b[38;5;241m.\u001b[39marange(\n\u001b[1;32m    136\u001b[0m     past_key_values_length, past_key_values_length \u001b[38;5;241m+\u001b[39m seq_len, dtype\u001b[38;5;241m=\u001b[39mtorch\u001b[38;5;241m.\u001b[39mlong, device\u001b[38;5;241m=\u001b[39m\u001b[38;5;28mself\u001b[39m\u001b[38;5;241m.\u001b[39mweight\u001b[38;5;241m.\u001b[39mdevice\n\u001b[1;32m    137\u001b[0m )\u001b[38;5;241m.\u001b[39mexpand(bsz, \u001b[38;5;241m-\u001b[39m\u001b[38;5;241m1\u001b[39m)\n\u001b[0;32m--> 139\u001b[0m \u001b[38;5;28;01mreturn\u001b[39;00m \u001b[38;5;28;43msuper\u001b[39;49m\u001b[43m(\u001b[49m\u001b[43m)\u001b[49m\u001b[38;5;241;43m.\u001b[39;49m\u001b[43mforward\u001b[49m\u001b[43m(\u001b[49m\u001b[43mpositions\u001b[49m\u001b[43m \u001b[49m\u001b[38;5;241;43m+\u001b[39;49m\u001b[43m \u001b[49m\u001b[38;5;28;43mself\u001b[39;49m\u001b[38;5;241;43m.\u001b[39;49m\u001b[43moffset\u001b[49m\u001b[43m)\u001b[49m\n",
      "File \u001b[0;32m/usr/local/lib/python3.9/site-packages/torch/nn/modules/sparse.py:160\u001b[0m, in \u001b[0;36mEmbedding.forward\u001b[0;34m(self, input)\u001b[0m\n\u001b[1;32m    159\u001b[0m \u001b[38;5;28;01mdef\u001b[39;00m \u001b[38;5;21mforward\u001b[39m(\u001b[38;5;28mself\u001b[39m, \u001b[38;5;28minput\u001b[39m: Tensor) \u001b[38;5;241m-\u001b[39m\u001b[38;5;241m>\u001b[39m Tensor:\n\u001b[0;32m--> 160\u001b[0m     \u001b[38;5;28;01mreturn\u001b[39;00m \u001b[43mF\u001b[49m\u001b[38;5;241;43m.\u001b[39;49m\u001b[43membedding\u001b[49m\u001b[43m(\u001b[49m\n\u001b[1;32m    161\u001b[0m \u001b[43m        \u001b[49m\u001b[38;5;28;43minput\u001b[39;49m\u001b[43m,\u001b[49m\u001b[43m \u001b[49m\u001b[38;5;28;43mself\u001b[39;49m\u001b[38;5;241;43m.\u001b[39;49m\u001b[43mweight\u001b[49m\u001b[43m,\u001b[49m\u001b[43m \u001b[49m\u001b[38;5;28;43mself\u001b[39;49m\u001b[38;5;241;43m.\u001b[39;49m\u001b[43mpadding_idx\u001b[49m\u001b[43m,\u001b[49m\u001b[43m \u001b[49m\u001b[38;5;28;43mself\u001b[39;49m\u001b[38;5;241;43m.\u001b[39;49m\u001b[43mmax_norm\u001b[49m\u001b[43m,\u001b[49m\n\u001b[1;32m    162\u001b[0m \u001b[43m        \u001b[49m\u001b[38;5;28;43mself\u001b[39;49m\u001b[38;5;241;43m.\u001b[39;49m\u001b[43mnorm_type\u001b[49m\u001b[43m,\u001b[49m\u001b[43m \u001b[49m\u001b[38;5;28;43mself\u001b[39;49m\u001b[38;5;241;43m.\u001b[39;49m\u001b[43mscale_grad_by_freq\u001b[49m\u001b[43m,\u001b[49m\u001b[43m \u001b[49m\u001b[38;5;28;43mself\u001b[39;49m\u001b[38;5;241;43m.\u001b[39;49m\u001b[43msparse\u001b[49m\u001b[43m)\u001b[49m\n",
      "File \u001b[0;32m/usr/local/lib/python3.9/site-packages/torch/nn/functional.py:2210\u001b[0m, in \u001b[0;36membedding\u001b[0;34m(input, weight, padding_idx, max_norm, norm_type, scale_grad_by_freq, sparse)\u001b[0m\n\u001b[1;32m   2204\u001b[0m     \u001b[38;5;66;03m# Note [embedding_renorm set_grad_enabled]\u001b[39;00m\n\u001b[1;32m   2205\u001b[0m     \u001b[38;5;66;03m# XXX: equivalent to\u001b[39;00m\n\u001b[1;32m   2206\u001b[0m     \u001b[38;5;66;03m# with torch.no_grad():\u001b[39;00m\n\u001b[1;32m   2207\u001b[0m     \u001b[38;5;66;03m#   torch.embedding_renorm_\u001b[39;00m\n\u001b[1;32m   2208\u001b[0m     \u001b[38;5;66;03m# remove once script supports set_grad_enabled\u001b[39;00m\n\u001b[1;32m   2209\u001b[0m     _no_grad_embedding_renorm_(weight, \u001b[38;5;28minput\u001b[39m, max_norm, norm_type)\n\u001b[0;32m-> 2210\u001b[0m \u001b[38;5;28;01mreturn\u001b[39;00m \u001b[43mtorch\u001b[49m\u001b[38;5;241;43m.\u001b[39;49m\u001b[43membedding\u001b[49m\u001b[43m(\u001b[49m\u001b[43mweight\u001b[49m\u001b[43m,\u001b[49m\u001b[43m \u001b[49m\u001b[38;5;28;43minput\u001b[39;49m\u001b[43m,\u001b[49m\u001b[43m \u001b[49m\u001b[43mpadding_idx\u001b[49m\u001b[43m,\u001b[49m\u001b[43m \u001b[49m\u001b[43mscale_grad_by_freq\u001b[49m\u001b[43m,\u001b[49m\u001b[43m \u001b[49m\u001b[43msparse\u001b[49m\u001b[43m)\u001b[49m\n",
      "\u001b[0;31mIndexError\u001b[0m: index out of range in self"
     ]
    }
   ],
   "source": [
    "# Encoding the inputs and passing them to model.generate()\n",
    "inputs = tokenizer.batch_encode_plus([ap_article.maintext],return_tensors='pt')\n",
    "summary_ids = model.generate(inputs['input_ids'], early_stopping=True)"
   ]
  },
  {
   "cell_type": "code",
   "execution_count": null,
   "id": "5850bd68-7304-43c2-97f4-c76b153451fc",
   "metadata": {},
   "outputs": [],
   "source": []
  },
  {
   "cell_type": "code",
   "execution_count": null,
   "id": "261de0d4-05b5-4575-887b-24f428379ed0",
   "metadata": {},
   "outputs": [],
   "source": []
  },
  {
   "cell_type": "markdown",
   "id": "91da657c-b020-4b30-8962-fb298c30fa61",
   "metadata": {},
   "source": [
    "## Summarization with GPT-2 Transformers"
   ]
  },
  {
   "cell_type": "code",
   "execution_count": 51,
   "id": "c2b891e2-5427-4836-a739-895baf3b9c51",
   "metadata": {},
   "outputs": [
    {
     "data": {
      "application/vnd.jupyter.widget-view+json": {
       "model_id": "88e3701e51c24724b5d79db5290f2b3a",
       "version_major": 2,
       "version_minor": 0
      },
      "text/plain": [
       "Downloading:   0%|          | 0.00/1.04M [00:00<?, ?B/s]"
      ]
     },
     "metadata": {},
     "output_type": "display_data"
    },
    {
     "data": {
      "application/vnd.jupyter.widget-view+json": {
       "model_id": "ad4c3e09531d4b49b2bc691605db0dd7",
       "version_major": 2,
       "version_minor": 0
      },
      "text/plain": [
       "Downloading:   0%|          | 0.00/456k [00:00<?, ?B/s]"
      ]
     },
     "metadata": {},
     "output_type": "display_data"
    },
    {
     "data": {
      "application/vnd.jupyter.widget-view+json": {
       "model_id": "bb989c4230a04af4916f29373cb7c97a",
       "version_major": 2,
       "version_minor": 0
      },
      "text/plain": [
       "Downloading:   0%|          | 0.00/665 [00:00<?, ?B/s]"
      ]
     },
     "metadata": {},
     "output_type": "display_data"
    },
    {
     "data": {
      "application/vnd.jupyter.widget-view+json": {
       "model_id": "a2b342c410de4cc6929701a9f3b87816",
       "version_major": 2,
       "version_minor": 0
      },
      "text/plain": [
       "Downloading:   0%|          | 0.00/548M [00:00<?, ?B/s]"
      ]
     },
     "metadata": {},
     "output_type": "display_data"
    },
    {
     "name": "stderr",
     "output_type": "stream",
     "text": [
      "Truncation was not explicitly activated but `max_length` is provided a specific value, please use `truncation=True` to explicitly truncate examples to max length. Defaulting to 'longest_first' truncation strategy. If you encode pairs of sequences (GLUE-style) with the tokenizer you can select this strategy more precisely by providing a specific strategy to `truncation`.\n",
      "The attention mask and the pad token id were not set. As a consequence, you may observe unexpected behavior. Please pass your input's `attention_mask` to obtain reliable results.\n",
      "Setting `pad_token_id` to `eos_token_id`:50256 for open-end generation.\n",
      "Input length of input_ids is 512, but `max_length` is set to 20. This can lead to unexpected behavior. You should consider increasing `max_new_tokens`.\n"
     ]
    }
   ],
   "source": [
    "# Importing model and tokenizer\n",
    "from transformers import GPT2Tokenizer,GPT2LMHeadModel\n",
    "\n",
    "# Instantiating the model and tokenizer with gpt-2\n",
    "tokenizer=GPT2Tokenizer.from_pretrained('gpt2')\n",
    "model=GPT2LMHeadModel.from_pretrained('gpt2')\n",
    "\n",
    "# Encoding text to get input ids & pass them to model.generate()\n",
    "inputs=tokenizer.batch_encode_plus([ap_article.maintext],return_tensors='pt',max_length=512)\n",
    "summary_ids=model.generate(inputs['input_ids'],early_stopping=True)"
   ]
  },
  {
   "cell_type": "code",
   "execution_count": 52,
   "id": "78c5ffe9-bfb8-45c5-8021-0b1d4105a9de",
   "metadata": {},
   "outputs": [
    {
     "name": "stdout",
     "output_type": "stream",
     "text": [
      "With the U.S. Capitol in the background, anti-abortion demonstrators march toward the U.S. Supreme Court during the March for Life, Friday, Jan. 20, 2023, in Washington. (AP Photo/Alex Brandon)\n",
      "With the U.S. Capitol in the background, anti-abortion demonstrators march toward the U.S. Supreme Court during the March for Life, Friday, Jan. 20, 2023, in Washington. (AP Photo/Alex Brandon)\n",
      "WASHINGTON (AP) — A half century after Roe v. Wade, March for Life supporters on Friday celebrated the Supreme Court’s dismantling of that constitutional right to abortion and heralded the political struggle set loose by the court’s decision. President Joe Biden pledged to do all in his limited power to restore core abortion rights.\n",
      "The first March for Life since the Supreme Court overturned Roe v. Wade in June came with a new focus. Instead of concentrating their attention on the court, the marchers vowed to push for action from the building directly across the street: the U.S. Capitol.\n",
      "Congress, movement leaders say, must be warned against making any attempt to curtail the multiple anti-abortion laws imposed last year in a dozen states.\n",
      "Tens of thousands spread across a section of the National Mall for speeches, the Capitol Building in sight, then marched.\n",
      "“For nearly 50 years, you have marched to proclaim the fundamental dignity of women, of their children and of life itself,” Mississippi Attorney General Lynn Fitch, whose office argued the case that overturned Roe v. Wade, told the crowd. “But this year is different.”\n",
      "ADVERTISEMENT\n",
      "Indeed, with the constitutional victory behind them and lawmakers now the ones to be persuaded, marchers took a new route along the western face of the Capitol, to their usual destination between that complex and the court.\n",
      "“I am the post-Roe generation,” read one sign. “Excommunicate Pro-Choice Catholics,” said another. Banners proclaimed “Love Them Both,” meaning mother and child.\n",
      "Tammy Milligan came dressed as “patriot Wonder Woman” and stood out in the crowd. She said she never thought Roe v. Wade would be overruled in her lifetime, but the fight doesn’t stop there. “We want it to be unthinkable for a woman to have an abortion,” she said.\n",
      "In a counter-protest outside the\n"
     ]
    }
   ],
   "source": [
    "# Decoding and printing summary\n",
    "\n",
    "GPT_summary=tokenizer.decode(summary_ids[0],skip_special_tokens=True)\n",
    "print(GPT_summary)"
   ]
  },
  {
   "cell_type": "markdown",
   "id": "7361027e-d29f-494c-bd99-a05713a5c83e",
   "metadata": {},
   "source": [
    "## Summarization with XLM Transformers"
   ]
  },
  {
   "cell_type": "code",
   "execution_count": 53,
   "id": "f1eec296-81b5-464d-b05b-b5824901d29e",
   "metadata": {},
   "outputs": [
    {
     "data": {
      "application/vnd.jupyter.widget-view+json": {
       "model_id": "9033962fb14d47e8889b818eef51cd5d",
       "version_major": 2,
       "version_minor": 0
      },
      "text/plain": [
       "Downloading:   0%|          | 0.00/646k [00:00<?, ?B/s]"
      ]
     },
     "metadata": {},
     "output_type": "display_data"
    },
    {
     "data": {
      "application/vnd.jupyter.widget-view+json": {
       "model_id": "ce46c0a427404885b6acfd3223d2b7d4",
       "version_major": 2,
       "version_minor": 0
      },
      "text/plain": [
       "Downloading:   0%|          | 0.00/487k [00:00<?, ?B/s]"
      ]
     },
     "metadata": {},
     "output_type": "display_data"
    },
    {
     "data": {
      "application/vnd.jupyter.widget-view+json": {
       "model_id": "e8f822c4511c48109227cfd52853592e",
       "version_major": 2,
       "version_minor": 0
      },
      "text/plain": [
       "Downloading:   0%|          | 0.00/65.0 [00:00<?, ?B/s]"
      ]
     },
     "metadata": {},
     "output_type": "display_data"
    },
    {
     "data": {
      "application/vnd.jupyter.widget-view+json": {
       "model_id": "bf0002edd6504447bd7d60b9f670beed",
       "version_major": 2,
       "version_minor": 0
      },
      "text/plain": [
       "Downloading:   0%|          | 0.00/840 [00:00<?, ?B/s]"
      ]
     },
     "metadata": {},
     "output_type": "display_data"
    },
    {
     "ename": "ImportError",
     "evalue": "You need to install sacremoses to use XLMTokenizer. See https://pypi.org/project/sacremoses/ for installation.",
     "output_type": "error",
     "traceback": [
      "\u001b[0;31m---------------------------------------------------------------------------\u001b[0m",
      "\u001b[0;31mModuleNotFoundError\u001b[0m                       Traceback (most recent call last)",
      "File \u001b[0;32m/usr/local/lib/python3.9/site-packages/transformers/models/xlm/tokenization_xlm.py:631\u001b[0m, in \u001b[0;36mXLMTokenizer.__init__\u001b[0;34m(self, vocab_file, merges_file, unk_token, bos_token, sep_token, pad_token, cls_token, mask_token, additional_special_tokens, lang2id, id2lang, do_lowercase_and_remove_accent, **kwargs)\u001b[0m\n\u001b[1;32m    630\u001b[0m \u001b[38;5;28;01mtry\u001b[39;00m:\n\u001b[0;32m--> 631\u001b[0m     \u001b[38;5;28;01mimport\u001b[39;00m \u001b[38;5;21;01msacremoses\u001b[39;00m\n\u001b[1;32m    632\u001b[0m \u001b[38;5;28;01mexcept\u001b[39;00m \u001b[38;5;167;01mImportError\u001b[39;00m:\n",
      "\u001b[0;31mModuleNotFoundError\u001b[0m: No module named 'sacremoses'",
      "\nDuring handling of the above exception, another exception occurred:\n",
      "\u001b[0;31mImportError\u001b[0m                               Traceback (most recent call last)",
      "Input \u001b[0;32mIn [53]\u001b[0m, in \u001b[0;36m<cell line: 5>\u001b[0;34m()\u001b[0m\n\u001b[1;32m      2\u001b[0m \u001b[38;5;28;01mfrom\u001b[39;00m \u001b[38;5;21;01mtransformers\u001b[39;00m \u001b[38;5;28;01mimport\u001b[39;00m XLMWithLMHeadModel, XLMTokenizer\n\u001b[1;32m      4\u001b[0m \u001b[38;5;66;03m# Instantiating the model and tokenizer \u001b[39;00m\n\u001b[0;32m----> 5\u001b[0m tokenizer\u001b[38;5;241m=\u001b[39m\u001b[43mXLMTokenizer\u001b[49m\u001b[38;5;241;43m.\u001b[39;49m\u001b[43mfrom_pretrained\u001b[49m\u001b[43m(\u001b[49m\u001b[38;5;124;43m'\u001b[39;49m\u001b[38;5;124;43mxlm-mlm-en-2048\u001b[39;49m\u001b[38;5;124;43m'\u001b[39;49m\u001b[43m)\u001b[49m\n\u001b[1;32m      6\u001b[0m model\u001b[38;5;241m=\u001b[39mXLMWithLMHeadModel\u001b[38;5;241m.\u001b[39mfrom_pretrained(\u001b[38;5;124m'\u001b[39m\u001b[38;5;124mxlm-mlm-en-2048\u001b[39m\u001b[38;5;124m'\u001b[39m)\n\u001b[1;32m      8\u001b[0m \u001b[38;5;66;03m# Encoding text to get input ids & pass them to model.generate()\u001b[39;00m\n",
      "File \u001b[0;32m/usr/local/lib/python3.9/site-packages/transformers/tokenization_utils_base.py:1801\u001b[0m, in \u001b[0;36mPreTrainedTokenizerBase.from_pretrained\u001b[0;34m(cls, pretrained_model_name_or_path, *init_inputs, **kwargs)\u001b[0m\n\u001b[1;32m   1798\u001b[0m     \u001b[38;5;28;01melse\u001b[39;00m:\n\u001b[1;32m   1799\u001b[0m         logger\u001b[38;5;241m.\u001b[39minfo(\u001b[38;5;124mf\u001b[39m\u001b[38;5;124m\"\u001b[39m\u001b[38;5;124mloading file \u001b[39m\u001b[38;5;132;01m{\u001b[39;00mfile_path\u001b[38;5;132;01m}\u001b[39;00m\u001b[38;5;124m from cache at \u001b[39m\u001b[38;5;132;01m{\u001b[39;00mresolved_vocab_files[file_id]\u001b[38;5;132;01m}\u001b[39;00m\u001b[38;5;124m\"\u001b[39m)\n\u001b[0;32m-> 1801\u001b[0m \u001b[38;5;28;01mreturn\u001b[39;00m \u001b[38;5;28;43mcls\u001b[39;49m\u001b[38;5;241;43m.\u001b[39;49m\u001b[43m_from_pretrained\u001b[49m\u001b[43m(\u001b[49m\n\u001b[1;32m   1802\u001b[0m \u001b[43m    \u001b[49m\u001b[43mresolved_vocab_files\u001b[49m\u001b[43m,\u001b[49m\n\u001b[1;32m   1803\u001b[0m \u001b[43m    \u001b[49m\u001b[43mpretrained_model_name_or_path\u001b[49m\u001b[43m,\u001b[49m\n\u001b[1;32m   1804\u001b[0m \u001b[43m    \u001b[49m\u001b[43minit_configuration\u001b[49m\u001b[43m,\u001b[49m\n\u001b[1;32m   1805\u001b[0m \u001b[43m    \u001b[49m\u001b[38;5;241;43m*\u001b[39;49m\u001b[43minit_inputs\u001b[49m\u001b[43m,\u001b[49m\n\u001b[1;32m   1806\u001b[0m \u001b[43m    \u001b[49m\u001b[43muse_auth_token\u001b[49m\u001b[38;5;241;43m=\u001b[39;49m\u001b[43muse_auth_token\u001b[49m\u001b[43m,\u001b[49m\n\u001b[1;32m   1807\u001b[0m \u001b[43m    \u001b[49m\u001b[43mcache_dir\u001b[49m\u001b[38;5;241;43m=\u001b[39;49m\u001b[43mcache_dir\u001b[49m\u001b[43m,\u001b[49m\n\u001b[1;32m   1808\u001b[0m \u001b[43m    \u001b[49m\u001b[43mlocal_files_only\u001b[49m\u001b[38;5;241;43m=\u001b[39;49m\u001b[43mlocal_files_only\u001b[49m\u001b[43m,\u001b[49m\n\u001b[1;32m   1809\u001b[0m \u001b[43m    \u001b[49m\u001b[43m_commit_hash\u001b[49m\u001b[38;5;241;43m=\u001b[39;49m\u001b[43mcommit_hash\u001b[49m\u001b[43m,\u001b[49m\n\u001b[1;32m   1810\u001b[0m \u001b[43m    \u001b[49m\u001b[38;5;241;43m*\u001b[39;49m\u001b[38;5;241;43m*\u001b[39;49m\u001b[43mkwargs\u001b[49m\u001b[43m,\u001b[49m\n\u001b[1;32m   1811\u001b[0m \u001b[43m\u001b[49m\u001b[43m)\u001b[49m\n",
      "File \u001b[0;32m/usr/local/lib/python3.9/site-packages/transformers/tokenization_utils_base.py:1956\u001b[0m, in \u001b[0;36mPreTrainedTokenizerBase._from_pretrained\u001b[0;34m(cls, resolved_vocab_files, pretrained_model_name_or_path, init_configuration, use_auth_token, cache_dir, local_files_only, _commit_hash, *init_inputs, **kwargs)\u001b[0m\n\u001b[1;32m   1954\u001b[0m \u001b[38;5;66;03m# Instantiate tokenizer.\u001b[39;00m\n\u001b[1;32m   1955\u001b[0m \u001b[38;5;28;01mtry\u001b[39;00m:\n\u001b[0;32m-> 1956\u001b[0m     tokenizer \u001b[38;5;241m=\u001b[39m \u001b[38;5;28;43mcls\u001b[39;49m\u001b[43m(\u001b[49m\u001b[38;5;241;43m*\u001b[39;49m\u001b[43minit_inputs\u001b[49m\u001b[43m,\u001b[49m\u001b[43m \u001b[49m\u001b[38;5;241;43m*\u001b[39;49m\u001b[38;5;241;43m*\u001b[39;49m\u001b[43minit_kwargs\u001b[49m\u001b[43m)\u001b[49m\n\u001b[1;32m   1957\u001b[0m \u001b[38;5;28;01mexcept\u001b[39;00m \u001b[38;5;167;01mOSError\u001b[39;00m:\n\u001b[1;32m   1958\u001b[0m     \u001b[38;5;28;01mraise\u001b[39;00m \u001b[38;5;167;01mOSError\u001b[39;00m(\n\u001b[1;32m   1959\u001b[0m         \u001b[38;5;124m\"\u001b[39m\u001b[38;5;124mUnable to load vocabulary from file. \u001b[39m\u001b[38;5;124m\"\u001b[39m\n\u001b[1;32m   1960\u001b[0m         \u001b[38;5;124m\"\u001b[39m\u001b[38;5;124mPlease check that the provided vocabulary is accessible and not corrupted.\u001b[39m\u001b[38;5;124m\"\u001b[39m\n\u001b[1;32m   1961\u001b[0m     )\n",
      "File \u001b[0;32m/usr/local/lib/python3.9/site-packages/transformers/models/xlm/tokenization_xlm.py:633\u001b[0m, in \u001b[0;36mXLMTokenizer.__init__\u001b[0;34m(self, vocab_file, merges_file, unk_token, bos_token, sep_token, pad_token, cls_token, mask_token, additional_special_tokens, lang2id, id2lang, do_lowercase_and_remove_accent, **kwargs)\u001b[0m\n\u001b[1;32m    631\u001b[0m     \u001b[38;5;28;01mimport\u001b[39;00m \u001b[38;5;21;01msacremoses\u001b[39;00m\n\u001b[1;32m    632\u001b[0m \u001b[38;5;28;01mexcept\u001b[39;00m \u001b[38;5;167;01mImportError\u001b[39;00m:\n\u001b[0;32m--> 633\u001b[0m     \u001b[38;5;28;01mraise\u001b[39;00m \u001b[38;5;167;01mImportError\u001b[39;00m(\n\u001b[1;32m    634\u001b[0m         \u001b[38;5;124m\"\u001b[39m\u001b[38;5;124mYou need to install sacremoses to use XLMTokenizer. \u001b[39m\u001b[38;5;124m\"\u001b[39m\n\u001b[1;32m    635\u001b[0m         \u001b[38;5;124m\"\u001b[39m\u001b[38;5;124mSee https://pypi.org/project/sacremoses/ for installation.\u001b[39m\u001b[38;5;124m\"\u001b[39m\n\u001b[1;32m    636\u001b[0m     )\n\u001b[1;32m    638\u001b[0m \u001b[38;5;28mself\u001b[39m\u001b[38;5;241m.\u001b[39msm \u001b[38;5;241m=\u001b[39m sacremoses\n\u001b[1;32m    640\u001b[0m \u001b[38;5;66;03m# cache of sm.MosesPunctNormalizer instance\u001b[39;00m\n",
      "\u001b[0;31mImportError\u001b[0m: You need to install sacremoses to use XLMTokenizer. See https://pypi.org/project/sacremoses/ for installation."
     ]
    }
   ],
   "source": [
    "# Importing model and tokenizer\n",
    "from transformers import XLMWithLMHeadModel, XLMTokenizer\n",
    "\n",
    "# Instantiating the model and tokenizer \n",
    "tokenizer=XLMTokenizer.from_pretrained('xlm-mlm-en-2048')\n",
    "model=XLMWithLMHeadModel.from_pretrained('xlm-mlm-en-2048')\n",
    "\n",
    "# Encoding text to get input ids & pass them to model.generate()\n",
    "inputs=tokenizer.batch_encode_plus([ap_article.maintext],return_tensors='pt',max_length=512)\n",
    "summary_ids=model.generate(inputs['input_ids'],early_stopping=True)\n",
    "\n",
    "# Decode and print the summary\n",
    "XLM_summary=tokenizer.decode(summary_ids[0],skip_special_tokens=True)\n",
    "print(XLM_summary)"
   ]
  },
  {
   "cell_type": "code",
   "execution_count": 4,
   "id": "18bce25e-1ed1-450d-b8e5-8267436fa980",
   "metadata": {},
   "outputs": [
    {
     "name": "stdout",
     "output_type": "stream",
     "text": [
      "<class 'list'>\n"
     ]
    }
   ],
   "source": [
    "l= [1, 2, 3]\n",
    "print(type(l[:1]))"
   ]
  },
  {
   "cell_type": "code",
   "execution_count": 9,
   "id": "e3fa515f-59fa-4126-b183-8e1096297c3f",
   "metadata": {},
   "outputs": [
    {
     "data": {
      "text/plain": [
       "1"
      ]
     },
     "execution_count": 9,
     "metadata": {},
     "output_type": "execute_result"
    }
   ],
   "source": [
    "l[0]"
   ]
  },
  {
   "cell_type": "code",
   "execution_count": 6,
   "id": "a48c8553-e9f9-4175-92ff-13e435da7456",
   "metadata": {},
   "outputs": [
    {
     "data": {
      "text/plain": [
       "2"
      ]
     },
     "execution_count": 6,
     "metadata": {},
     "output_type": "execute_result"
    }
   ],
   "source": [
    "l[1]"
   ]
  },
  {
   "cell_type": "code",
   "execution_count": null,
   "id": "43ae4df5-c562-4940-8f0d-49afb4b88111",
   "metadata": {},
   "outputs": [],
   "source": []
  }
 ],
 "metadata": {
  "kernelspec": {
   "display_name": "Python 3 (ipykernel)",
   "language": "python",
   "name": "python3"
  },
  "language_info": {
   "codemirror_mode": {
    "name": "ipython",
    "version": 3
   },
   "file_extension": ".py",
   "mimetype": "text/x-python",
   "name": "python",
   "nbconvert_exporter": "python",
   "pygments_lexer": "ipython3",
   "version": "3.9.12"
  }
 },
 "nbformat": 4,
 "nbformat_minor": 5
}
