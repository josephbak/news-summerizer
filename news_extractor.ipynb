{
 "cells": [
  {
   "cell_type": "code",
   "execution_count": 44,
   "id": "089c10f2-69b8-4e77-95fc-6d1899c613be",
   "metadata": {
    "collapsed": true,
    "jupyter": {
     "outputs_hidden": true
    },
    "tags": []
   },
   "outputs": [
    {
     "name": "stdout",
     "output_type": "stream",
     "text": [
      "\u001b[33mDEPRECATION: Configuring installation scheme with distutils config files is deprecated and will no longer work in the near future. If you are using a Homebrew or Linuxbrew Python, please see discussion at https://github.com/Homebrew/homebrew-core/issues/76621\u001b[0m\u001b[33m\n",
      "\u001b[0mRequirement already satisfied: GoogleNews in /usr/local/lib/python3.9/site-packages (1.6.5)\n",
      "Requirement already satisfied: dateparser in /usr/local/lib/python3.9/site-packages (from GoogleNews) (1.1.4)\n",
      "Requirement already satisfied: beautifulsoup4 in /usr/local/lib/python3.9/site-packages (from GoogleNews) (4.11.1)\n",
      "Requirement already satisfied: python-dateutil in /usr/local/lib/python3.9/site-packages (from GoogleNews) (2.8.2)\n",
      "Requirement already satisfied: soupsieve>1.2 in /usr/local/lib/python3.9/site-packages (from beautifulsoup4->GoogleNews) (2.3.2.post1)\n",
      "Requirement already satisfied: regex!=2019.02.19,!=2021.8.27 in /usr/local/lib/python3.9/site-packages (from dateparser->GoogleNews) (2022.10.31)\n",
      "Requirement already satisfied: pytz in /usr/local/lib/python3.9/site-packages (from dateparser->GoogleNews) (2022.1)\n",
      "Requirement already satisfied: tzlocal in /usr/local/lib/python3.9/site-packages (from dateparser->GoogleNews) (4.2)\n",
      "Requirement already satisfied: six>=1.5 in /usr/local/lib/python3.9/site-packages (from python-dateutil->GoogleNews) (1.16.0)\n",
      "Requirement already satisfied: pytz-deprecation-shim in /usr/local/lib/python3.9/site-packages (from tzlocal->dateparser->GoogleNews) (0.1.0.post0)\n",
      "Requirement already satisfied: tzdata in /usr/local/lib/python3.9/site-packages (from pytz-deprecation-shim->tzlocal->dateparser->GoogleNews) (2022.6)\n",
      "\u001b[33mDEPRECATION: Configuring installation scheme with distutils config files is deprecated and will no longer work in the near future. If you are using a Homebrew or Linuxbrew Python, please see discussion at https://github.com/Homebrew/homebrew-core/issues/76621\u001b[0m\u001b[33m\n",
      "\u001b[0m"
     ]
    }
   ],
   "source": [
    "import sys\n",
    "!{sys.executable} -m pip install GoogleNews"
   ]
  },
  {
   "cell_type": "code",
   "execution_count": 45,
   "id": "2caf094d-8789-4d49-b0fb-423a157b6f41",
   "metadata": {
    "tags": []
   },
   "outputs": [
    {
     "name": "stdout",
     "output_type": "stream",
     "text": [
      "\u001b[33mDEPRECATION: Configuring installation scheme with distutils config files is deprecated and will no longer work in the near future. If you are using a Homebrew or Linuxbrew Python, please see discussion at https://github.com/Homebrew/homebrew-core/issues/76621\u001b[0m\u001b[33m\n",
      "\u001b[0mRequirement already satisfied: beautifulsoup4 in /usr/local/lib/python3.9/site-packages (4.11.1)\n",
      "Requirement already satisfied: soupsieve>1.2 in /usr/local/lib/python3.9/site-packages (from beautifulsoup4) (2.3.2.post1)\n",
      "\u001b[33mDEPRECATION: Configuring installation scheme with distutils config files is deprecated and will no longer work in the near future. If you are using a Homebrew or Linuxbrew Python, please see discussion at https://github.com/Homebrew/homebrew-core/issues/76621\u001b[0m\u001b[33m\n",
      "\u001b[0m"
     ]
    }
   ],
   "source": [
    "!{sys.executable} -m pip install beautifulsoup4"
   ]
  },
  {
   "cell_type": "code",
   "execution_count": 43,
   "id": "d4fc9e55-21ee-4b01-bfd9-6458507f5abf",
   "metadata": {},
   "outputs": [
    {
     "name": "stdout",
     "output_type": "stream",
     "text": [
      "zsh:1: parse error near `-m'\n"
     ]
    }
   ],
   "source": [
    "!{sys.executable} -m pip install news-please"
   ]
  },
  {
   "cell_type": "code",
   "execution_count": 46,
   "id": "e20346fe-89a2-4bbe-a1a5-aa1b35cad91e",
   "metadata": {
    "collapsed": true,
    "jupyter": {
     "outputs_hidden": true
    },
    "tags": []
   },
   "outputs": [
    {
     "name": "stdout",
     "output_type": "stream",
     "text": [
      "\u001b[33mDEPRECATION: Configuring installation scheme with distutils config files is deprecated and will no longer work in the near future. If you are using a Homebrew or Linuxbrew Python, please see discussion at https://github.com/Homebrew/homebrew-core/issues/76621\u001b[0m\u001b[33m\n",
      "\u001b[0mCollecting gensim\n",
      "  Downloading gensim-4.3.0-cp39-cp39-macosx_10_9_x86_64.whl (24.0 MB)\n",
      "\u001b[2K     \u001b[38;2;114;156;31m━━━━━━━━━━━━━━━━━━━━━━━━━━━━━━━━━━━━━━━━\u001b[0m \u001b[32m24.0/24.0 MB\u001b[0m \u001b[31m9.3 MB/s\u001b[0m eta \u001b[36m0:00:00\u001b[0m0m eta \u001b[36m0:00:01\u001b[0m0:01\u001b[0m:01\u001b[0m\n",
      "\u001b[?25hCollecting smart-open>=1.8.1\n",
      "  Downloading smart_open-6.3.0-py3-none-any.whl (56 kB)\n",
      "\u001b[2K     \u001b[38;2;114;156;31m━━━━━━━━━━━━━━━━━━━━━━━━━━━━━━━━━━━━━━━━\u001b[0m \u001b[32m56.8/56.8 kB\u001b[0m \u001b[31m1.9 MB/s\u001b[0m eta \u001b[36m0:00:00\u001b[0m\n",
      "\u001b[?25hRequirement already satisfied: numpy>=1.18.5 in /usr/local/lib/python3.9/site-packages (from gensim) (1.23.3)\n",
      "Collecting FuzzyTM>=0.4.0\n",
      "  Downloading FuzzyTM-2.0.5-py3-none-any.whl (29 kB)\n",
      "Requirement already satisfied: scipy>=1.7.0 in /usr/local/lib/python3.9/site-packages (from gensim) (1.9.3)\n",
      "Collecting pyfume\n",
      "  Downloading pyFUME-0.2.25-py3-none-any.whl (67 kB)\n",
      "\u001b[2K     \u001b[38;2;114;156;31m━━━━━━━━━━━━━━━━━━━━━━━━━━━━━━━━━━━━━━━━\u001b[0m \u001b[32m67.1/67.1 kB\u001b[0m \u001b[31m2.0 MB/s\u001b[0m eta \u001b[36m0:00:00\u001b[0m\n",
      "\u001b[?25hRequirement already satisfied: pandas in /usr/local/lib/python3.9/site-packages (from FuzzyTM>=0.4.0->gensim) (1.5.1)\n",
      "Requirement already satisfied: python-dateutil>=2.8.1 in /usr/local/lib/python3.9/site-packages (from pandas->FuzzyTM>=0.4.0->gensim) (2.8.2)\n",
      "Requirement already satisfied: pytz>=2020.1 in /usr/local/lib/python3.9/site-packages (from pandas->FuzzyTM>=0.4.0->gensim) (2022.1)\n",
      "Collecting simpful\n",
      "  Downloading simpful-2.9.0-py3-none-any.whl (30 kB)\n",
      "Collecting fst-pso\n",
      "  Downloading fst-pso-1.8.1.tar.gz (18 kB)\n",
      "  Preparing metadata (setup.py) ... \u001b[?25ldone\n",
      "\u001b[?25hRequirement already satisfied: six>=1.5 in /usr/local/lib/python3.9/site-packages (from python-dateutil>=2.8.1->pandas->FuzzyTM>=0.4.0->gensim) (1.16.0)\n",
      "Collecting miniful\n",
      "  Downloading miniful-0.0.6.tar.gz (2.8 kB)\n",
      "  Preparing metadata (setup.py) ... \u001b[?25ldone\n",
      "\u001b[?25hRequirement already satisfied: requests in /usr/local/lib/python3.9/site-packages (from simpful->pyfume->FuzzyTM>=0.4.0->gensim) (2.27.1)\n",
      "Requirement already satisfied: charset-normalizer~=2.0.0 in /usr/local/lib/python3.9/site-packages (from requests->simpful->pyfume->FuzzyTM>=0.4.0->gensim) (2.0.12)\n",
      "Requirement already satisfied: idna<4,>=2.5 in /usr/local/lib/python3.9/site-packages (from requests->simpful->pyfume->FuzzyTM>=0.4.0->gensim) (3.3)\n",
      "Requirement already satisfied: urllib3<1.27,>=1.21.1 in /usr/local/lib/python3.9/site-packages (from requests->simpful->pyfume->FuzzyTM>=0.4.0->gensim) (1.26.9)\n",
      "Requirement already satisfied: certifi>=2017.4.17 in /usr/local/lib/python3.9/site-packages (from requests->simpful->pyfume->FuzzyTM>=0.4.0->gensim) (2021.10.8)\n",
      "Building wheels for collected packages: fst-pso, miniful\n",
      "  Building wheel for fst-pso (setup.py) ... \u001b[?25ldone\n",
      "\u001b[?25h  Created wheel for fst-pso: filename=fst_pso-1.8.1-py3-none-any.whl size=20444 sha256=6b1d44c73c3bbf2a235a242e964dc9b09f626e72daec1c5b144b73f120b9931c\n",
      "  Stored in directory: /Users/josephbak/Library/Caches/pip/wheels/d7/1e/9c/3c352867b1bb1ddba0e51149a0d06c1e50c1c9b1c5ebcac787\n",
      "  Building wheel for miniful (setup.py) ... \u001b[?25ldone\n",
      "\u001b[?25h  Created wheel for miniful: filename=miniful-0.0.6-py3-none-any.whl size=3529 sha256=71986b9194ed57e41a708449be9e57d91f0c83a8a0bedc404412f9a3f7d886b5\n",
      "  Stored in directory: /Users/josephbak/Library/Caches/pip/wheels/37/45/a2/db878712db97aaab6f574d750789bc6c99e3b706af8af6b936\n",
      "Successfully built fst-pso miniful\n",
      "Installing collected packages: smart-open, simpful, miniful, fst-pso, pyfume, FuzzyTM, gensim\n",
      "\u001b[33m  DEPRECATION: Configuring installation scheme with distutils config files is deprecated and will no longer work in the near future. If you are using a Homebrew or Linuxbrew Python, please see discussion at https://github.com/Homebrew/homebrew-core/issues/76621\u001b[0m\u001b[33m\n",
      "\u001b[0m\u001b[33m  DEPRECATION: Configuring installation scheme with distutils config files is deprecated and will no longer work in the near future. If you are using a Homebrew or Linuxbrew Python, please see discussion at https://github.com/Homebrew/homebrew-core/issues/76621\u001b[0m\u001b[33m\n",
      "\u001b[0m\u001b[33m  DEPRECATION: Configuring installation scheme with distutils config files is deprecated and will no longer work in the near future. If you are using a Homebrew or Linuxbrew Python, please see discussion at https://github.com/Homebrew/homebrew-core/issues/76621\u001b[0m\u001b[33m\n",
      "\u001b[0m\u001b[33m  DEPRECATION: Configuring installation scheme with distutils config files is deprecated and will no longer work in the near future. If you are using a Homebrew or Linuxbrew Python, please see discussion at https://github.com/Homebrew/homebrew-core/issues/76621\u001b[0m\u001b[33m\n",
      "\u001b[0m\u001b[33m  DEPRECATION: Configuring installation scheme with distutils config files is deprecated and will no longer work in the near future. If you are using a Homebrew or Linuxbrew Python, please see discussion at https://github.com/Homebrew/homebrew-core/issues/76621\u001b[0m\u001b[33m\n",
      "\u001b[0m\u001b[33m  DEPRECATION: Configuring installation scheme with distutils config files is deprecated and will no longer work in the near future. If you are using a Homebrew or Linuxbrew Python, please see discussion at https://github.com/Homebrew/homebrew-core/issues/76621\u001b[0m\u001b[33m\n",
      "\u001b[0m\u001b[33m  DEPRECATION: Configuring installation scheme with distutils config files is deprecated and will no longer work in the near future. If you are using a Homebrew or Linuxbrew Python, please see discussion at https://github.com/Homebrew/homebrew-core/issues/76621\u001b[0m\u001b[33m\n",
      "\u001b[0m\u001b[33mDEPRECATION: Configuring installation scheme with distutils config files is deprecated and will no longer work in the near future. If you are using a Homebrew or Linuxbrew Python, please see discussion at https://github.com/Homebrew/homebrew-core/issues/76621\u001b[0m\u001b[33m\n",
      "\u001b[0mSuccessfully installed FuzzyTM-2.0.5 fst-pso-1.8.1 gensim-4.3.0 miniful-0.0.6 pyfume-0.2.25 simpful-2.9.0 smart-open-6.3.0\n"
     ]
    }
   ],
   "source": [
    "!{sys.executable} -m pip install gensim"
   ]
  },
  {
   "cell_type": "code",
   "execution_count": 52,
   "id": "74f93e98-65d2-4c46-ae36-4c4fdf5bee1a",
   "metadata": {
    "collapsed": true,
    "jupyter": {
     "outputs_hidden": true
    },
    "tags": []
   },
   "outputs": [
    {
     "name": "stdout",
     "output_type": "stream",
     "text": [
      "\u001b[33mDEPRECATION: Configuring installation scheme with distutils config files is deprecated and will no longer work in the near future. If you are using a Homebrew or Linuxbrew Python, please see discussion at https://github.com/Homebrew/homebrew-core/issues/76621\u001b[0m\u001b[33m\n",
      "\u001b[0mCollecting summa\n",
      "  Downloading summa-1.2.0.tar.gz (54 kB)\n",
      "\u001b[2K     \u001b[38;2;114;156;31m━━━━━━━━━━━━━━━━━━━━━━━━━━━━━━━━━━━━━━━━\u001b[0m \u001b[32m54.9/54.9 kB\u001b[0m \u001b[31m1.1 MB/s\u001b[0m eta \u001b[36m0:00:00\u001b[0m MB/s\u001b[0m eta \u001b[36m0:00:01\u001b[0m\n",
      "\u001b[?25h  Preparing metadata (setup.py) ... \u001b[?25ldone\n",
      "\u001b[?25hRequirement already satisfied: scipy>=0.19 in /usr/local/lib/python3.9/site-packages (from summa) (1.9.3)\n",
      "Requirement already satisfied: numpy<1.26.0,>=1.18.5 in /usr/local/lib/python3.9/site-packages (from scipy>=0.19->summa) (1.23.3)\n",
      "Building wheels for collected packages: summa\n",
      "  Building wheel for summa (setup.py) ... \u001b[?25ldone\n",
      "\u001b[?25h  Created wheel for summa: filename=summa-1.2.0-py3-none-any.whl size=54411 sha256=9b341ee58a21de2fb40c0e97a7a9f1c16aa369f208efec0095d8643f9cacc989\n",
      "  Stored in directory: /Users/josephbak/Library/Caches/pip/wheels/55/a7/39/101e558b91aa3d5c02f3aca887a3abf9b3650005bbb99fbb95\n",
      "Successfully built summa\n",
      "Installing collected packages: summa\n",
      "\u001b[33m  DEPRECATION: Configuring installation scheme with distutils config files is deprecated and will no longer work in the near future. If you are using a Homebrew or Linuxbrew Python, please see discussion at https://github.com/Homebrew/homebrew-core/issues/76621\u001b[0m\u001b[33m\n",
      "\u001b[0m\u001b[33mDEPRECATION: Configuring installation scheme with distutils config files is deprecated and will no longer work in the near future. If you are using a Homebrew or Linuxbrew Python, please see discussion at https://github.com/Homebrew/homebrew-core/issues/76621\u001b[0m\u001b[33m\n",
      "\u001b[0mSuccessfully installed summa-1.2.0\n"
     ]
    }
   ],
   "source": [
    "!{sys.executable} -m pip install summa"
   ]
  },
  {
   "cell_type": "code",
   "execution_count": 48,
   "id": "ad49a4c4-c99b-4e05-9d16-adf46d6b4724",
   "metadata": {
    "collapsed": true,
    "jupyter": {
     "outputs_hidden": true
    },
    "tags": []
   },
   "outputs": [
    {
     "name": "stdout",
     "output_type": "stream",
     "text": [
      "\u001b[33mDEPRECATION: Configuring installation scheme with distutils config files is deprecated and will no longer work in the near future. If you are using a Homebrew or Linuxbrew Python, please see discussion at https://github.com/Homebrew/homebrew-core/issues/76621\u001b[0m\u001b[33m\n",
      "\u001b[0mCollecting sumy\n",
      "  Downloading sumy-0.11.0-py2.py3-none-any.whl (97 kB)\n",
      "\u001b[2K     \u001b[38;2;114;156;31m━━━━━━━━━━━━━━━━━━━━━━━━━━━━━━━━━━━━━━━━\u001b[0m \u001b[32m97.3/97.3 kB\u001b[0m \u001b[31m1.8 MB/s\u001b[0m eta \u001b[36m0:00:00\u001b[0m[31m3.7 MB/s\u001b[0m eta \u001b[36m0:00:01\u001b[0m\n",
      "\u001b[?25hRequirement already satisfied: nltk>=3.0.2 in /usr/local/lib/python3.9/site-packages (from sumy) (3.8.1)\n",
      "Collecting breadability>=0.1.20\n",
      "  Using cached breadability-0.1.20.tar.gz (32 kB)\n",
      "  Preparing metadata (setup.py) ... \u001b[?25ldone\n",
      "\u001b[?25hRequirement already satisfied: requests>=2.7.0 in /usr/local/lib/python3.9/site-packages (from sumy) (2.27.1)\n",
      "Collecting docopt<0.7,>=0.6.1\n",
      "  Using cached docopt-0.6.2.tar.gz (25 kB)\n",
      "  Preparing metadata (setup.py) ... \u001b[?25ldone\n",
      "\u001b[?25hCollecting pycountry>=18.2.23\n",
      "  Using cached pycountry-22.3.5.tar.gz (10.1 MB)\n",
      "  Installing build dependencies ... \u001b[?25ldone\n",
      "\u001b[?25h  Getting requirements to build wheel ... \u001b[?25ldone\n",
      "\u001b[?25h  Preparing metadata (pyproject.toml) ... \u001b[?25ldone\n",
      "\u001b[?25hRequirement already satisfied: chardet in /usr/local/lib/python3.9/site-packages (from breadability>=0.1.20->sumy) (5.1.0)\n",
      "Requirement already satisfied: lxml>=2.0 in /usr/local/lib/python3.9/site-packages (from breadability>=0.1.20->sumy) (4.9.1)\n",
      "Requirement already satisfied: tqdm in /usr/local/lib/python3.9/site-packages (from nltk>=3.0.2->sumy) (4.64.1)\n",
      "Requirement already satisfied: click in /usr/local/lib/python3.9/site-packages (from nltk>=3.0.2->sumy) (8.1.3)\n",
      "Requirement already satisfied: joblib in /usr/local/lib/python3.9/site-packages (from nltk>=3.0.2->sumy) (1.2.0)\n",
      "Requirement already satisfied: regex>=2021.8.3 in /usr/local/lib/python3.9/site-packages (from nltk>=3.0.2->sumy) (2022.10.31)\n",
      "Requirement already satisfied: setuptools in /usr/local/lib/python3.9/site-packages (from pycountry>=18.2.23->sumy) (60.10.0)\n",
      "Requirement already satisfied: charset-normalizer~=2.0.0 in /usr/local/lib/python3.9/site-packages (from requests>=2.7.0->sumy) (2.0.12)\n",
      "Requirement already satisfied: idna<4,>=2.5 in /usr/local/lib/python3.9/site-packages (from requests>=2.7.0->sumy) (3.3)\n",
      "Requirement already satisfied: urllib3<1.27,>=1.21.1 in /usr/local/lib/python3.9/site-packages (from requests>=2.7.0->sumy) (1.26.9)\n",
      "Requirement already satisfied: certifi>=2017.4.17 in /usr/local/lib/python3.9/site-packages (from requests>=2.7.0->sumy) (2021.10.8)\n",
      "Building wheels for collected packages: breadability, docopt, pycountry\n",
      "  Building wheel for breadability (setup.py) ... \u001b[?25ldone\n",
      "\u001b[?25h  Created wheel for breadability: filename=breadability-0.1.20-py2.py3-none-any.whl size=21712 sha256=f792f1a7030a1b9d6f8f06fe915077b58d2af9195bff99e4a61e995ef86ee624\n",
      "  Stored in directory: /Users/josephbak/Library/Caches/pip/wheels/a3/54/93/5ee986869eff19018d2b18012d2020e3f11e03998814a89400\n",
      "  Building wheel for docopt (setup.py) ... \u001b[?25ldone\n",
      "\u001b[?25h  Created wheel for docopt: filename=docopt-0.6.2-py2.py3-none-any.whl size=13723 sha256=380ccb78850954ba7ba94bf4a8281f9a3ac9df43d315f5fdf3d52437573e0008\n",
      "  Stored in directory: /Users/josephbak/Library/Caches/pip/wheels/4e/29/5e/e5f6f558e24e0d70f6808e3e8fdaf2c04ff597233098afc550\n",
      "  Building wheel for pycountry (pyproject.toml) ... \u001b[?25ldone\n",
      "\u001b[?25h  Created wheel for pycountry: filename=pycountry-22.3.5-py2.py3-none-any.whl size=10681832 sha256=cb998084eb06072cf5b8541fb6dea4f16c5abee774c666a1c35248fc6114ad98\n",
      "  Stored in directory: /Users/josephbak/Library/Caches/pip/wheels/2a/bf/ee/5d97ac1436ea1c4cae0151bf814a663125b63131d9b1b12ae7\n",
      "Successfully built breadability docopt pycountry\n",
      "Installing collected packages: docopt, pycountry, breadability, sumy\n",
      "\u001b[33m  DEPRECATION: Configuring installation scheme with distutils config files is deprecated and will no longer work in the near future. If you are using a Homebrew or Linuxbrew Python, please see discussion at https://github.com/Homebrew/homebrew-core/issues/76621\u001b[0m\u001b[33m\n",
      "\u001b[0m\u001b[33m  DEPRECATION: Configuring installation scheme with distutils config files is deprecated and will no longer work in the near future. If you are using a Homebrew or Linuxbrew Python, please see discussion at https://github.com/Homebrew/homebrew-core/issues/76621\u001b[0m\u001b[33m\n",
      "\u001b[0m\u001b[33m  DEPRECATION: Configuring installation scheme with distutils config files is deprecated and will no longer work in the near future. If you are using a Homebrew or Linuxbrew Python, please see discussion at https://github.com/Homebrew/homebrew-core/issues/76621\u001b[0m\u001b[33m\n",
      "\u001b[0m\u001b[33m  DEPRECATION: Configuring installation scheme with distutils config files is deprecated and will no longer work in the near future. If you are using a Homebrew or Linuxbrew Python, please see discussion at https://github.com/Homebrew/homebrew-core/issues/76621\u001b[0m\u001b[33m\n",
      "\u001b[0m\u001b[33mDEPRECATION: Configuring installation scheme with distutils config files is deprecated and will no longer work in the near future. If you are using a Homebrew or Linuxbrew Python, please see discussion at https://github.com/Homebrew/homebrew-core/issues/76621\u001b[0m\u001b[33m\n",
      "\u001b[0mSuccessfully installed breadability-0.1.20 docopt-0.6.2 pycountry-22.3.5 sumy-0.11.0\n"
     ]
    }
   ],
   "source": [
    "!{sys.executable} -m pip install sumy"
   ]
  },
  {
   "cell_type": "code",
   "execution_count": null,
   "id": "f4d7aebc-8c75-4f98-86b2-8dab9e32ab31",
   "metadata": {},
   "outputs": [],
   "source": []
  },
  {
   "cell_type": "code",
   "execution_count": 49,
   "id": "00a7168e-89b9-4f9f-95b4-babf2e4ed191",
   "metadata": {},
   "outputs": [],
   "source": [
    "import sumy"
   ]
  },
  {
   "cell_type": "code",
   "execution_count": 51,
   "id": "18448d4e-699f-41a4-a931-8b0a5d8e97d4",
   "metadata": {},
   "outputs": [
    {
     "ename": "AttributeError",
     "evalue": "module 'sumy' has no attribute 'summarizers'",
     "output_type": "error",
     "traceback": [
      "\u001b[0;31m---------------------------------------------------------------------------\u001b[0m",
      "\u001b[0;31mAttributeError\u001b[0m                            Traceback (most recent call last)",
      "Input \u001b[0;32mIn [51]\u001b[0m, in \u001b[0;36m<cell line: 1>\u001b[0;34m()\u001b[0m\n\u001b[0;32m----> 1\u001b[0m \u001b[43msumy\u001b[49m\u001b[38;5;241;43m.\u001b[39;49m\u001b[43msummarizers\u001b[49m\n",
      "\u001b[0;31mAttributeError\u001b[0m: module 'sumy' has no attribute 'summarizers'"
     ]
    }
   ],
   "source": [
    "sumy.summarizers"
   ]
  },
  {
   "cell_type": "code",
   "execution_count": 53,
   "id": "63705983-472a-470c-84a7-0a0e4daf9f8a",
   "metadata": {},
   "outputs": [],
   "source": [
    "# import libraries\n",
    "from bs4 import BeautifulSoup\n",
    "import requests\n",
    "import pandas as pd\n",
    "from newsplease import NewsPlease\n",
    "\n",
    "# packages for summarization\n",
    "import gensim\n",
    "#from gensim.summarization import summarize\n",
    "import summa\n",
    "from summa.summarizer import summarize\n",
    "\n"
   ]
  },
  {
   "cell_type": "code",
   "execution_count": null,
   "id": "66cba91d-581e-40d5-b5db-1565b8d9d05a",
   "metadata": {},
   "outputs": [],
   "source": []
  },
  {
   "cell_type": "code",
   "execution_count": 2,
   "id": "77728ae9-ce20-4cd0-8275-062ce2f11b67",
   "metadata": {},
   "outputs": [],
   "source": [
    "from GoogleNews import GoogleNews\n",
    "\n",
    "googlenews = GoogleNews(lang='en', period='1d')\n",
    "googlenews.get_news('something')"
   ]
  },
  {
   "cell_type": "code",
   "execution_count": 3,
   "id": "53d09bd7-fa82-443e-b646-516950c98a3e",
   "metadata": {},
   "outputs": [
    {
     "data": {
      "text/plain": [
       "<GoogleNews.GoogleNews at 0x112043c10>"
      ]
     },
     "execution_count": 3,
     "metadata": {},
     "output_type": "execute_result"
    }
   ],
   "source": [
    "googlenews"
   ]
  },
  {
   "cell_type": "code",
   "execution_count": 2,
   "id": "36041059-7a0b-41a1-8c6f-dc6b69427a1b",
   "metadata": {},
   "outputs": [
    {
     "name": "stdout",
     "output_type": "stream",
     "text": [
      "Top News: US & International Top News Stories Today\n"
     ]
    }
   ],
   "source": [
    "from newsplease import NewsPlease\n",
    "article = NewsPlease.from_url('https://apnews.com/hub/ap-top-news')\n",
    "print(article.title)"
   ]
  },
  {
   "cell_type": "code",
   "execution_count": 3,
   "id": "a8d21862-8f88-41a2-826b-6af9713e9920",
   "metadata": {
    "tags": []
   },
   "outputs": [
    {
     "name": "stdout",
     "output_type": "stream",
     "text": [
      "Anti-abortion activists will have multiple reasons to celebrate — and some reasons for unease — when they gather Friday in Washington for the annual March for Life.\n",
      "The march, which includes a rally drawing abortion opponents from across the nation, has been held annually since January 1974 — a year after the U.S.\n"
     ]
    }
   ],
   "source": [
    "print(article.maintext)"
   ]
  },
  {
   "cell_type": "code",
   "execution_count": 4,
   "id": "caf19d9a-6f66-4b8e-b4b4-74891cb8a212",
   "metadata": {
    "tags": []
   },
   "outputs": [
    {
     "ename": "NameError",
     "evalue": "name 'GoogleNews' is not defined",
     "output_type": "error",
     "traceback": [
      "\u001b[0;31m---------------------------------------------------------------------------\u001b[0m",
      "\u001b[0;31mNameError\u001b[0m                                 Traceback (most recent call last)",
      "Input \u001b[0;32mIn [4]\u001b[0m, in \u001b[0;36m<cell line: 2>\u001b[0;34m()\u001b[0m\n\u001b[1;32m      1\u001b[0m \u001b[38;5;66;03m#googlenews=GoogleNews(start='05/01/2022',end='05/31/2022')\u001b[39;00m\n\u001b[0;32m----> 2\u001b[0m googlenews\u001b[38;5;241m=\u001b[39m\u001b[43mGoogleNews\u001b[49m()\n\u001b[1;32m      3\u001b[0m googlenews\u001b[38;5;241m.\u001b[39msearch(\u001b[38;5;124m'\u001b[39m\u001b[38;5;124mtech\u001b[39m\u001b[38;5;124m'\u001b[39m)\n\u001b[1;32m      4\u001b[0m result\u001b[38;5;241m=\u001b[39mgooglenews\u001b[38;5;241m.\u001b[39mresult()\n",
      "\u001b[0;31mNameError\u001b[0m: name 'GoogleNews' is not defined"
     ]
    }
   ],
   "source": [
    "#googlenews=GoogleNews(start='05/01/2022',end='05/31/2022')\n",
    "googlenews=GoogleNews()\n",
    "googlenews.search('tech')\n",
    "result=googlenews.result()\n",
    "df=pd.DataFrame(result)\n",
    "print(df.head())"
   ]
  },
  {
   "cell_type": "code",
   "execution_count": null,
   "id": "5069116b-b409-4cea-b359-ad79164b4a5b",
   "metadata": {},
   "outputs": [],
   "source": [
    "print(df['link'].head())"
   ]
  },
  {
   "cell_type": "code",
   "execution_count": null,
   "id": "3546b681-3ec6-4d29-897e-671d9a51c34f",
   "metadata": {},
   "outputs": [],
   "source": []
  },
  {
   "cell_type": "code",
   "execution_count": 5,
   "id": "db945a2a-75c8-4ad1-a7cd-cdf888021520",
   "metadata": {},
   "outputs": [
    {
     "name": "stderr",
     "output_type": "stream",
     "text": [
      "/usr/local/lib/python3.9/site-packages/bs4/__init__.py:404: MarkupResemblesLocatorWarning: The input looks more like a URL than markup. You may want to use an HTTP client like requests to get the document behind the URL, and feed that document to Beautiful Soup.\n",
      "  warnings.warn(\n"
     ]
    }
   ],
   "source": [
    "soup_ap = BeautifulSoup('https://apnews.com/hub/ap-top-news', 'html.parser')\n",
    "#print(soup.prettify())"
   ]
  },
  {
   "cell_type": "code",
   "execution_count": 6,
   "id": "42abcefc-4102-4a64-9100-3cad3fdb477a",
   "metadata": {},
   "outputs": [],
   "source": [
    "# request\n",
    "ap_news_url = 'https://apnews.com'\n",
    "ap_topnews_url = 'https://apnews.com/hub/ap-top-news'\n",
    "r_ap = requests.get(ap_topnews_url)"
   ]
  },
  {
   "cell_type": "code",
   "execution_count": 7,
   "id": "14a35805-6558-4c5e-84e7-f531908ae21a",
   "metadata": {},
   "outputs": [
    {
     "data": {
      "text/plain": [
       "<Response [200]>"
      ]
     },
     "execution_count": 7,
     "metadata": {},
     "output_type": "execute_result"
    }
   ],
   "source": [
    "r_ap"
   ]
  },
  {
   "cell_type": "code",
   "execution_count": 11,
   "id": "779fec22-6d3b-4efc-9d06-bf2d259b0c1c",
   "metadata": {
    "collapsed": true,
    "jupyter": {
     "outputs_hidden": true
    },
    "tags": []
   },
   "outputs": [
    {
     "data": {
      "text/plain": [
       "['https://apnews.com/article/march-for-life-abortion-roe-anniversary-0a7e6ef93091d16307ca935e0ae1d2bd',\n",
       " 'https://apnews.com/article/russia-ukraine-9ec684edb2af6b7b84e67ab5e984e739',\n",
       " 'https://apnews.com/article/drug-crimes-california-goshen-crime-fd32f55c3c2e882f4e7034dff2670125',\n",
       " 'https://apnews.com/article/science-weather-greenland-climate-and-environment-132636c35f162f94038d6be7c38f685c',\n",
       " 'https://apnews.com/article/politics-donald-trump-manhattan-8a1af5c032c56145830b7db8d19bb169',\n",
       " 'https://apnews.com/article/microsoft-job-cuts-18fe0c9b8c9ff856e932e075161b1f43',\n",
       " 'https://apnews.com/article/biden-politics-united-states-government-kentucky-state-fd0cfdcae353e5b9644b6266c7cef27b',\n",
       " 'https://apnews.com/article/massachusetts-wes-moore-frederick-douglass-alex-haley-maryland-309285bcacd61efd93c0928384c10be5',\n",
       " 'https://apnews.com/article/school-safety-education-virginia-newport-news-boards-c6b0f2360b8f083d3be15da85067bbd6',\n",
       " 'https://apnews.com/article/animals-animal-attacks-wales-polar-bears-96bc5f7f89f738547d4a074c29cb1822',\n",
       " 'https://apnews.com/article/politics-new-mexico-state-government-michigan-2022-midterm-elections-fc96f8ea93cfc5107bf4e9bfaaa55482',\n",
       " 'https://apnews.com/article/2023-songwriters-hall-of-fame-c18fb65bf50c71c685bfcf6fff3bac64',\n",
       " 'https://apnews.com/article/health-nursing-homes-medication-schizophrenia-ad76a524c9e97c5eaf857d89c4119b34',\n",
       " 'https://apnews.com/article/drug-crimes-rodrigo-duterte-maria-ressa-manila-philippines-ff0aac7c00ce11f0e0c3b8e052302534',\n",
       " 'https://apnews.com/article/health-school-shootings-crime-teaching-080df45fb792de5c825b151315ba8a8c',\n",
       " 'https://apnews.com/article/russia-ukraine-g-20-summit-politics-united-states-government-china-0b2c9169a45a702b88df7f311fdd17ae',\n",
       " 'https://apnews.com/article/crime-utah-suicide-child-abuse-a89f3343e069c5214154ef24cca5b40f',\n",
       " 'https://apnews.com/article/inflation-business-9e3cc464878b8e3cd84c93e27da6e705',\n",
       " 'https://apnews.com/article/england-business-strikes-666ec6b7b15a4a6536c821379a886163',\n",
       " 'https://apnews.com/article/anglicanism-england-wales-marriage-religion-5086b3376929156e5f41461193a67aa5',\n",
       " 'https://apnews.com/article/district-of-columbia-beijing-china-a06c863367720240ea5623512ea9d8d2',\n",
       " 'https://apnews.com/article/us-open-tennis-championships-sports-iga-swiatek-cristina-bucsa-bianca-andreescu-b1f4604039c44cf3454ac52607832ccf',\n",
       " 'https://apnews.com/article/michigan-state-government-education-d10553f4ea6f73eef5585427de0fe370',\n",
       " 'https://apnews.com/article/science-indonesia-earthquakes-tsunamis-f5a1756ecfb86079a12e6030880b7813',\n",
       " 'https://apnews.com/article/china-government-beijing-covid-fdbae7dcd0b25acd9aa3c38ef5930c38',\n",
       " 'https://apnews.com/article/crime-organized-drug-crimes-palermo-europe-65e1b5f8c3a55fbcf1af7cd656e4beb9',\n",
       " 'https://apnews.com/article/new-south-wales-pacific-ocean-zealand-sydney-business-46609f58dfd313f1d3ad4bdaeeba8345',\n",
       " 'https://apnews.com/article/politics-political-refugees-lebanon-4cd018738c42d7d3be499093ebaba67b',\n",
       " 'https://apnews.com/article/animal-attacks-alaska-wales-bears-polar-71ff4cefef1fafc21152fa2567b5758c',\n",
       " 'https://apnews.com/article/colleges-and-universities-minnesota-st-paul-religion-ba1f75e62e6c73eb46117d7f8394b3a4',\n",
       " 'https://apnews.com/article/sports-soccer-corruption-in-fox-corp-production-facilities-6a8b0d63f6f61d7d007edfe5a8abb8d0',\n",
       " 'https://apnews.com/article/mexico-government-united-states-legal-proceedings-caribbean-44150ba915e6cb7157125f0dd87c546a',\n",
       " 'https://apnews.com/article/accidents-nepal-02c418467d273a3f43ef0d1b16df760f',\n",
       " 'https://apnews.com/article/2023-sundance-film-festival-what-to-expect-eb6024d4d943043a50fb932ac4801e9f',\n",
       " 'https://apnews.com/article/el-paso-crime-capital-punishment-hate-crimes-afddd0e17bb68d2fc3a5eb1dc096e514',\n",
       " 'https://apnews.com/article/russia-ukraine-biden-politics-netherlands-government-united-states-03128d7faeb04340cc8a1421cf6ae42e',\n",
       " 'https://apnews.com/article/elon-musk-tesla-tweets-trial-8a9ffb02a7dd6eb0589f861e3c89067f',\n",
       " 'https://apnews.com/article/biden-politics-united-states-government-us-department-of-justice-5840b75b342d9255d46b9f264789fa2e',\n",
       " 'https://apnews.com/article/drug-crimes-crime-organized-europe-palermo-570d06d11e7b249c84acf6f045ff5136',\n",
       " 'https://apnews.com/article/politics-new-mexico-state-government-crime-albuquerque-1410b516f5b66c18d62342a0d7a9b60f',\n",
       " 'https://apnews.com/article/biden-us-department-of-the-treasury-united-states-government-janet-yellen-business-6fe9b54dcdfea58bead0f4c5f9f89a64',\n",
       " 'https://apnews.com/article/tampa-bay-buccaneers-buffalo-bills-nfl-sports-football-6a20b2a45e2a00d3a22602c007385c93',\n",
       " 'https://apnews.com/article/health-jeremy-renner-nevada-kingstown-832fc60a878e8944e1ad7429e7862863',\n",
       " 'https://apnews.com/article/elon-musk-twitter-inc-technology-san-francisco-european-union-7a82416400545f313ff46c0180e606d7',\n",
       " 'https://apnews.com/article/greta-thunberg-german-mine-protest-a870ba0ba69c7816cc04f13b8be2cb94',\n",
       " 'https://apnews.com/article/daily-show-leslie-jones-a183a4022298e7d4ef245f426c6a6080',\n",
       " 'https://apnews.com/article/sports-soccer-workplace-culture-0f1ec34f1814c95fd9875af3bab86f8e',\n",
       " 'https://apnews.com/article/science-environmental-conservation-guam-climate-and-environment-lizards-1b4e2790b0f341bebd73fa431c1eefaa',\n",
       " 'https://apnews.com/article/technology-detroit-indianapolis-business-50e719fb41ba8716ee582224c1e26225',\n",
       " 'https://apnews.com/article/taiwan-china-hong-kong-eb24f22b99fc777ec9909f6e0c7e322f']"
      ]
     },
     "execution_count": 11,
     "metadata": {},
     "output_type": "execute_result"
    }
   ],
   "source": [
    "soup_ap = BeautifulSoup(r_ap.content, 'html.parser')\n",
    "#print(soup.prettify())\n",
    "atag_ap = soup_ap.find_all('a', attrs={\"data-key\": \"card-headline\"})\n",
    "\n",
    "ap_topnews_list = [ap_news_url + i['href'] for i in atag_ap]\n",
    "ap_topnews_list"
   ]
  },
  {
   "cell_type": "code",
   "execution_count": 12,
   "id": "97317ce7-e12c-41de-9555-78a770e95c69",
   "metadata": {},
   "outputs": [],
   "source": [
    "b = soup_ap.find('a', attrs={\"data-key\": \"card-headline\"})"
   ]
  },
  {
   "cell_type": "code",
   "execution_count": 13,
   "id": "67f79e4e-7699-4590-8ce3-9cefe4c9b359",
   "metadata": {},
   "outputs": [
    {
     "data": {
      "text/plain": [
       "<a class=\"Component-headline-0-2-138\" data-key=\"card-headline\" href=\"/article/march-for-life-abortion-roe-anniversary-0a7e6ef93091d16307ca935e0ae1d2bd\"><h2 class=\"Component-heading-0-2-139 Component-headingMobile-0-2-140 -cardHeading undefined\">US divided over Roe’s repeal as abortion foes gird for march</h2></a>"
      ]
     },
     "execution_count": 13,
     "metadata": {},
     "output_type": "execute_result"
    }
   ],
   "source": [
    "b"
   ]
  },
  {
   "cell_type": "code",
   "execution_count": 15,
   "id": "1c0c209e-e097-4e3f-9c56-046eae535706",
   "metadata": {
    "collapsed": true,
    "jupyter": {
     "outputs_hidden": true
    },
    "tags": []
   },
   "outputs": [
    {
     "name": "stdout",
     "output_type": "stream",
     "text": [
      "/article/march-for-life-abortion-roe-anniversary-0a7e6ef93091d16307ca935e0ae1d2bd\n",
      "/article/russia-ukraine-9ec684edb2af6b7b84e67ab5e984e739\n",
      "/article/drug-crimes-california-goshen-crime-fd32f55c3c2e882f4e7034dff2670125\n",
      "/article/science-weather-greenland-climate-and-environment-132636c35f162f94038d6be7c38f685c\n",
      "/article/politics-donald-trump-manhattan-8a1af5c032c56145830b7db8d19bb169\n",
      "/article/microsoft-job-cuts-18fe0c9b8c9ff856e932e075161b1f43\n",
      "/article/biden-politics-united-states-government-kentucky-state-fd0cfdcae353e5b9644b6266c7cef27b\n",
      "/article/massachusetts-wes-moore-frederick-douglass-alex-haley-maryland-309285bcacd61efd93c0928384c10be5\n",
      "/article/school-safety-education-virginia-newport-news-boards-c6b0f2360b8f083d3be15da85067bbd6\n",
      "/article/animals-animal-attacks-wales-polar-bears-96bc5f7f89f738547d4a074c29cb1822\n",
      "/article/politics-new-mexico-state-government-michigan-2022-midterm-elections-fc96f8ea93cfc5107bf4e9bfaaa55482\n",
      "/article/2023-songwriters-hall-of-fame-c18fb65bf50c71c685bfcf6fff3bac64\n",
      "/article/health-nursing-homes-medication-schizophrenia-ad76a524c9e97c5eaf857d89c4119b34\n",
      "/article/drug-crimes-rodrigo-duterte-maria-ressa-manila-philippines-ff0aac7c00ce11f0e0c3b8e052302534\n",
      "/article/health-school-shootings-crime-teaching-080df45fb792de5c825b151315ba8a8c\n",
      "/article/russia-ukraine-g-20-summit-politics-united-states-government-china-0b2c9169a45a702b88df7f311fdd17ae\n",
      "/article/crime-utah-suicide-child-abuse-a89f3343e069c5214154ef24cca5b40f\n",
      "/article/inflation-business-9e3cc464878b8e3cd84c93e27da6e705\n",
      "/article/england-business-strikes-666ec6b7b15a4a6536c821379a886163\n",
      "/article/anglicanism-england-wales-marriage-religion-5086b3376929156e5f41461193a67aa5\n",
      "/article/district-of-columbia-beijing-china-a06c863367720240ea5623512ea9d8d2\n",
      "/article/us-open-tennis-championships-sports-iga-swiatek-cristina-bucsa-bianca-andreescu-b1f4604039c44cf3454ac52607832ccf\n",
      "/article/michigan-state-government-education-d10553f4ea6f73eef5585427de0fe370\n",
      "/article/science-indonesia-earthquakes-tsunamis-f5a1756ecfb86079a12e6030880b7813\n",
      "/article/china-government-beijing-covid-fdbae7dcd0b25acd9aa3c38ef5930c38\n",
      "/article/crime-organized-drug-crimes-palermo-europe-65e1b5f8c3a55fbcf1af7cd656e4beb9\n",
      "/article/new-south-wales-pacific-ocean-zealand-sydney-business-46609f58dfd313f1d3ad4bdaeeba8345\n",
      "/article/politics-political-refugees-lebanon-4cd018738c42d7d3be499093ebaba67b\n",
      "/article/animal-attacks-alaska-wales-bears-polar-71ff4cefef1fafc21152fa2567b5758c\n",
      "/article/colleges-and-universities-minnesota-st-paul-religion-ba1f75e62e6c73eb46117d7f8394b3a4\n",
      "/article/sports-soccer-corruption-in-fox-corp-production-facilities-6a8b0d63f6f61d7d007edfe5a8abb8d0\n",
      "/article/mexico-government-united-states-legal-proceedings-caribbean-44150ba915e6cb7157125f0dd87c546a\n",
      "/article/accidents-nepal-02c418467d273a3f43ef0d1b16df760f\n",
      "/article/2023-sundance-film-festival-what-to-expect-eb6024d4d943043a50fb932ac4801e9f\n",
      "/article/el-paso-crime-capital-punishment-hate-crimes-afddd0e17bb68d2fc3a5eb1dc096e514\n",
      "/article/russia-ukraine-biden-politics-netherlands-government-united-states-03128d7faeb04340cc8a1421cf6ae42e\n",
      "/article/elon-musk-tesla-tweets-trial-8a9ffb02a7dd6eb0589f861e3c89067f\n",
      "/article/biden-politics-united-states-government-us-department-of-justice-5840b75b342d9255d46b9f264789fa2e\n",
      "/article/drug-crimes-crime-organized-europe-palermo-570d06d11e7b249c84acf6f045ff5136\n",
      "/article/politics-new-mexico-state-government-crime-albuquerque-1410b516f5b66c18d62342a0d7a9b60f\n",
      "/article/biden-us-department-of-the-treasury-united-states-government-janet-yellen-business-6fe9b54dcdfea58bead0f4c5f9f89a64\n",
      "/article/tampa-bay-buccaneers-buffalo-bills-nfl-sports-football-6a20b2a45e2a00d3a22602c007385c93\n",
      "/article/health-jeremy-renner-nevada-kingstown-832fc60a878e8944e1ad7429e7862863\n",
      "/article/elon-musk-twitter-inc-technology-san-francisco-european-union-7a82416400545f313ff46c0180e606d7\n",
      "/article/greta-thunberg-german-mine-protest-a870ba0ba69c7816cc04f13b8be2cb94\n",
      "/article/daily-show-leslie-jones-a183a4022298e7d4ef245f426c6a6080\n",
      "/article/sports-soccer-workplace-culture-0f1ec34f1814c95fd9875af3bab86f8e\n",
      "/article/science-environmental-conservation-guam-climate-and-environment-lizards-1b4e2790b0f341bebd73fa431c1eefaa\n",
      "/article/technology-detroit-indianapolis-business-50e719fb41ba8716ee582224c1e26225\n",
      "/article/taiwan-china-hong-kong-eb24f22b99fc777ec9909f6e0c7e322f\n"
     ]
    }
   ],
   "source": [
    "for a in soup_ap.find_all('a', attrs={\"data-key\": \"card-headline\"}):\n",
    "    print(a['href'])"
   ]
  },
  {
   "cell_type": "code",
   "execution_count": 16,
   "id": "e451e67e-b1d6-443f-a419-7536d16c8454",
   "metadata": {},
   "outputs": [],
   "source": [
    "techcrunch_url = 'https://techcrunch.com'\n",
    "r_tech = requests.get(techcrunch_url)"
   ]
  },
  {
   "cell_type": "code",
   "execution_count": 17,
   "id": "5f519ed0-1430-484b-a95a-188d5f7a186a",
   "metadata": {},
   "outputs": [
    {
     "data": {
      "text/plain": [
       "<Response [200]>"
      ]
     },
     "execution_count": 17,
     "metadata": {},
     "output_type": "execute_result"
    }
   ],
   "source": [
    "r_tech"
   ]
  },
  {
   "cell_type": "code",
   "execution_count": 18,
   "id": "b8fef99b-8833-4fc9-a301-fdcb05e797b9",
   "metadata": {
    "collapsed": true,
    "jupyter": {
     "outputs_hidden": true
    },
    "tags": []
   },
   "outputs": [
    {
     "data": {
      "text/plain": [
       "['https://techcrunch.com/2023/01/17/that-microsoft-deal-isnt-exclusive-video-is-coming-and-more-from-openai-ceo-sam-altman/',\n",
       " 'https://techcrunch.com/2023/01/17/that-microsoft-deal-isnt-exclusive-video-is-coming-and-more-from-openai-ceo-sam-altman/',\n",
       " 'https://techcrunch.com/2023/01/18/wastewater-recycler-membrion-makes-light-work-of-removing-heavy-metals/',\n",
       " 'https://techcrunch.com/2023/01/18/wallapop-the-circular-marketplace-out-of-spain-raised-87m-more-at-a-832m-valuation-led-by-koreas-naver/',\n",
       " 'https://techcrunch.com/2023/01/18/wikipedia-gets-its-first-makeover-in-over-a-decade-and-its-fairly-subtle/',\n",
       " 'https://techcrunch.com/2023/01/18/this-gentle-drone-collects-loose-dna-from-swaying-tree-branches/',\n",
       " 'https://techcrunch.com/2023/01/18/sequoia-capital-195-million-seed-pre-seed-fund/',\n",
       " 'https://techcrunch.com/2023/01/18/losing-the-horn-vcs-think-majority-of-unicorns-arent-worth-1-billion-anymore/',\n",
       " 'https://techcrunch.com/2023/01/18/bitzlato-doj-arrest-crypto/',\n",
       " 'https://techcrunch.com/2023/01/18/lidar-companies-face-a-make-it-or-break-it-year/',\n",
       " 'https://techcrunch.com/2023/01/18/mailchimp-hacked/',\n",
       " 'https://techcrunch.com/2023/01/18/netflixs-rebel-moon-december-2023-release-date/',\n",
       " 'https://techcrunch.com/2023/01/18/solana-co-founder-sees-potential-for-devs-to-lead-its-network-in-2023/',\n",
       " 'https://techcrunch.com/2023/01/18/decodable-wants-to-take-real-time-stream-processing-mainstream/',\n",
       " 'https://techcrunch.com/2023/01/18/bitwarden-acquires-passwordless-dev-to-help-companies-authenticate-users-without-passwords/',\n",
       " 'https://techcrunch.com/2023/01/18/youtube-tv-upgrades-its-live-tv-guide-and-library/',\n",
       " 'https://techcrunch.com/2023/01/18/dear-sophie-what-are-some-fast-options-for-hiring-someone-on-an-expiring-grace-period/',\n",
       " 'https://techcrunch.com/2023/01/18/tiktok-rolls-out-its-state-controlled-media-label-to-40-more-countries/',\n",
       " 'https://techcrunch.com/2023/01/18/boston-dynamics-latest-atlas-video-demos-a-robot-that-run-jump-and-now-grab-and-throw-things/',\n",
       " 'https://techcrunch.com/2023/01/18/sophos-global-layoffs/',\n",
       " 'https://techcrunch.com/2023/01/18/whats-next-for-the-entrepreneur-behind-layoffs-fyi/',\n",
       " 'https://techcrunch.com/2023/01/18/microsoft-announces-10000-job-cuts-nearly-5-of-its-workforce/']"
      ]
     },
     "execution_count": 18,
     "metadata": {},
     "output_type": "execute_result"
    }
   ],
   "source": [
    "soup_tech = BeautifulSoup(r_tech.content, 'html.parser')\n",
    "atag_tech = soup_tech.find_all('a', attrs={\"class\": \"post-block__title__link\"})\n",
    "\n",
    "tech_news_list = [i['href'] for i in atag_tech]\n",
    "tech_news_list"
   ]
  },
  {
   "cell_type": "code",
   "execution_count": 20,
   "id": "3cb45e70-fe78-4459-8861-fe434f1f4af3",
   "metadata": {
    "tags": []
   },
   "outputs": [
    {
     "ename": "TypeError",
     "evalue": "byte indices must be integers or slices, not str",
     "output_type": "error",
     "traceback": [
      "\u001b[0;31m---------------------------------------------------------------------------\u001b[0m",
      "\u001b[0;31mTypeError\u001b[0m                                 Traceback (most recent call last)",
      "Input \u001b[0;32mIn [20]\u001b[0m, in \u001b[0;36m<cell line: 1>\u001b[0;34m()\u001b[0m\n\u001b[1;32m      1\u001b[0m \u001b[38;5;28;01mfor\u001b[39;00m i \u001b[38;5;129;01min\u001b[39;00m r_tech:\n\u001b[0;32m----> 2\u001b[0m     \u001b[38;5;28mprint\u001b[39m(\u001b[43mi\u001b[49m\u001b[43m[\u001b[49m\u001b[38;5;124;43m'\u001b[39;49m\u001b[38;5;124;43mhref\u001b[39;49m\u001b[38;5;124;43m'\u001b[39;49m\u001b[43m]\u001b[49m)\n",
      "\u001b[0;31mTypeError\u001b[0m: byte indices must be integers or slices, not str"
     ]
    }
   ],
   "source": [
    "for i in r_tech:\n",
    "    print(i['href'])"
   ]
  },
  {
   "cell_type": "code",
   "execution_count": 21,
   "id": "f1b5c71e-7cd6-4505-a023-6d296dd571b9",
   "metadata": {
    "collapsed": true,
    "jupyter": {
     "outputs_hidden": true
    },
    "tags": []
   },
   "outputs": [
    {
     "name": "stdout",
     "output_type": "stream",
     "text": [
      "US divided over Roe's repeal as abortion foes gird for march\n",
      "Ukraine helicopter crash kills interior minister, others\n",
      "Shooter stood over California mom holding baby, killed both\n",
      "New ice core analysis shows sharp Greenland warming spike\n",
      "Cohen meets Trump prosecutors amid renewed hush money probe\n",
      "Job cuts in tech sector spread, Microsoft lays off 10,000\n",
      "Biden-McConnell: Personally mismatched, professionally bound\n",
      "Wes Moore sworn in as Maryland's first Black governor\n",
      "Anger grows in Virginia city where first-grader shot teacher\n",
      "Polar bear attack victims young mother and 1-year-old son\n",
      "New Mexico shootings follow two years of election assaults\n",
      "Snoop Dogg, Gloria Estefan, Sade make it to Songwriters Hall\n",
      "Feds to investigate nursing home abuse of antipsychotics\n",
      "Nobel winner Maria Ressa, news outlet cleared of tax evasion\n",
      "Shooting by 6-year-old raises complex cultural questions\n",
      "US, Chinese officials discuss climate, economy, relationship\n",
      "Utah man who killed family faced 2020 abuse investigation\n",
      "Wholesale inflation in US slowed further in December to 6.2%\n",
      "UK nurses stage new walkout as strike wave intensifies\n",
      "Church of England refuses to back same-sex marriage\n",
      "Threats, advantages seen in China's shrinking population\n",
      "Hampered by bad hip, Rafael Nadal loses at Australian Open\n",
      "Deaf student's lawsuit at center of Supreme Court case\n",
      "Quake shakes east Indonesia, south Philippines; no tsunami\n",
      "Lunar New Year rush starts in China after virus rules lifted\n",
      "Fugitive's arrest like a 'quake,' but Mafia very resilient\n",
      "Qantas plane lands safely after mayday call over Pacific\n",
      "Saved from death at sea, Syrian refugees face deportation\n",
      "Polar bear kills woman, boy in remote Alaska village\n",
      "Art professor sues after firing over Prophet Muhammad images\n",
      "Ex-Fox execs go on trial in soccer TV rights bribery case\n",
      "Drug trial starts for Mexico's former top security official\n",
      "Passenger's video captures last moments before Nepal crash\n",
      "After 2 virtual years, Sundance returns to the mountains\n",
      "US won't seek death penalty for alleged Texas Walmart gunman\n",
      "Netherlands says it will send Patriot assistance to Ukraine\n",
      "Jury selected for Elon Musk trial about Tesla buyout tweets\n",
      "White House defends its delayed, limited document disclosure\n",
      "Fugitive's arrest like a 'quake,' but Mafia very resilient\n",
      "Police arrest failed candidate in shootings at Democrats\n",
      "EXPLAINER: How ominous is the debt limit problem?\n",
      "Bucs: Gage in hospital with neck injury, to have more tests\n",
      "Renner says he's home from hospital after snow plow accident\n",
      "Davos organizers: Musk wasn't invited despite what he says\n",
      "Greta Thunberg carried away by police at German mine protest\n",
      "Leslie Jones promises to be herself hosting 'The Daily Show'\n",
      "French soccer president targeted by sexual harassment probe\n",
      "Moving species emerges as last resort as climate warms\n",
      "Fastest Corvette ever is all-wheel-drive gas-electric hybrid\n",
      "China records 1st population fall in decades as births drop\n"
     ]
    }
   ],
   "source": [
    "article = NewsPlease.from_url('https://apnews.com/hub/ap-top-news')\n",
    "for url in ap_topnews_list:\n",
    "    print(NewsPlease.from_url(url).title)"
   ]
  },
  {
   "cell_type": "code",
   "execution_count": 22,
   "id": "a81110c0-013d-40a6-bd39-998bd8ed7133",
   "metadata": {},
   "outputs": [
    {
     "name": "stdout",
     "output_type": "stream",
     "text": [
      "Anti-abortion activists will have multiple reasons to celebrate — and some reasons for unease — when they gather Friday in Washington for the annual March for Life.\n",
      "The march, which includes a rally drawing abortion opponents from across the nation, has been held annually since January 1974 — a year after the U.S.\n"
     ]
    }
   ],
   "source": [
    "print(article.maintext)"
   ]
  },
  {
   "cell_type": "code",
   "execution_count": null,
   "id": "582fc6b6-b64b-4e9f-a3b5-7f614aef020f",
   "metadata": {},
   "outputs": [],
   "source": []
  },
  {
   "cell_type": "code",
   "execution_count": 23,
   "id": "4cd0ee31-3b04-4bcd-85c4-61120bfa82e9",
   "metadata": {},
   "outputs": [],
   "source": [
    "reuters_news_url = 'https://www.reuters.com'\n",
    "reuters_business_url = 'https://www.reuters.com/business/'\n",
    "r_reuters = requests.get(reuters_business_url)"
   ]
  },
  {
   "cell_type": "code",
   "execution_count": 24,
   "id": "dabc5961-e806-4d6a-b7f0-cc75e6cda451",
   "metadata": {},
   "outputs": [
    {
     "data": {
      "text/plain": [
       "<Response [200]>"
      ]
     },
     "execution_count": 24,
     "metadata": {},
     "output_type": "execute_result"
    }
   ],
   "source": [
    "r_reuters"
   ]
  },
  {
   "cell_type": "code",
   "execution_count": 25,
   "id": "84dc5527-1fa7-4d65-9602-fb66d5662bfe",
   "metadata": {
    "collapsed": true,
    "jupyter": {
     "outputs_hidden": true
    },
    "tags": []
   },
   "outputs": [
    {
     "data": {
      "text/plain": [
       "['https://www.reuters.com/world/us/us-announce-international-cryptocurrency-action-statement-2023-01-18/',\n",
       " 'https://www.reuters.com/technology/crypto-firm-genesis-preparing-file-bankruptcy-bloomberg-news-2023-01-18/',\n",
       " 'https://www.reuters.com/business/energy/mexicos-pemex-destroyed-resources-worth-342-million-two-top-fields-2023-01-18/',\n",
       " 'https://www.reuters.com/technology/tesla-video-promoting-self-driving-was-staged-engineer-testifies-2023-01-17/',\n",
       " 'https://www.reuters.com/technology/microsoft-cut-10000-jobs-tech-layoffs-intensify-2023-01-18/',\n",
       " 'https://www.reuters.com/world/europe/russias-current-account-surplus-almost-doubled-2022-central-bank-2023-01-17/',\n",
       " 'https://www.reuters.com/markets/us/futures-edge-higher-with-earnings-underway-united-airlines-rises-2023-01-18/',\n",
       " 'https://www.reuters.com/business/finance/us-treasury-dept-says-has-identified-bitzlato-ltd-money-laundering-concern-2023-01-18/',\n",
       " 'https://www.reuters.com/world/us/us-energy-chief-warns-republicans-that-oil-bill-would-raise-pump-prices-2023-01-18/',\n",
       " 'https://www.reuters.com/business/autos-transportation/carvana-adopts-shareholder-rights-plan-protect-ability-reduce-future-tax-bills-2023-01-17/',\n",
       " 'https://www.reuters.com/business/retail-consumer/amazon-lay-off-staff-us-canada-costa-rica-by-end-day-2023-01-18/',\n",
       " 'https://www.reuters.com/markets/us/us-retail-sales-drop-more-than-expected-december-2023-01-18/',\n",
       " 'https://www.reuters.com/world/us-treasurys-yellen-chinas-liu-meet-zurich-first-in-person-talks-2023-01-18/',\n",
       " 'https://www.reuters.com/business/finance/usain-bolt-seeks-missing-127-mln-jamaica-investment-firm-2023-01-18/',\n",
       " 'https://www.reuters.com/business/retail-consumer/party-city-files-chapter-11-bankruptcy-protection-2023-01-18/',\n",
       " 'https://www.reuters.com/technology/apple-indefinitely-postpones-launch-ar-glasses-bloomberg-news-2023-01-18/',\n",
       " 'https://www.reuters.com/technology/crypto-exchange-coinbase-says-halt-operations-japan-2023-01-18/',\n",
       " 'https://www.reuters.com/technology/ftx-says-415-million-crypto-was-hacked-2023-01-17/',\n",
       " 'https://www.reuters.com/business/aerospace-defense/nasa-awards-425-million-boeing-fuel-efficient-airliner-research-project-2023-01-18/',\n",
       " 'https://www.reuters.com/world/europe/davos-2023-what-you-need-know-about-wef-wednesday-2023-01-18/']"
      ]
     },
     "execution_count": 25,
     "metadata": {},
     "output_type": "execute_result"
    }
   ],
   "source": [
    "soup_reuters = BeautifulSoup(r_reuters.content, 'html.parser')\n",
    "atag_reuters = soup_reuters.find_all('a', attrs={\"data-testid\": \"Heading\"})\n",
    "\n",
    "reuters_business_list = [reuters_news_url + i['href'] for i in atag_reuters]\n",
    "reuters_business_list"
   ]
  },
  {
   "cell_type": "code",
   "execution_count": 26,
   "id": "564fc1c4-3d3a-4614-87dd-7f56e9a9b5f5",
   "metadata": {},
   "outputs": [
    {
     "name": "stdout",
     "output_type": "stream",
     "text": [
      "https://apnews.com/article/march-for-life-abortion-roe-anniversary-0a7e6ef93091d16307ca935e0ae1d2bd\n",
      "https://techcrunch.com/2023/01/17/that-microsoft-deal-isnt-exclusive-video-is-coming-and-more-from-openai-ceo-sam-altman/\n",
      "https://www.reuters.com/world/us/us-announce-international-cryptocurrency-action-statement-2023-01-18/\n"
     ]
    }
   ],
   "source": [
    "first_ap_news_url = ap_topnews_list[0]\n",
    "first_tech_news_url = tech_news_list[0]\n",
    "first_reuters_news_url = reuters_business_list[0]\n",
    "list_of_main_news = [first_ap_news_url, first_tech_news_url, first_reuters_news_url]\n",
    "\n",
    "print(first_ap_news_url)\n",
    "print(first_tech_news_url)\n",
    "print(first_reuters_news_url)"
   ]
  },
  {
   "cell_type": "code",
   "execution_count": 27,
   "id": "0ee59cf2-8ea6-4b1e-8629-fad7c806a254",
   "metadata": {},
   "outputs": [
    {
     "name": "stdout",
     "output_type": "stream",
     "text": [
      "US divided over Roe's repeal as abortion foes gird for march\n",
      "That Microsoft deal isn’t exclusive, video is coming and more from OpenAI CEO Sam Altman\n",
      "U.S. to announce international cryptocurrency action -statement\n"
     ]
    }
   ],
   "source": [
    "for url in list_of_main_news:\n",
    "    print(NewsPlease.from_url(url).title)"
   ]
  },
  {
   "cell_type": "code",
   "execution_count": 39,
   "id": "8e21e4fc-70ab-480a-b161-9705415d7c39",
   "metadata": {},
   "outputs": [],
   "source": [
    "ap_article = NewsPlease.from_url(list_of_main_news[0])\n",
    "tech_article = NewsPlease.from_url(list_of_main_news[1])\n",
    "reuters_article = NewsPlease.from_url(list_of_main_news[2])"
   ]
  },
  {
   "cell_type": "code",
   "execution_count": 40,
   "id": "2a81f7a6-327e-4c08-86d9-34f57db82b4e",
   "metadata": {},
   "outputs": [
    {
     "name": "stdout",
     "output_type": "stream",
     "text": [
      "US divided over Roe's repeal as abortion foes gird for march\n",
      "That Microsoft deal isn’t exclusive, video is coming and more from OpenAI CEO Sam Altman\n",
      "U.S. to announce international cryptocurrency action -statement\n"
     ]
    }
   ],
   "source": [
    "print(ap_article.title)\n",
    "print(tech_article.title)\n",
    "print(reuters_article.title)"
   ]
  },
  {
   "cell_type": "code",
   "execution_count": 35,
   "id": "f96a0aa9-74b0-49b2-8fc7-46a64055b412",
   "metadata": {},
   "outputs": [
    {
     "data": {
      "text/plain": [
       "'Anti-abortion activists will have multiple reasons to celebrate — and some reasons for unease — when they gather Friday in Washington for the annual March for Life. The march, which includes a rally drawing abortion opponents from across the nation, has been held annually since January 1974 — a year after the U.S.'"
      ]
     },
     "execution_count": 35,
     "metadata": {},
     "output_type": "execute_result"
    }
   ],
   "source": [
    "article.description"
   ]
  },
  {
   "cell_type": "code",
   "execution_count": 38,
   "id": "efcb59ff-eed5-4d21-97f3-11a76f906141",
   "metadata": {},
   "outputs": [
    {
     "data": {
      "text/plain": [
       "'https://apnews.com/article/march-for-life-abortion-roe-anniversary-0a7e6ef93091d16307ca935e0ae1d2bd'"
      ]
     },
     "execution_count": 38,
     "metadata": {},
     "output_type": "execute_result"
    }
   ],
   "source": [
    "article.url"
   ]
  },
  {
   "cell_type": "code",
   "execution_count": 60,
   "id": "c1e8e0b5-8456-43c5-800d-d3f5956d08de",
   "metadata": {},
   "outputs": [],
   "source": [
    "article_list = [ap_article, tech_article, reuters_article]"
   ]
  },
  {
   "cell_type": "markdown",
   "id": "44c5423a-daf7-458b-a853-74002bb577df",
   "metadata": {},
   "source": [
    "# Types of text summarization\n",
    "* Extreactive text summarization\n",
    "* Abstractive text summarization"
   ]
  },
  {
   "cell_type": "markdown",
   "id": "e4fd178a-2c8b-4e6d-861e-77cc3ba5c4ab",
   "metadata": {},
   "source": [
    "## TextRank (summa library)"
   ]
  },
  {
   "cell_type": "code",
   "execution_count": 58,
   "id": "208f0ab9-2599-4c94-9198-119965343ff4",
   "metadata": {},
   "outputs": [],
   "source": [
    "import summa\n",
    "from summa.summarizer import summarize"
   ]
  },
  {
   "cell_type": "code",
   "execution_count": 61,
   "id": "22219008-40b5-4d6a-8051-c8010842b261",
   "metadata": {},
   "outputs": [
    {
     "name": "stdout",
     "output_type": "stream",
     "text": [
      "US divided over Roe's repeal as abortion foes gird for march\n",
      "“The approach to winning on abortion in federal races, proven for a decade, is this: state clearly the ambitious consensus pro-life position and contrast that with the extreme view of Democrat opponents,” said Marjorie Dannenfelser, president of SBA Pro-Life America.\n",
      "\n",
      "\n",
      "That Microsoft deal isn’t exclusive, video is coming and more from OpenAI CEO Sam Altman\n",
      "As for when OpenAI plans to release the fourth version of the GPT, the sophisticated language model off which ChatGPT is based, Altman would only say that the hotly anticipated product will “come out at some point when we are confident that we can [release] it safely and responsibly.” He also tried to temper expectations regarding GPT-4, saying that “we don’t have an actual AGI,” meaning artificial general intelligence, or a technology with its own emergent intelligence, versus OpenAI’s current deep learning models that solve problems and identify patterns through trial and error.\n",
      "\n",
      "\n",
      "U.S. to announce international cryptocurrency action -statement\n",
      "WASHINGTON, Jan 18 (Reuters) - The U.S. Justice Department will \"announce a major, international cryptocurrency enforcement action\" on Wednesday, it said in a statement, adding the U.S. Treasury Department will also make an announcement.\n",
      "\"The U.S. Department of the Treasury will also announce an action in this space,\" the statement said.\n",
      "\n",
      "\n"
     ]
    }
   ],
   "source": [
    "for article in article_list:\n",
    "    print(article.title)\n",
    "    print(summarize(article.maintext, language='english', words=50)) # 50 words\n",
    "    print(\"\\n\")"
   ]
  },
  {
   "cell_type": "code",
   "execution_count": 59,
   "id": "9996d119-0925-4b88-8a17-db65d8e1aa70",
   "metadata": {},
   "outputs": [
    {
     "data": {
      "text/plain": [
       "'“The approach to winning on abortion in federal races, proven for a decade, is this: state clearly the ambitious consensus pro-life position and contrast that with the extreme view of Democrat opponents,” said Marjorie Dannenfelser, president of SBA Pro-Life America.'"
      ]
     },
     "execution_count": 59,
     "metadata": {},
     "output_type": "execute_result"
    }
   ],
   "source": [
    "summarize(ap_article.maintext, language='english', words=50)"
   ]
  },
  {
   "cell_type": "markdown",
   "id": "3a181a47-89b2-4c70-a152-75bbd137030f",
   "metadata": {},
   "source": [
    "## LexRank (sumy library)"
   ]
  },
  {
   "cell_type": "code",
   "execution_count": null,
   "id": "bcbadd7a-13df-44c7-8d90-1d360bd251f0",
   "metadata": {},
   "outputs": [],
   "source": []
  }
 ],
 "metadata": {
  "kernelspec": {
   "display_name": "Python 3 (ipykernel)",
   "language": "python",
   "name": "python3"
  },
  "language_info": {
   "codemirror_mode": {
    "name": "ipython",
    "version": 3
   },
   "file_extension": ".py",
   "mimetype": "text/x-python",
   "name": "python",
   "nbconvert_exporter": "python",
   "pygments_lexer": "ipython3",
   "version": "3.9.12"
  }
 },
 "nbformat": 4,
 "nbformat_minor": 5
}
