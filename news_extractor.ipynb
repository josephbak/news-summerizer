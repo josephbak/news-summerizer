{
 "cells": [
  {
   "cell_type": "code",
   "execution_count": 1,
   "id": "089c10f2-69b8-4e77-95fc-6d1899c613be",
   "metadata": {
    "tags": []
   },
   "outputs": [
    {
     "name": "stdout",
     "output_type": "stream",
     "text": [
      "\u001b[33mDEPRECATION: Configuring installation scheme with distutils config files is deprecated and will no longer work in the near future. If you are using a Homebrew or Linuxbrew Python, please see discussion at https://github.com/Homebrew/homebrew-core/issues/76621\u001b[0m\u001b[33m\n",
      "\u001b[0mRequirement already satisfied: GoogleNews in /usr/local/lib/python3.9/site-packages (1.6.5)\n",
      "Requirement already satisfied: dateparser in /usr/local/lib/python3.9/site-packages (from GoogleNews) (1.1.4)\n",
      "Requirement already satisfied: beautifulsoup4 in /usr/local/lib/python3.9/site-packages (from GoogleNews) (4.11.1)\n",
      "Requirement already satisfied: python-dateutil in /usr/local/lib/python3.9/site-packages (from GoogleNews) (2.8.2)\n",
      "Requirement already satisfied: soupsieve>1.2 in /usr/local/lib/python3.9/site-packages (from beautifulsoup4->GoogleNews) (2.3.2.post1)\n",
      "Requirement already satisfied: tzlocal in /usr/local/lib/python3.9/site-packages (from dateparser->GoogleNews) (4.2)\n",
      "Requirement already satisfied: regex!=2019.02.19,!=2021.8.27 in /usr/local/lib/python3.9/site-packages (from dateparser->GoogleNews) (2022.10.31)\n",
      "Requirement already satisfied: pytz in /usr/local/lib/python3.9/site-packages (from dateparser->GoogleNews) (2022.1)\n",
      "Requirement already satisfied: six>=1.5 in /usr/local/lib/python3.9/site-packages (from python-dateutil->GoogleNews) (1.16.0)\n",
      "Requirement already satisfied: pytz-deprecation-shim in /usr/local/lib/python3.9/site-packages (from tzlocal->dateparser->GoogleNews) (0.1.0.post0)\n",
      "Requirement already satisfied: tzdata in /usr/local/lib/python3.9/site-packages (from pytz-deprecation-shim->tzlocal->dateparser->GoogleNews) (2022.6)\n",
      "\u001b[33mDEPRECATION: Configuring installation scheme with distutils config files is deprecated and will no longer work in the near future. If you are using a Homebrew or Linuxbrew Python, please see discussion at https://github.com/Homebrew/homebrew-core/issues/76621\u001b[0m\u001b[33m\n",
      "\u001b[0m"
     ]
    }
   ],
   "source": [
    "import sys\n",
    "!{sys.executable} -m pip install GoogleNews"
   ]
  },
  {
   "cell_type": "code",
   "execution_count": 18,
   "id": "2caf094d-8789-4d49-b0fb-423a157b6f41",
   "metadata": {},
   "outputs": [
    {
     "name": "stdout",
     "output_type": "stream",
     "text": [
      "\u001b[33mDEPRECATION: Configuring installation scheme with distutils config files is deprecated and will no longer work in the near future. If you are using a Homebrew or Linuxbrew Python, please see discussion at https://github.com/Homebrew/homebrew-core/issues/76621\u001b[0m\u001b[33m\n",
      "\u001b[0mRequirement already satisfied: beautifulsoup4 in /usr/local/lib/python3.9/site-packages (4.11.1)\n",
      "Requirement already satisfied: soupsieve>1.2 in /usr/local/lib/python3.9/site-packages (from beautifulsoup4) (2.3.2.post1)\n",
      "\u001b[33mDEPRECATION: Configuring installation scheme with distutils config files is deprecated and will no longer work in the near future. If you are using a Homebrew or Linuxbrew Python, please see discussion at https://github.com/Homebrew/homebrew-core/issues/76621\u001b[0m\u001b[33m\n",
      "\u001b[0m"
     ]
    }
   ],
   "source": [
    "!{sys.executable} -m pip install beautifulsoup4"
   ]
  },
  {
   "cell_type": "code",
   "execution_count": null,
   "id": "d4fc9e55-21ee-4b01-bfd9-6458507f5abf",
   "metadata": {},
   "outputs": [],
   "source": [
    "!{sys.executable} -m pip install news-please"
   ]
  },
  {
   "cell_type": "code",
   "execution_count": 64,
   "id": "63705983-472a-470c-84a7-0a0e4daf9f8a",
   "metadata": {},
   "outputs": [],
   "source": [
    "# import libraries\n",
    "from bs4 import BeautifulSoup\n",
    "import requests\n",
    "import pandas as pd\n",
    "from newsplease import NewsPlease"
   ]
  },
  {
   "cell_type": "code",
   "execution_count": null,
   "id": "66cba91d-581e-40d5-b5db-1565b8d9d05a",
   "metadata": {},
   "outputs": [],
   "source": []
  },
  {
   "cell_type": "code",
   "execution_count": 2,
   "id": "77728ae9-ce20-4cd0-8275-062ce2f11b67",
   "metadata": {},
   "outputs": [],
   "source": [
    "from GoogleNews import GoogleNews\n",
    "\n",
    "googlenews = GoogleNews(lang='en', period='1d')\n",
    "googlenews.get_news('something')"
   ]
  },
  {
   "cell_type": "code",
   "execution_count": 3,
   "id": "53d09bd7-fa82-443e-b646-516950c98a3e",
   "metadata": {},
   "outputs": [
    {
     "data": {
      "text/plain": [
       "<GoogleNews.GoogleNews at 0x112043c10>"
      ]
     },
     "execution_count": 3,
     "metadata": {},
     "output_type": "execute_result"
    }
   ],
   "source": [
    "googlenews"
   ]
  },
  {
   "cell_type": "code",
   "execution_count": 16,
   "id": "36041059-7a0b-41a1-8c6f-dc6b69427a1b",
   "metadata": {},
   "outputs": [
    {
     "name": "stdout",
     "output_type": "stream",
     "text": [
      "Top News: US & International Top News Stories Today\n"
     ]
    }
   ],
   "source": [
    "from newsplease import NewsPlease\n",
    "article = NewsPlease.from_url('https://apnews.com/hub/ap-top-news')\n",
    "print(article.title)"
   ]
  },
  {
   "cell_type": "code",
   "execution_count": 17,
   "id": "a8d21862-8f88-41a2-826b-6af9713e9920",
   "metadata": {
    "tags": []
   },
   "outputs": [
    {
     "name": "stdout",
     "output_type": "stream",
     "text": [
      "For Damar Hamlin’s teammates, peers and everyone in the NFL community, going back to work is not business as usual.\n",
      "Players returned to practice with heavy hearts on Wednesday, two days after Hamlin went into cardiac arrest and needed to be resuscitated on the field during Buffalo’s game at Cincinnati.\n"
     ]
    }
   ],
   "source": [
    "print(article.maintext)"
   ]
  },
  {
   "cell_type": "code",
   "execution_count": 11,
   "id": "caf19d9a-6f66-4b8e-b4b4-74891cb8a212",
   "metadata": {
    "collapsed": true,
    "jupyter": {
     "outputs_hidden": true
    },
    "tags": []
   },
   "outputs": [
    {
     "name": "stdout",
     "output_type": "stream",
     "text": [
      "                                               title                    media  \\\n",
      "0  Why enterprise tech is seen as a safe harbor i...                  Fortune   \n",
      "1  Sony, Honda roll out prototype of 'Afeela' EV ...                  Reuters   \n",
      "2  Amazon Layoffs to Hit Over 18000 Workers, the ...  The Wall Street Journal   \n",
      "3  Texas Tech’s Ardon-Dryer Receives National Sci...                     KCBD   \n",
      "4     Russia, new tech top list of 2023 global risks          Marketplace.org   \n",
      "\n",
      "         date datetime                                               desc  \\\n",
      "0  7 mins ago     None  Enterprise technology could offer a recession-...   \n",
      "1  9 mins ago     None  Japan's Sony on Wednesday unveiled a prototype...   \n",
      "2  1 mins ago     None  Cuts focused on the company's corporate staff ...   \n",
      "3  1 mins ago     None  The NSF grant will fund a three-year project t...   \n",
      "4  3 mins ago     None  Eurasia Group Founder Ian Bremmer talks throug...   \n",
      "\n",
      "                                                link  \\\n",
      "0  https://fortune.com/2023/01/05/enterprise-tech...   \n",
      "1  https://www.reuters.com/business/autos-transpo...   \n",
      "2  https://www.wsj.com/articles/amazon-to-lay-off...   \n",
      "3  https://www.kcbd.com/2023/01/05/texas-techs-ar...   \n",
      "4  https://www.marketplace.org/shows/marketplace-...   \n",
      "\n",
      "                                                 img  \n",
      "0  data:image/gif;base64,R0lGODlhAQABAIAAAP//////...  \n",
      "1  data:image/gif;base64,R0lGODlhAQABAIAAAP//////...  \n",
      "2  data:image/gif;base64,R0lGODlhAQABAIAAAP//////...  \n",
      "3  data:image/gif;base64,R0lGODlhAQABAIAAAP//////...  \n",
      "4  data:image/gif;base64,R0lGODlhAQABAIAAAP//////...  \n"
     ]
    }
   ],
   "source": [
    "#googlenews=GoogleNews(start='05/01/2022',end='05/31/2022')\n",
    "googlenews=GoogleNews()\n",
    "googlenews.search('tech')\n",
    "result=googlenews.result()\n",
    "df=pd.DataFrame(result)\n",
    "print(df.head())"
   ]
  },
  {
   "cell_type": "code",
   "execution_count": 8,
   "id": "5069116b-b409-4cea-b359-ad79164b4a5b",
   "metadata": {},
   "outputs": [
    {
     "name": "stdout",
     "output_type": "stream",
     "text": [
      "0    https://www.nytimes.com/article/covid-variants...\n",
      "1    https://timesofindia.indiatimes.com/india/indi...\n",
      "2    https://timesofindia.indiatimes.com/city/delhi...\n",
      "3    https://www.nbcchicago.com/news/coronavirus/il...\n",
      "4    https://www.msn.com/en-us/health/health-news/t...\n",
      "Name: link, dtype: object\n"
     ]
    }
   ],
   "source": [
    "print(df['link'].head())"
   ]
  },
  {
   "cell_type": "code",
   "execution_count": null,
   "id": "3546b681-3ec6-4d29-897e-671d9a51c34f",
   "metadata": {},
   "outputs": [],
   "source": []
  },
  {
   "cell_type": "code",
   "execution_count": 65,
   "id": "db945a2a-75c8-4ad1-a7cd-cdf888021520",
   "metadata": {},
   "outputs": [
    {
     "name": "stderr",
     "output_type": "stream",
     "text": [
      "/usr/local/lib/python3.9/site-packages/bs4/__init__.py:404: MarkupResemblesLocatorWarning: The input looks more like a URL than markup. You may want to use an HTTP client like requests to get the document behind the URL, and feed that document to Beautiful Soup.\n",
      "  warnings.warn(\n"
     ]
    }
   ],
   "source": [
    "soup_ap = BeautifulSoup('https://apnews.com/hub/ap-top-news', 'html.parser')\n",
    "#print(soup.prettify())"
   ]
  },
  {
   "cell_type": "code",
   "execution_count": 74,
   "id": "42abcefc-4102-4a64-9100-3cad3fdb477a",
   "metadata": {},
   "outputs": [],
   "source": [
    "# request\n",
    "ap_news_url = 'https://apnews.com'\n",
    "ap_topnews_url = 'https://apnews.com/hub/ap-top-news'\n",
    "r_ap = requests.get(ap_topnews_url)"
   ]
  },
  {
   "cell_type": "code",
   "execution_count": 75,
   "id": "14a35805-6558-4c5e-84e7-f531908ae21a",
   "metadata": {},
   "outputs": [
    {
     "data": {
      "text/plain": [
       "<Response [200]>"
      ]
     },
     "execution_count": 75,
     "metadata": {},
     "output_type": "execute_result"
    }
   ],
   "source": [
    "r_ap"
   ]
  },
  {
   "cell_type": "code",
   "execution_count": 76,
   "id": "779fec22-6d3b-4efc-9d06-bf2d259b0c1c",
   "metadata": {
    "collapsed": true,
    "jupyter": {
     "outputs_hidden": true
    },
    "tags": []
   },
   "outputs": [
    {
     "data": {
      "text/plain": [
       "['https://apnews.com/article/house-speaker-mccarthy-vote-updates-7657a07f1545bf53079c9c9f6cef3a45',\n",
       " 'https://apnews.com/article/buffalo-bills-damar-hamlin-updates-c086e472b10b4e79cd24502bcbf2e09b',\n",
       " 'https://apnews.com/article/politics-mexico-immigration-af0643a4fb8f45388fe247e44c9b2c5e',\n",
       " 'https://apnews.com/article/kyiv-russia-ukraine-war-government-7a4df498707bb047d2a322005c861fd0',\n",
       " 'https://apnews.com/article/religion-vatican-city-frank-walter-steinmeier-sergio-mattarella-germany-b660406a0c07d50ba34408a40becc428',\n",
       " 'https://apnews.com/article/politics-health-china-government-beijing-762d314d452875ecc525d5c21dbfa541',\n",
       " 'https://apnews.com/article/utah-education-salt-lake-city-03b4048bf195b027b84c3337c676ce7a',\n",
       " 'https://apnews.com/article/tornadoes-weather-natural-disasters-storms-california-bfeec59db572c1ec1591c93b11a0f952',\n",
       " 'https://apnews.com/article/prince-harry-memoir-prince-william-allegations-e32401f7e23cf38249e093dce5249523',\n",
       " 'https://apnews.com/article/technology-consumer-electronics-show-las-vegas-business-636992098ae9b734356ce5eea794f715',\n",
       " 'https://apnews.com/article/idaho-pennsylvania-indiana-education-homicide-9051569249b988b5afaa2414aa3f9bc8',\n",
       " 'https://apnews.com/article/2022-midterm-elections-politics-debbie-stabenow-michigan-afb0e42225f76bd8def5eab701ae1297',\n",
       " 'https://apnews.com/article/new-orleans-saints-buffalo-bills-joe-burrow-green-bay-packers-cleveland-browns-51b18329db1e9ce2d4ff4cf0e8b2d4c6',\n",
       " 'https://apnews.com/article/business-981499138d80acc1c0c00ccd67162996',\n",
       " 'https://apnews.com/article/politics-health-russia-ukraine-war-europe-kharkiv-d753058815c977005ad97048ed76b811',\n",
       " 'https://apnews.com/article/russia-ukraine-inflation-syria-protests-and-demonstrations-war-unrest-251336e648c408c14713f7c25ff14b60',\n",
       " 'https://apnews.com/article/health-utah-salt-lake-city-fba1af0a07b5d81ddbde4fd58786b8aa',\n",
       " 'https://apnews.com/article/inflation-business-financial-markets-federal-reserve-system-370f9155278c2f6cd82b1a61fb63ab1f',\n",
       " 'https://apnews.com/article/house-speaker-vote-updates-669e23dc963da9579ab10e4b3da78911',\n",
       " 'https://apnews.com/article/pennsylvania-idaho-crime-education-homicide-467317a3fc21ed83463f49a0263da89d',\n",
       " 'https://apnews.com/article/business-san-francisco-marc-benioff-bbb2f3a09eafdfc7cda54a3b87e538ad',\n",
       " 'https://apnews.com/article/business-auto-industry-953b0c38b86b82dce205161ae05dcd44',\n",
       " 'https://apnews.com/article/buffalo-bills-nfl-sports-damar-hamlin-football-4ff6635920b7e064cadd2697431fadcb',\n",
       " 'https://apnews.com/article/buffalo-bills-nfl-sports-health-damar-hamlin-b1273c5903a1efd3f67c8480feb6b52f',\n",
       " 'https://apnews.com/article/united-states-government-cuba-florida-875b5ffd18563c479543ed77fffe77dd',\n",
       " 'https://apnews.com/article/entertainment-theater-sutton-foster-hugh-jackman-b1780d956c3714e79bb81ff556978222',\n",
       " 'https://apnews.com/article/russia-ukraine-war-government-d809e26412b12fa590f3f81e6b1faeff',\n",
       " 'https://apnews.com/article/kansas-city-chiefs-buffalo-bills-cincinnati-bengals-sports-nfl-football-adbedbd8c828c633108b2c511ac52fd2',\n",
       " 'https://apnews.com/article/technology-science-business-sony-corp-consumer-electronics-show-fa9a53988c69f56439866b7ecd301505',\n",
       " 'https://apnews.com/article/a-man-called-otto-film-reviews-entertainment-movies-tom-hanks-0a3d72b0a165e353a63ba4cab1f51881',\n",
       " 'https://apnews.com/article/education-colleges-and-universities-virginia-asian-americans-12b9856f4d6f52768f6327c442d1acce',\n",
       " 'https://apnews.com/article/politics-united-states-government-cuba-havana-4d6d2e4b6aa719cee40de4cba960cf0f',\n",
       " 'https://apnews.com/article/religion-vatican-city-rome-gardening-308d8f1ef76befd89cf80021ba4388aa',\n",
       " 'https://apnews.com/article/politics-israel-government-benjamin-netanyahu-5b240d4bc5d2fb8f533694fc6b7b7809',\n",
       " 'https://apnews.com/article/buffalo-bills-sports-nfl-football-damar-hamlin-6f788f456c4c153c5c4f9d4ece5b2bfa',\n",
       " 'https://apnews.com/article/politics-health-california-state-government-prisons-b560ec0a0155d8cc13730310e1073d9d',\n",
       " 'https://apnews.com/article/pope-francis-religion-vatican-city-53774bc67250536d9891d64f3d311937',\n",
       " 'https://apnews.com/article/technology-privacy-europe-business-european-union-2f3d73388273e8466917ffd0f09b1fd4',\n",
       " 'https://apnews.com/article/iran-3c705f0c1fd3dd88babd9445d94be627',\n",
       " 'https://apnews.com/article/idaho-crime-homicide-pennsylvania-extradition-bbcc5cd8c41f41c0e736e3d0713ff0bb',\n",
       " 'https://apnews.com/article/lotteries-9d4eed411dd33ee7a1d0827ebeccce22',\n",
       " 'https://apnews.com/article/politics-united-states-government-house-of-representatives-us-republican-party-0cbb37878b9244d393553f000c332895',\n",
       " 'https://apnews.com/article/elon-musk-technology-social-media-jack-dorsey-business-205324882cd3997cb187a369321012de',\n",
       " 'https://apnews.com/article/sports-soccer-fifa-world-cup-brazil-national-team-a2abd6b7a8f605b66467490180a0f31e',\n",
       " 'https://apnews.com/article/crime-legal-proceedings-missouri-st-louis-capital-punishment-b45a31029fa42d9eb67b5b4e1f6a6ffe',\n",
       " 'https://apnews.com/article/politics-sports-health-china-beijing-d9b5f0e1520c899ffe6b614135be73a8',\n",
       " 'https://apnews.com/article/biden-politics-united-states-government-south-korea-a32718713839355b1df94e871df7c312',\n",
       " 'https://apnews.com/article/inflation-business-federal-reserve-system-financial-markets-services-cbf597229a8b4815a384be8fad86e27c']"
      ]
     },
     "execution_count": 76,
     "metadata": {},
     "output_type": "execute_result"
    }
   ],
   "source": [
    "soup_ap = BeautifulSoup(r.content, 'html.parser')\n",
    "#print(soup.prettify())\n",
    "atag_ap = soup_ap.find_all('a', attrs={\"data-key\": \"card-headline\"})\n",
    "\n",
    "ap_topnews_list = [ap_news_url + i['href'] for i in atag_ap]\n",
    "ap_topnews_list"
   ]
  },
  {
   "cell_type": "code",
   "execution_count": 44,
   "id": "97317ce7-e12c-41de-9555-78a770e95c69",
   "metadata": {},
   "outputs": [],
   "source": [
    "b = soup.find('a', attrs={\"data-key\": \"card-headline\"})"
   ]
  },
  {
   "cell_type": "code",
   "execution_count": 45,
   "id": "67f79e4e-7699-4590-8ce3-9cefe4c9b359",
   "metadata": {},
   "outputs": [
    {
     "data": {
      "text/plain": [
       "<a class=\"Component-headline-0-2-138\" data-key=\"card-headline\" href=\"/article/house-speaker-mccarthy-vote-updates-7657a07f1545bf53079c9c9f6cef3a45\"><h2 class=\"Component-heading-0-2-139 Component-headingMobile-0-2-140 -cardHeading undefined\">GOP’s McCarthy pressured to ‘figure out’ speaker race</h2></a>"
      ]
     },
     "execution_count": 45,
     "metadata": {},
     "output_type": "execute_result"
    }
   ],
   "source": [
    "b"
   ]
  },
  {
   "cell_type": "code",
   "execution_count": 77,
   "id": "1c0c209e-e097-4e3f-9c56-046eae535706",
   "metadata": {
    "collapsed": true,
    "jupyter": {
     "outputs_hidden": true
    },
    "tags": []
   },
   "outputs": [
    {
     "name": "stdout",
     "output_type": "stream",
     "text": [
      "/article/house-speaker-mccarthy-vote-updates-7657a07f1545bf53079c9c9f6cef3a45\n",
      "/article/buffalo-bills-damar-hamlin-updates-c086e472b10b4e79cd24502bcbf2e09b\n",
      "/article/politics-mexico-immigration-af0643a4fb8f45388fe247e44c9b2c5e\n",
      "/article/kyiv-russia-ukraine-war-government-7a4df498707bb047d2a322005c861fd0\n",
      "/article/religion-vatican-city-frank-walter-steinmeier-sergio-mattarella-germany-b660406a0c07d50ba34408a40becc428\n",
      "/article/politics-health-china-government-beijing-762d314d452875ecc525d5c21dbfa541\n",
      "/article/utah-education-salt-lake-city-03b4048bf195b027b84c3337c676ce7a\n",
      "/article/tornadoes-weather-natural-disasters-storms-california-bfeec59db572c1ec1591c93b11a0f952\n",
      "/article/prince-harry-memoir-prince-william-allegations-e32401f7e23cf38249e093dce5249523\n",
      "/article/technology-consumer-electronics-show-las-vegas-business-636992098ae9b734356ce5eea794f715\n",
      "/article/idaho-pennsylvania-indiana-education-homicide-9051569249b988b5afaa2414aa3f9bc8\n",
      "/article/2022-midterm-elections-politics-debbie-stabenow-michigan-afb0e42225f76bd8def5eab701ae1297\n",
      "/article/new-orleans-saints-buffalo-bills-joe-burrow-green-bay-packers-cleveland-browns-51b18329db1e9ce2d4ff4cf0e8b2d4c6\n",
      "/article/business-981499138d80acc1c0c00ccd67162996\n",
      "/article/politics-health-russia-ukraine-war-europe-kharkiv-d753058815c977005ad97048ed76b811\n",
      "/article/russia-ukraine-inflation-syria-protests-and-demonstrations-war-unrest-251336e648c408c14713f7c25ff14b60\n",
      "/article/health-utah-salt-lake-city-fba1af0a07b5d81ddbde4fd58786b8aa\n",
      "/article/inflation-business-financial-markets-federal-reserve-system-370f9155278c2f6cd82b1a61fb63ab1f\n",
      "/article/house-speaker-vote-updates-669e23dc963da9579ab10e4b3da78911\n",
      "/article/pennsylvania-idaho-crime-education-homicide-467317a3fc21ed83463f49a0263da89d\n",
      "/article/business-san-francisco-marc-benioff-bbb2f3a09eafdfc7cda54a3b87e538ad\n",
      "/article/business-auto-industry-953b0c38b86b82dce205161ae05dcd44\n",
      "/article/buffalo-bills-nfl-sports-damar-hamlin-football-4ff6635920b7e064cadd2697431fadcb\n",
      "/article/buffalo-bills-nfl-sports-health-damar-hamlin-b1273c5903a1efd3f67c8480feb6b52f\n",
      "/article/united-states-government-cuba-florida-875b5ffd18563c479543ed77fffe77dd\n",
      "/article/entertainment-theater-sutton-foster-hugh-jackman-b1780d956c3714e79bb81ff556978222\n",
      "/article/russia-ukraine-war-government-d809e26412b12fa590f3f81e6b1faeff\n",
      "/article/kansas-city-chiefs-buffalo-bills-cincinnati-bengals-sports-nfl-football-adbedbd8c828c633108b2c511ac52fd2\n",
      "/article/technology-science-business-sony-corp-consumer-electronics-show-fa9a53988c69f56439866b7ecd301505\n",
      "/article/a-man-called-otto-film-reviews-entertainment-movies-tom-hanks-0a3d72b0a165e353a63ba4cab1f51881\n",
      "/article/education-colleges-and-universities-virginia-asian-americans-12b9856f4d6f52768f6327c442d1acce\n",
      "/article/politics-united-states-government-cuba-havana-4d6d2e4b6aa719cee40de4cba960cf0f\n",
      "/article/religion-vatican-city-rome-gardening-308d8f1ef76befd89cf80021ba4388aa\n",
      "/article/politics-israel-government-benjamin-netanyahu-5b240d4bc5d2fb8f533694fc6b7b7809\n",
      "/article/buffalo-bills-sports-nfl-football-damar-hamlin-6f788f456c4c153c5c4f9d4ece5b2bfa\n",
      "/article/politics-health-california-state-government-prisons-b560ec0a0155d8cc13730310e1073d9d\n",
      "/article/pope-francis-religion-vatican-city-53774bc67250536d9891d64f3d311937\n",
      "/article/technology-privacy-europe-business-european-union-2f3d73388273e8466917ffd0f09b1fd4\n",
      "/article/iran-3c705f0c1fd3dd88babd9445d94be627\n",
      "/article/idaho-crime-homicide-pennsylvania-extradition-bbcc5cd8c41f41c0e736e3d0713ff0bb\n",
      "/article/lotteries-9d4eed411dd33ee7a1d0827ebeccce22\n",
      "/article/politics-united-states-government-house-of-representatives-us-republican-party-0cbb37878b9244d393553f000c332895\n",
      "/article/elon-musk-technology-social-media-jack-dorsey-business-205324882cd3997cb187a369321012de\n",
      "/article/sports-soccer-fifa-world-cup-brazil-national-team-a2abd6b7a8f605b66467490180a0f31e\n",
      "/article/crime-legal-proceedings-missouri-st-louis-capital-punishment-b45a31029fa42d9eb67b5b4e1f6a6ffe\n",
      "/article/politics-sports-health-china-beijing-d9b5f0e1520c899ffe6b614135be73a8\n",
      "/article/biden-politics-united-states-government-south-korea-a32718713839355b1df94e871df7c312\n",
      "/article/inflation-business-federal-reserve-system-financial-markets-services-cbf597229a8b4815a384be8fad86e27c\n"
     ]
    }
   ],
   "source": [
    "for a in soup.find_all('a', attrs={\"data-key\": \"card-headline\"}):\n",
    "    print(a['href'])"
   ]
  },
  {
   "cell_type": "code",
   "execution_count": 50,
   "id": "e451e67e-b1d6-443f-a419-7536d16c8454",
   "metadata": {},
   "outputs": [],
   "source": [
    "techcrunch_url = 'https://techcrunch.com'\n",
    "r_tech = requests.get(techcrunch_url)"
   ]
  },
  {
   "cell_type": "code",
   "execution_count": 51,
   "id": "5f519ed0-1430-484b-a95a-188d5f7a186a",
   "metadata": {},
   "outputs": [
    {
     "data": {
      "text/plain": [
       "<Response [200]>"
      ]
     },
     "execution_count": 51,
     "metadata": {},
     "output_type": "execute_result"
    }
   ],
   "source": [
    "r_tech"
   ]
  },
  {
   "cell_type": "code",
   "execution_count": 91,
   "id": "b8fef99b-8833-4fc9-a301-fdcb05e797b9",
   "metadata": {
    "collapsed": true,
    "jupyter": {
     "outputs_hidden": true
    },
    "tags": []
   },
   "outputs": [
    {
     "data": {
      "text/plain": [
       "['https://techcrunch.com/2023/01/04/sony-and-honda-reveal-afeela-their-joint-ev-brand-at-ces/',\n",
       " 'https://techcrunch.com/2023/01/04/sony-and-honda-reveal-afeela-their-joint-ev-brand-at-ces/',\n",
       " 'https://techcrunch.com/2023/01/05/apple-fitness-kickboxing-workouts-sleep-meditation/',\n",
       " 'https://techcrunch.com/2023/01/05/tiktok-in-app-movie-and-tv-pages-powered-by-imdb/',\n",
       " 'https://techcrunch.com/2023/01/05/new-york-attorney-general-sues-former-celsius-ceo-for-defrauding-crypto-investors/',\n",
       " 'https://techcrunch.com/2023/01/05/whatsapp-launches-proxy-support-for-users-globally/',\n",
       " 'https://techcrunch.com/2023/01/05/stellantis-free2move-expands-car-sharing-and-subscriptions-in-u-s/',\n",
       " 'https://techcrunch.com/2023/01/05/toyota-stumbled-as-hyundai-was-stealing-the-successful-prius-playbook/',\n",
       " 'https://techcrunch.com/2023/01/05/vr-comes-of-age-as-rendever-a-mixed-reality-startup-focused-on-the-elderly-acquires-alcove-from-aarp/',\n",
       " 'https://techcrunch.com/2023/01/05/frosty-fundraising-environment-may-change-early-startups-dna-for-the-better/',\n",
       " 'https://techcrunch.com/2023/01/05/ossia-is-taking-its-wireless-power-tech-to-consumers-with-anew-charging-base/',\n",
       " 'https://techcrunch.com/2023/01/05/streamer-plex-finally-ready-to-launch-a-tv-and-movie-rentals-marketplace/',\n",
       " 'https://techcrunch.com/2023/01/05/crypto-losses-in-2022-dropped-51-year-on-year-to-4b/',\n",
       " 'https://techcrunch.com/2023/01/05/picsarts-ai-powered-sketchai-app-turns-images-and-outlines-into-digital-art/',\n",
       " 'https://techcrunch.com/2023/01/05/ring-brings-back-the-peephole-cam-now-starting-at-129/',\n",
       " 'https://techcrunch.com/2023/01/05/alexa-find-an-ev-charging-station/',\n",
       " 'https://techcrunch.com/2023/01/05/labrador-taps-the-echo-show-to-expand-functionality-for-its-eldercare-robot/',\n",
       " 'https://techcrunch.com/2023/01/05/amazon-sidewalk-adds-new-partners-plans-to-open-to-developers-soon/',\n",
       " 'https://techcrunch.com/2023/01/05/heres-a-roundup-of-the-top-ai-powered-products-we-saw-at-ces-2023/',\n",
       " 'https://techcrunch.com/2023/01/05/oneroof-apartment-neighbors/',\n",
       " 'https://techcrunch.com/2023/01/05/4-data-science-predictions-for-2023/',\n",
       " 'https://techcrunch.com/2023/01/05/meetkai-launches-new-room-scanning-tech-and-metaverse-builder/']"
      ]
     },
     "execution_count": 91,
     "metadata": {},
     "output_type": "execute_result"
    }
   ],
   "source": [
    "soup_tech = BeautifulSoup(r_tech.content, 'html.parser')\n",
    "atag_tech = soup_tech.find_all('a', attrs={\"class\": \"post-block__title__link\"})\n",
    "\n",
    "tech_news_list = [i['href'] for i in atag_tech]\n",
    "tech_news_list"
   ]
  },
  {
   "cell_type": "code",
   "execution_count": 63,
   "id": "3cb45e70-fe78-4459-8861-fe434f1f4af3",
   "metadata": {
    "collapsed": true,
    "jupyter": {
     "outputs_hidden": true
    },
    "tags": []
   },
   "outputs": [
    {
     "name": "stdout",
     "output_type": "stream",
     "text": [
      "https://techcrunch.com/2023/01/04/sony-and-honda-reveal-afeela-their-joint-ev-brand-at-ces/\n",
      "https://techcrunch.com/2023/01/04/sony-and-honda-reveal-afeela-their-joint-ev-brand-at-ces/\n",
      "https://techcrunch.com/2023/01/05/apple-fitness-kickboxing-workouts-sleep-meditation/\n",
      "https://techcrunch.com/2023/01/05/tiktok-in-app-movie-and-tv-pages-powered-by-imdb/\n",
      "https://techcrunch.com/2023/01/05/new-york-attorney-general-sues-former-celsius-ceo-for-defrauding-crypto-investors/\n",
      "https://techcrunch.com/2023/01/05/whatsapp-launches-proxy-support-for-users-globally/\n",
      "https://techcrunch.com/2023/01/05/stellantis-free2move-expands-car-sharing-and-subscriptions-in-u-s/\n",
      "https://techcrunch.com/2023/01/05/toyota-stumbled-as-hyundai-was-stealing-the-successful-prius-playbook/\n",
      "https://techcrunch.com/2023/01/05/vr-comes-of-age-as-rendever-a-mixed-reality-startup-focused-on-the-elderly-acquires-alcove-from-aarp/\n",
      "https://techcrunch.com/2023/01/05/frosty-fundraising-environment-may-change-early-startups-dna-for-the-better/\n",
      "https://techcrunch.com/2023/01/05/ossia-is-taking-its-wireless-power-tech-to-consumers-with-anew-charging-base/\n",
      "https://techcrunch.com/2023/01/05/streamer-plex-finally-ready-to-launch-a-tv-and-movie-rentals-marketplace/\n",
      "https://techcrunch.com/2023/01/05/crypto-losses-in-2022-dropped-51-year-on-year-to-4b/\n",
      "https://techcrunch.com/2023/01/05/picsarts-ai-powered-sketchai-app-turns-images-and-outlines-into-digital-art/\n",
      "https://techcrunch.com/2023/01/05/ring-brings-back-the-peephole-cam-now-starting-at-129/\n",
      "https://techcrunch.com/2023/01/05/alexa-find-an-ev-charging-station/\n",
      "https://techcrunch.com/2023/01/05/labrador-taps-the-echo-show-to-expand-functionality-for-its-eldercare-robot/\n",
      "https://techcrunch.com/2023/01/05/amazon-sidewalk-adds-new-partners-plans-to-open-to-developers-soon/\n",
      "https://techcrunch.com/2023/01/05/heres-a-roundup-of-the-top-ai-powered-products-we-saw-at-ces-2023/\n",
      "https://techcrunch.com/2023/01/05/oneroof-apartment-neighbors/\n",
      "https://techcrunch.com/2023/01/05/4-data-science-predictions-for-2023/\n",
      "https://techcrunch.com/2023/01/05/meetkai-launches-new-room-scanning-tech-and-metaverse-builder/\n"
     ]
    }
   ],
   "source": [
    "for i in a_tech:\n",
    "    print(i['href'])"
   ]
  },
  {
   "cell_type": "code",
   "execution_count": 79,
   "id": "f1b5c71e-7cd6-4505-a023-6d296dd571b9",
   "metadata": {
    "collapsed": true,
    "jupyter": {
     "outputs_hidden": true
    },
    "tags": []
   },
   "outputs": [
    {
     "name": "stdout",
     "output_type": "stream",
     "text": [
      "House speaker live updates: Standoff moves into Day 3\n",
      "Bills: Safety Damar Hamlin showing ‘remarkable improvement’\n",
      "Biden toughens border, offers legal path for 30,000 a month\n",
      "Putin orders weekend truce in Ukraine; Kyiv won't take part\n",
      "Faithful mourn Benedict XVI at funeral presided over by pope\n",
      "Beds run out at Beijing hospital as COVID-19 spreads\n",
      "8 dead in Utah murder-suicide after wife sought divorce\n",
      "Evacuations ordered as California storm knocks out power\n",
      "Report: Prince Harry says William attacked him during row\n",
      "Best of CES 2023: Wireless TV, delivery robots and in-car VR\n",
      "Police: Idaho slaying suspect's DNA found at crime scene\n",
      "Stabenow's retirement scrambles Michigan Senate race in 2024\n",
      "Back to work not business as usual for Damar Hamlin's peers\n",
      "US jobless claim applications fall to lowest in 14 weeks\n",
      "Between battles, Ukraine's soldiers have a place to recover\n",
      "EXPLAINER: Why has Syria's economic crisis hit a new low?\n",
      "8 found fatally shot in Utah home, including 5 children\n",
      "Asia shares up as sentiments boosted by Fed minutes, US jobs\n",
      "Live updates: McCarthy's bid for House speaker continues\n",
      "Man charged in university student killings arrives in Idaho\n",
      "Amazon, Salesforce jettison jobs in latest tech worker purge\n",
      "Supply chain woes caused US auto sales to fall 8% last year\n",
      "NFL rallies to support Hamlin as his condition improves\n",
      "Hamlin's collapse spurs new wave of vaccine misinformation\n",
      "Cuban migrants flow into Florida Keys, overwhelm officials\n",
      "A lion roars on Broadway as box office hauls reveal winners\n",
      "Sitting ducks? Russian military flaws seen in troop deaths\n",
      "NFL still considering scheduling options, Week 18 unchanged\n",
      "Best of CES 2023: Electric skates, pet tech and AI for birds\n",
      "Review: A grumpy Tom Hanks stars in 'A Man Called Otto'\n",
      "Virginia attorney general investigating elite high school\n",
      "Facing migration flood, US resumes services at Cuba embassy\n",
      "At Benedict's summer home, a town mourns its beloved visitor\n",
      "Israel's new government unveils plan to weaken Supreme Court\n",
      "Collapse of Bills’ Hamlin deepens Buffalo’s anguish, resolve\n",
      "California trying to find, compensate sterilization victims\n",
      "Some 200,000 turn out over 3 days to view Benedict's body\n",
      "Meta fined 390M euros in latest European privacy crackdown\n",
      "Iran releases Oscar-winning film actress held over protests\n",
      "Idaho slayings suspect agrees to extradition to face charges\n",
      "Mega Millions jackpot climbs to $940M after no winner\n",
      "EXPLAINER: What to expect on Day 2 of House speaker election\n",
      "Twitter says it will relax ban on political advertising\n",
      "Pelé buried at cemetery in Brazilian city he made famous\n",
      "Transgender Missouri inmate executed for fatal stabbing\n",
      "Beijing threatens response to 'unacceptable' virus measures\n",
      "South Korea: Talks with US on management of nukes underway\n",
      "Asian stock markets gain ahead of Fed update\n"
     ]
    }
   ],
   "source": [
    "article = NewsPlease.from_url('https://apnews.com/hub/ap-top-news')\n",
    "for url in ap_topnews_list:\n",
    "    print(NewsPlease.from_url(url).title)"
   ]
  },
  {
   "cell_type": "code",
   "execution_count": 80,
   "id": "a81110c0-013d-40a6-bd39-998bd8ed7133",
   "metadata": {},
   "outputs": [
    {
     "name": "stdout",
     "output_type": "stream",
     "text": [
      "For Damar Hamlin’s teammates, peers and everyone in the NFL community, going back to work is not business as usual.\n",
      "Players returned to practice with heavy hearts on Wednesday, two days after Hamlin went into cardiac arrest and needed to be resuscitated on the field during Buffalo’s game at Cincinnati.\n"
     ]
    }
   ],
   "source": [
    "print(article.maintext)"
   ]
  },
  {
   "cell_type": "code",
   "execution_count": null,
   "id": "582fc6b6-b64b-4e9f-a3b5-7f614aef020f",
   "metadata": {},
   "outputs": [],
   "source": []
  },
  {
   "cell_type": "code",
   "execution_count": 105,
   "id": "4cd0ee31-3b04-4bcd-85c4-61120bfa82e9",
   "metadata": {},
   "outputs": [],
   "source": [
    "reuters_news_url = 'https://www.reuters.com'\n",
    "reuters_business_url = 'https://www.reuters.com/business/'\n",
    "r_reuters = requests.get(reuters_business_url)"
   ]
  },
  {
   "cell_type": "code",
   "execution_count": 106,
   "id": "dabc5961-e806-4d6a-b7f0-cc75e6cda451",
   "metadata": {},
   "outputs": [
    {
     "data": {
      "text/plain": [
       "<Response [200]>"
      ]
     },
     "execution_count": 106,
     "metadata": {},
     "output_type": "execute_result"
    }
   ],
   "source": [
    "r_reuters"
   ]
  },
  {
   "cell_type": "code",
   "execution_count": 107,
   "id": "84dc5527-1fa7-4d65-9602-fb66d5662bfe",
   "metadata": {},
   "outputs": [
    {
     "data": {
      "text/plain": [
       "['https://www.reuters.com/business/retail-consumer/amazon-lay-off-over-17000-workers-wsj-2023-01-04/',\n",
       " 'https://www.reuters.com/markets/us/global-markets-view-usa-2023-01-05/',\n",
       " 'https://www.reuters.com/technology/whatsapp-announces-new-proxy-support-feature-bypass-internet-shutdowns-2023-01-05/',\n",
       " 'https://www.reuters.com/business/retail-consumer/bed-bath-beyond-raises-going-concern-doubt-shares-fall-17-2023-01-05/',\n",
       " 'https://www.reuters.com/business/aerospace-defense/southwest-has-no-solutions-recent-debacle-faces-up-1-bln-revenue-hit-union-2023-01-05/',\n",
       " 'https://www.reuters.com/technology/dell-looks-phase-out-chinese-chips-by-2024-nikkei-2023-01-05/',\n",
       " 'https://www.reuters.com/business/finance/ftxs-former-top-lawyer-aided-us-authorities-bankman-fried-case-2023-01-05/',\n",
       " 'https://www.reuters.com/markets/us/futures-muted-fed-minutes-confirm-more-tightening-ahead-2023-01-05/',\n",
       " 'https://www.reuters.com/business/finance/us-judge-says-celsius-network-owns-most-customer-crypto-deposits-2023-01-05/',\n",
       " 'https://www.reuters.com/business/autos-transportation/mercedes-launch-vehicle-charging-network-starting-north-america-2023-01-05/',\n",
       " 'https://www.reuters.com/technology/amazon-layoff-signals-more-pain-tech-sector-recession-fears-mount-2023-01-05/',\n",
       " 'https://www.reuters.com/business/autos-transportation/tesla-ev-rivals-absorb-costs-after-china-pulls-plug-subsidy-2023-01-05/',\n",
       " 'https://www.reuters.com/markets/us/feds-bullard-says-2023-may-be-year-inflation-surge-wilts-2023-01-05/',\n",
       " 'https://www.reuters.com/business/autos-transportation/bmw-teases-talking-car-that-shifts-colors-like-chameleon-2023-01-05/',\n",
       " 'https://www.reuters.com/technology/silvergate-capitals-crypto-related-deposits-plunge-fourth-quarter-2023-01-05/',\n",
       " 'https://www.reuters.com/markets/us/us-weekly-jobless-claims-four-month-low-layoffs-drop-december-2023-01-05/',\n",
       " 'https://www.reuters.com/technology/new-york-sues-celsius-network-founder-mashinsky-alleges-fraud-2023-01-05/',\n",
       " 'https://www.reuters.com/business/energy/fangtooth-oil-discovery-may-justify-guyanas-7th-platform-hess-ceo-2023-01-05/',\n",
       " 'https://www.reuters.com/business/autos-transportation/qualcomm-salesforce-build-new-connected-vehicle-platform-automakers-2023-01-05/',\n",
       " 'https://www.reuters.com/markets/us/feds-george-it-will-be-key-hold-rates-up-once-hikes-end-2023-01-05/']"
      ]
     },
     "execution_count": 107,
     "metadata": {},
     "output_type": "execute_result"
    }
   ],
   "source": [
    "soup_reuters = BeautifulSoup(r_reuters.content, 'html.parser')\n",
    "atag_reuters = soup_reuters.find_all('a', attrs={\"data-testid\": \"Heading\"})\n",
    "\n",
    "reuters_business_list = [reuters_news_url + i['href'] for i in atag_reuters]\n",
    "reuters_business_list"
   ]
  },
  {
   "cell_type": "code",
   "execution_count": 111,
   "id": "564fc1c4-3d3a-4614-87dd-7f56e9a9b5f5",
   "metadata": {},
   "outputs": [
    {
     "name": "stdout",
     "output_type": "stream",
     "text": [
      "https://apnews.com/article/house-speaker-mccarthy-vote-updates-7657a07f1545bf53079c9c9f6cef3a45\n",
      "https://techcrunch.com/2023/01/04/sony-and-honda-reveal-afeela-their-joint-ev-brand-at-ces/\n",
      "https://www.reuters.com/business/retail-consumer/amazon-lay-off-over-17000-workers-wsj-2023-01-04/\n"
     ]
    }
   ],
   "source": [
    "first_ap_news_url = ap_topnews_list[0]\n",
    "first_tech_news_url = tech_news_list[0]\n",
    "first_reuters_news_url = reuters_business_list[0]\n",
    "list_of_main_news = [first_ap_news_url, first_tech_news_url, first_reuters_news_url]\n",
    "\n",
    "print(first_ap_news_url)\n",
    "print(first_tech_news_url)\n",
    "print(first_reuters_news_url)"
   ]
  },
  {
   "cell_type": "code",
   "execution_count": 112,
   "id": "0ee59cf2-8ea6-4b1e-8629-fad7c806a254",
   "metadata": {},
   "outputs": [
    {
     "name": "stdout",
     "output_type": "stream",
     "text": [
      "House speaker live updates: Standoff moves into Day 3\n",
      "Sony and Honda reveal Afeela, their joint EV brand, at CES\n",
      "Amazon to cut 18,000 jobs as layoffs expand in tech sector\n"
     ]
    }
   ],
   "source": [
    "for url in list_of_main_news:\n",
    "    print(NewsPlease.from_url(url).title)"
   ]
  },
  {
   "cell_type": "code",
   "execution_count": null,
   "id": "8e21e4fc-70ab-480a-b161-9705415d7c39",
   "metadata": {},
   "outputs": [],
   "source": []
  }
 ],
 "metadata": {
  "kernelspec": {
   "display_name": "Python 3 (ipykernel)",
   "language": "python",
   "name": "python3"
  },
  "language_info": {
   "codemirror_mode": {
    "name": "ipython",
    "version": 3
   },
   "file_extension": ".py",
   "mimetype": "text/x-python",
   "name": "python",
   "nbconvert_exporter": "python",
   "pygments_lexer": "ipython3",
   "version": "3.9.12"
  }
 },
 "nbformat": 4,
 "nbformat_minor": 5
}
